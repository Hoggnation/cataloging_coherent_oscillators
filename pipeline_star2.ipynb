{
 "cells": [
  {
   "cell_type": "code",
   "execution_count": 1,
   "id": "508cea32-ac8c-45a6-94d1-e1ae2e3ee8ea",
   "metadata": {},
   "outputs": [],
   "source": [
    "import nana\n",
    "import matplotlib.pyplot as plt\n",
    "from astropy.table import Table\n",
    "from astropy.io import ascii"
   ]
  },
  {
   "cell_type": "code",
   "execution_count": 2,
   "id": "2a3e62ab-9c20-4c3e-ac56-4d4f0fbbc0da",
   "metadata": {},
   "outputs": [],
   "source": [
    "lc, delta_f, sampling_time = nana.star('KIC 7917485')"
   ]
  },
  {
   "cell_type": "code",
   "execution_count": 3,
   "id": "e3502e35-39d4-4e52-8284-221d16498caa",
   "metadata": {},
   "outputs": [],
   "source": [
    "f_max = (3 / (2*sampling_time))\n",
    "f_min = delta_f/3"
   ]
  },
  {
   "cell_type": "code",
   "execution_count": 4,
   "id": "554978e9-96eb-4390-a6f0-a141174ecb82",
   "metadata": {},
   "outputs": [],
   "source": [
    "t_fit, flux_fit, weight_fit = nana.mask_vals(lc)"
   ]
  },
  {
   "cell_type": "code",
   "execution_count": 5,
   "id": "5a0bda15-fb3d-46e3-ac02-69136e91aa20",
   "metadata": {},
   "outputs": [
    {
     "data": {
      "text/plain": [
       "[<matplotlib.lines.Line2D at 0x15b9dd7f0>]"
      ]
     },
     "execution_count": 5,
     "metadata": {},
     "output_type": "execute_result"
    },
    {
     "data": {
      "image/png": "[encoded data removed]",
      "text/plain": [
       "<Figure size 640x480 with 1 Axes>"
      ]
     },
     "metadata": {},
     "output_type": "display_data"
    }
   ],
   "source": [
    "freq_full, power_full = nana.pg_full(f_min, f_max, lc)\n",
    "plt.plot(freq_full, power_full, 'k.')"
   ]
  },
  {
   "cell_type": "code",
   "execution_count": 6,
   "id": "947d1ff3-0807-4695-aeae-3537ee1ea2e5",
   "metadata": {},
   "outputs": [
    {
     "ename": "NameError",
     "evalue": "name 'indices' is not defined",
     "output_type": "error",
     "traceback": [
      "\u001b[0;31m---------------------------------------------------------------------------\u001b[0m",
      "\u001b[0;31mNameError\u001b[0m                                 Traceback (most recent call last)",
      "Cell \u001b[0;32mIn[6], line 2\u001b[0m\n\u001b[1;32m      1\u001b[0m freq_mini, power_mini \u001b[38;5;241m=\u001b[39m nana\u001b[38;5;241m.\u001b[39mpg_mini(f_min, f_max, lc )\n\u001b[0;32m----> 2\u001b[0m plt\u001b[38;5;241m.\u001b[39mscatter(freq_mini[indices], refined_power, color \u001b[38;5;241m=\u001b[39m \u001b[38;5;124m'\u001b[39m\u001b[38;5;124mr\u001b[39m\u001b[38;5;124m'\u001b[39m, marker \u001b[38;5;241m=\u001b[39m \u001b[38;5;124m'\u001b[39m\u001b[38;5;124mo\u001b[39m\u001b[38;5;124m'\u001b[39m)\n\u001b[1;32m      3\u001b[0m plt\u001b[38;5;241m.\u001b[39mplot(freq_mini, power_mini, \u001b[38;5;124m'\u001b[39m\u001b[38;5;124mk.\u001b[39m\u001b[38;5;124m'\u001b[39m)\n",
      "\u001b[0;31mNameError\u001b[0m: name 'indices' is not defined"
     ]
    }
   ],
   "source": [
    "freq_mini, power_mini = nana.pg_mini(f_min, f_max, lc )\n",
    "plt.scatter(freq_mini[indices], refined_power, color = 'r', marker = 'o')\n",
    "plt.plot(freq_mini, power_mini, 'k.')"
   ]
  },
  {
   "cell_type": "code",
   "execution_count": null,
   "id": "ae66a563-02a2-439c-a5f4-60dfd83e5be0",
   "metadata": {},
   "outputs": [],
   "source": [
    "indices = nana.get_filtered_peaks(12, freq_mini, power_mini)"
   ]
  },
  {
   "cell_type": "code",
   "execution_count": null,
   "id": "40b908cd-a3a2-442b-881f-2c79894a8ed0",
   "metadata": {},
   "outputs": [],
   "source": [
    "___, refined_power, second_derivatives = nana.refine_peaks(freq_mini, power_mini, indices)"
   ]
  },
  {
   "cell_type": "code",
   "execution_count": null,
   "id": "63da5ae9-af5e-4e93-bcea-24a4ad3149d7",
   "metadata": {},
   "outputs": [],
   "source": [
    "fc = nana.folding_freq(delta_f, freq_full, power_full, sampling_time, True)\n"
   ]
  },
  {
   "cell_type": "code",
   "execution_count": null,
   "id": "8557c5c1-602a-4cb0-a66c-38ef70560ca2",
   "metadata": {},
   "outputs": [],
   "source": [
    "regions, final_freqs, chi2s = nana.region_and_freq(indices, fc, f_min, freq_mini, power_mini, t_fit, flux_fit, weight_fit)\n",
    "print(final_freqs)\n",
    "print(regions)"
   ]
  },
  {
   "cell_type": "code",
   "execution_count": null,
   "id": "51ff5618-5670-4431-af72-0148f54f2584",
   "metadata": {},
   "outputs": [],
   "source": [
    "a_early, a_late, b_early, b_late = nana.check_coherence(t_fit, flux_fit, weight_fit, final_freqs)"
   ]
  },
  {
   "cell_type": "code",
   "execution_count": null,
   "id": "f3c13b85-a526-4f3b-912e-626766790aff",
   "metadata": {},
   "outputs": [],
   "source": [
    "rate_of_phase, rate_of_amp = nana.change_in_phase_and_amp(a_early, a_late, b_early, b_late, t_fit)"
   ]
  },
  {
   "cell_type": "code",
   "execution_count": null,
   "id": "4a623d6a-4230-4f64-96c7-a65c293b30b2",
   "metadata": {},
   "outputs": [],
   "source": [
    "delta_chi2s = nana.null_chi_squared(t_fit, flux_fit, weight_fit) - chi2s"
   ]
  },
  {
   "cell_type": "code",
   "execution_count": null,
   "id": "5c3601ec-ce9a-436a-a862-cec3013f3800",
   "metadata": {},
   "outputs": [],
   "source": [
    "sharpnesses = nana.sharpness(second_derivatives, refined_power)"
   ]
  },
  {
   "cell_type": "code",
   "execution_count": null,
   "id": "9a0ba785-f654-4177-b7e8-702699b76d8f",
   "metadata": {},
   "outputs": [],
   "source": [
    "sharpnesses"
   ]
  },
  {
   "cell_type": "code",
   "execution_count": null,
   "id": "9ca5a0ca-d244-45ab-8b93-44e2205b660e",
   "metadata": {},
   "outputs": [],
   "source": [
    "delta_chi2s"
   ]
  },
  {
   "cell_type": "code",
   "execution_count": null,
   "id": "07356efa-764f-4cab-9ca3-61549c9352ec",
   "metadata": {},
   "outputs": [],
   "source": [
    "data = Table()\n",
    "\n",
    "\n",
    "data['modes'] = final_freqs\n",
    "data['regions'] = regions\n",
    "data['corresponding_freq_in_region_A'] = refined_freq\n",
    "data['sharpness'] = sharpnesses\n",
    "data['delta_chi_squares'] = delta_chi2s\n",
    "data['rate_of_change_of_phase'] = rate_of_phase\n",
    "data['rate_of_change_of_amplitude'] = rate_of_amp\n",
    "\n",
    "ascii.write(\n",
    "    data,\n",
    "    'stats_star2.csv',\n",
    "    overwrite=True,\n",
    "    format=\"csv\",\n",
    "    formats={\n",
    "        \"modes\": \"{:.10f}\",\n",
    "        \"corresponding_freq_in_region_A\": \"{:.5f}\",\n",
    "        \"sharpness\": \"{:.7e}\",\n",
    "        \"delta_chi_squares\": \"{:.7e}\",\n",
    "        \"rate_of_change_of_phase\": \"{:.7e}\",\n",
    "        \"rate_of_change_of_amplitude\": \"{:.7e}\"\n",
    "    }\n",
    ")\n"
   ]
  },
  {
   "cell_type": "code",
   "execution_count": null,
   "id": "67393a78-021c-4a17-8a99-3bfdf1024f62",
   "metadata": {},
   "outputs": [],
   "source": []
  }
 ],
 "metadata": {
  "kernelspec": {
   "display_name": "Python 3 (ipykernel)",
   "language": "python",
   "name": "python3"
  },
  "language_info": {
   "codemirror_mode": {
    "name": "ipython",
    "version": 3
   },
   "file_extension": ".py",
   "mimetype": "text/x-python",
   "name": "python",
   "nbconvert_exporter": "python",
   "pygments_lexer": "ipython3",
   "version": "3.12.9"
  }
 },
 "nbformat": 4,
 "nbformat_minor": 5
}
