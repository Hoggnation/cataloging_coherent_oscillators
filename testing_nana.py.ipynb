{
 "cells": [
  {
   "cell_type": "code",
   "execution_count": 4,
   "id": "684515fa-5618-41dc-b140-80c01680bfba",
   "metadata": {},
   "outputs": [],
   "source": [
    "%load_ext autoreload\n",
    "%autoreload 2\n",
    "import nana\n",
    "import numpy as np\n",
    "from scipy.signal import find_peaks"
   ]
  },
  {
   "cell_type": "code",
   "execution_count": 6,
   "id": "1b20db47-945e-4687-9337-3fbf150a0ea7",
   "metadata": {},
   "outputs": [],
   "source": [
    "from scipy.signal import find_peaks"
   ]
  },
  {
   "cell_type": "code",
   "execution_count": 8,
   "id": "03ffa1ea-b58e-4dcb-8663-a1f15cc39294",
   "metadata": {},
   "outputs": [
    {
     "name": "stdout",
     "output_type": "stream",
     "text": [
      "Hello world!\n"
     ]
    }
   ],
   "source": [
    "nana.helloworld()"
   ]
  },
  {
   "cell_type": "code",
   "execution_count": 10,
   "id": "6f8d95d1-8480-4e22-ad08-706389922d37",
   "metadata": {},
   "outputs": [
    {
     "data": {
      "text/plain": [
       "True"
      ]
     },
     "execution_count": 10,
     "metadata": {},
     "output_type": "execute_result"
    }
   ],
   "source": [
    "nana.check_inputs([1,2,3,4,5,6,])"
   ]
  },
  {
   "cell_type": "code",
   "execution_count": 12,
   "id": "ef25f1d5-603f-42ea-a0a6-0ba9656a9f56",
   "metadata": {},
   "outputs": [],
   "source": [
    "xs = np.array([1,2,3,4,5,6])\n",
    "ys = np.array([2,3,2,4,6,4])"
   ]
  },
  {
   "cell_type": "code",
   "execution_count": 14,
   "id": "d6d5611b-27b7-4b5e-a6e0-acc5376f8a7f",
   "metadata": {},
   "outputs": [],
   "source": [
    "i = nana.get_started(2,xs,ys)"
   ]
  },
  {
   "cell_type": "code",
   "execution_count": 16,
   "id": "2a79f059-5dbd-4945-ae04-a53cc7bd86df",
   "metadata": {},
   "outputs": [
    {
     "ename": "NameError",
     "evalue": "name 'refine_peak' is not defined",
     "output_type": "error",
     "traceback": [
      "\u001b[0;31m---------------------------------------------------------------------------\u001b[0m",
      "\u001b[0;31mNameError\u001b[0m                                 Traceback (most recent call last)",
      "Cell \u001b[0;32mIn[16], line 1\u001b[0m\n\u001b[0;32m----> 1\u001b[0m \u001b[43mnana\u001b[49m\u001b[38;5;241;43m.\u001b[39;49m\u001b[43mrefine_peaks\u001b[49m\u001b[43m(\u001b[49m\u001b[43mxs\u001b[49m\u001b[43m,\u001b[49m\u001b[43mys\u001b[49m\u001b[43m,\u001b[49m\u001b[43mi\u001b[49m\u001b[43m)\u001b[49m\n",
      "File \u001b[0;32m~/cataloging_coherent_oscillators_kepler/nana.py:29\u001b[0m, in \u001b[0;36mrefine_peaks\u001b[0;34m(xs, ys, indices)\u001b[0m\n\u001b[1;32m     27\u001b[0m \u001b[38;5;28;01mdef\u001b[39;00m \u001b[38;5;21mrefine_peaks\u001b[39m(xs, ys, indices):\n\u001b[1;32m     28\u001b[0m     foo \u001b[38;5;241m=\u001b[39m \u001b[38;5;28;01mlambda\u001b[39;00m i: refine_peak(xs,ys,i)\n\u001b[0;32m---> 29\u001b[0m     \u001b[38;5;28;01mreturn\u001b[39;00m \u001b[38;5;28;43mlist\u001b[39;49m\u001b[43m(\u001b[49m\u001b[38;5;28;43mmap\u001b[39;49m\u001b[43m(\u001b[49m\u001b[43mfoo\u001b[49m\u001b[43m,\u001b[49m\u001b[43mindices\u001b[49m\u001b[43m)\u001b[49m\u001b[43m)\u001b[49m\n",
      "File \u001b[0;32m~/cataloging_coherent_oscillators_kepler/nana.py:28\u001b[0m, in \u001b[0;36mrefine_peaks.<locals>.<lambda>\u001b[0;34m(i)\u001b[0m\n\u001b[1;32m     27\u001b[0m \u001b[38;5;28;01mdef\u001b[39;00m \u001b[38;5;21mrefine_peaks\u001b[39m(xs, ys, indices):\n\u001b[0;32m---> 28\u001b[0m     foo \u001b[38;5;241m=\u001b[39m \u001b[38;5;28;01mlambda\u001b[39;00m i: \u001b[43mrefine_peak\u001b[49m(xs,ys,i)\n\u001b[1;32m     29\u001b[0m     \u001b[38;5;28;01mreturn\u001b[39;00m \u001b[38;5;28mlist\u001b[39m(\u001b[38;5;28mmap\u001b[39m(foo,indices))\n",
      "\u001b[0;31mNameError\u001b[0m: name 'refine_peak' is not defined"
     ]
    }
   ],
   "source": [
    "nana.refine_peaks(xs,ys,i)"
   ]
  },
  {
   "cell_type": "code",
   "execution_count": null,
   "id": "5989455e-3648-43c5-b83f-94095c37b867",
   "metadata": {},
   "outputs": [],
   "source": []
  }
 ],
 "metadata": {
  "kernelspec": {
   "display_name": "Python [conda env:base] *",
   "language": "python",
   "name": "conda-base-py"
  },
  "language_info": {
   "codemirror_mode": {
    "name": "ipython",
    "version": 3
   },
   "file_extension": ".py",
   "mimetype": "text/x-python",
   "name": "python",
   "nbconvert_exporter": "python",
   "pygments_lexer": "ipython3",
   "version": "3.10.16"
  }
 },
 "nbformat": 4,
 "nbformat_minor": 5
}
