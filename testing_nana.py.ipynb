{
 "cells": [
  {
   "cell_type": "code",
   "execution_count": 16,
   "id": "684515fa-5618-41dc-b140-80c01680bfba",
   "metadata": {},
   "outputs": [
    {
     "name": "stdout",
     "output_type": "stream",
     "text": [
      "The autoreload extension is already loaded. To reload it, use:\n",
      "  %reload_ext autoreload\n"
     ]
    }
   ],
   "source": [
    "%load_ext autoreload\n",
    "%autoreload 2\n",
    "import nana"
   ]
  },
  {
   "cell_type": "code",
   "execution_count": 18,
   "id": "1b20db47-945e-4687-9337-3fbf150a0ea7",
   "metadata": {},
   "outputs": [],
   "source": [
    "from scipy.signal import find_peaks"
   ]
  },
  {
   "cell_type": "code",
   "execution_count": 20,
   "id": "03ffa1ea-b58e-4dcb-8663-a1f15cc39294",
   "metadata": {},
   "outputs": [
    {
     "name": "stdout",
     "output_type": "stream",
     "text": [
      "Hello world!\n"
     ]
    }
   ],
   "source": [
    "nana.helloworld()"
   ]
  },
  {
   "cell_type": "code",
   "execution_count": 22,
   "id": "6f8d95d1-8480-4e22-ad08-706389922d37",
   "metadata": {},
   "outputs": [
    {
     "data": {
      "text/plain": [
       "True"
      ]
     },
     "execution_count": 22,
     "metadata": {},
     "output_type": "execute_result"
    }
   ],
   "source": [
    "nana.check_inputs([1,2,3,4,5,6,])"
   ]
  },
  {
   "cell_type": "code",
   "execution_count": 24,
   "id": "ef25f1d5-603f-42ea-a0a6-0ba9656a9f56",
   "metadata": {},
   "outputs": [],
   "source": [
    "xs = np.array([1,2,3,4,5,6])\n",
    "ys = np.array([2,3,2,4,6,4])"
   ]
  },
  {
   "cell_type": "code",
   "execution_count": 26,
   "id": "d6d5611b-27b7-4b5e-a6e0-acc5376f8a7f",
   "metadata": {},
   "outputs": [],
   "source": [
    "i = nana.get_started(2,xs,ys)"
   ]
  },
  {
   "cell_type": "code",
   "execution_count": 28,
   "id": "2a79f059-5dbd-4945-ae04-a53cc7bd86df",
   "metadata": {},
   "outputs": [
    {
     "data": {
      "text/plain": [
       "[(5.0, 6.0), (2.0, 3.0)]"
      ]
     },
     "execution_count": 28,
     "metadata": {},
     "output_type": "execute_result"
    }
   ],
   "source": [
    "nana.refine_peaks(xs,ys,i)"
   ]
  },
  {
   "cell_type": "code",
   "execution_count": 30,
   "id": "5989455e-3648-43c5-b83f-94095c37b867",
   "metadata": {},
   "outputs": [],
   "source": [
    "#yayyyy it works!!!!"
   ]
  }
 ],
 "metadata": {
  "kernelspec": {
   "display_name": "Python [conda env:base] *",
   "language": "python",
   "name": "conda-base-py"
  },
  "language_info": {
   "codemirror_mode": {
    "name": "ipython",
    "version": 3
   },
   "file_extension": ".py",
   "mimetype": "text/x-python",
   "name": "python",
   "nbconvert_exporter": "python",
   "pygments_lexer": "ipython3",
   "version": "3.10.16"
  }
 },
 "nbformat": 4,
 "nbformat_minor": 5
}
