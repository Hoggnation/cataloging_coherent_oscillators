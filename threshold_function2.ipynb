{
 "cells": [
  {
   "cell_type": "code",
   "execution_count": 1,
   "id": "ca6b7b3f-83ca-48ef-a380-ca1a26712f82",
   "metadata": {},
   "outputs": [],
   "source": [
    "import lightkurve as lk\n",
    "import matplotlib.pyplot as plt\n",
    "import numpy as np\n",
    "from scipy.signal import find_peaks\n",
    "import scipy.signal\n",
    "import nana\n",
    "from astropy import units as u"
   ]
  },
  {
   "cell_type": "code",
   "execution_count": 2,
   "id": "a6c1149d-1890-4bb2-8f32-b53d5d1303dc",
   "metadata": {},
   "outputs": [],
   "source": [
    "search_result = lk.search_lightcurve('KIC 5202905', mission='Kepler')\n",
    "lc_collection = search_result.download_all()"
   ]
  },
  {
   "cell_type": "code",
   "execution_count": 3,
   "id": "f8c36d00-2fd4-4389-b17c-3c810c9756c0",
   "metadata": {},
   "outputs": [
    {
     "name": "stdout",
     "output_type": "stream",
     "text": [
      "1470.4622572100852\n",
      "0.0006800582572566702\n"
     ]
    }
   ],
   "source": [
    "lc = lc_collection.stitch()\n",
    "total_observation_time = lc.time[-1] - lc.time[0]\n",
    "print(total_observation_time)\n",
    "delta_f = (1/total_observation_time).value\n",
    "print(delta_f)"
   ]
  },
  {
   "cell_type": "code",
   "execution_count": 4,
   "id": "0ebd5a4d-028f-401c-8d49-9fbb3dc79bec",
   "metadata": {},
   "outputs": [],
   "source": [
    "sampling_rate_days= np.median(np.diff(lc.time))\n",
    "f_max = 1 / (sampling_rate_days) #in days"
   ]
  },
  {
   "cell_type": "code",
   "execution_count": 5,
   "id": "bc50104a-0db4-4dd4-b63a-0f3e4d447bae",
   "metadata": {},
   "outputs": [
    {
     "data": {
      "image/png": "[encoded data removed]",
      "text/plain": [
       "<Figure size 640x480 with 1 Axes>"
      ]
     },
     "metadata": {},
     "output_type": "display_data"
    }
   ],
   "source": [
    "##Example with Fake Data to Get Correct Units\n",
    "##Cannot Strip Units because lightkurve automatically adds units when using the to_periodogram function\n",
    "\n",
    "##using LightKurve Periodogram function, WITH DAYS!\n",
    "T_obs = 1 / delta_f\n",
    "time = np.arange(0, T_obs, sampling_rate_days.value)\n",
    "flux =  1+ 0.01 * np.cos(2 * np.pi * time) + 0.01* np.cos(4 * np.pi * time) + 0.001 * np.random.normal(size=time.shape) #fake flux data\n",
    "\n",
    "lc_fake = lk.LightCurve(time=time, flux=flux) #light curve will automatically assume time is in days\n",
    "frequency_grid_fake = np.arange(delta_f, f_max.value, delta_f) \n",
    "\n",
    "pg_fake2 = lc_fake.to_periodogram(\n",
    "    #method='lombscargle',\n",
    "    normalization='psd',\n",
    "    frequency=frequency_grid_fake\n",
    ")\n",
    "\n",
    "\n",
    "fakefreq2 = np.array(pg_fake2.frequency.to(1/u.day).value) ##adding units here is key!!! otherwise it will automatically plot in microhertz\n",
    "#fakefreq2 = np.array(pg_fake2.frequency.value) #when using this fakefreq it plots in microhertz\n",
    "fakepow2 = np.array(pg_fake2.power.value)  \n",
    "\n",
    "plt.close('all')\n",
    "plt.plot(fakefreq2, fakepow2)\n",
    "plt.xlabel(\"Frequency\")\n",
    "plt.ylabel(\"Power\")\n",
    "plt.title(\"Lomb-Scargle Periodogram with Fake Data\")\n",
    "plt.show()"
   ]
  },
  {
   "cell_type": "code",
   "execution_count": 7,
   "id": "b913cf7c-8464-434c-870f-627e2e0aee89",
   "metadata": {},
   "outputs": [
    {
     "ename": "UnitConversionError",
     "evalue": "Can only apply 'subtract' function to dimensionless quantities when other argument is not a quantity (unless the latter is all zero/infinity/nan).",
     "output_type": "error",
     "traceback": [
      "\u001b[0;31m---------------------------------------------------------------------------\u001b[0m",
      "\u001b[0;31mUnitConversionError\u001b[0m                       Traceback (most recent call last)",
      "Cell \u001b[0;32mIn[7], line 1\u001b[0m\n\u001b[0;32m----> 1\u001b[0m frequency_grid \u001b[38;5;241m=\u001b[39m np\u001b[38;5;241m.\u001b[39marange(delta_f, f_max, delta_f) \n\u001b[1;32m      3\u001b[0m pg_test \u001b[38;5;241m=\u001b[39m lc\u001b[38;5;241m.\u001b[39mto_periodogram(\n\u001b[1;32m      4\u001b[0m     method\u001b[38;5;241m=\u001b[39m\u001b[38;5;124m'\u001b[39m\u001b[38;5;124mlombscargle\u001b[39m\u001b[38;5;124m'\u001b[39m,\n\u001b[1;32m      5\u001b[0m     normalization\u001b[38;5;241m=\u001b[39m\u001b[38;5;124m'\u001b[39m\u001b[38;5;124mpsd\u001b[39m\u001b[38;5;124m'\u001b[39m,\n\u001b[1;32m      6\u001b[0m     frequency\u001b[38;5;241m=\u001b[39mfrequency_grid\n\u001b[1;32m      7\u001b[0m )\n\u001b[1;32m      9\u001b[0m freq_values \u001b[38;5;241m=\u001b[39m np\u001b[38;5;241m.\u001b[39marray(pg_test\u001b[38;5;241m.\u001b[39mfrequency\u001b[38;5;241m.\u001b[39mto(\u001b[38;5;241m1\u001b[39m\u001b[38;5;241m/\u001b[39mu\u001b[38;5;241m.\u001b[39mday)\u001b[38;5;241m.\u001b[39mvalue)  \n",
      "File \u001b[0;32m~/miniconda3/lib/python3.12/site-packages/astropy/units/quantity.py:683\u001b[0m, in \u001b[0;36mQuantity.__array_ufunc__\u001b[0;34m(self, function, method, *inputs, **kwargs)\u001b[0m\n\u001b[1;32m    681\u001b[0m     \u001b[38;5;28;01mreturn\u001b[39;00m \u001b[38;5;28mNotImplemented\u001b[39m\n\u001b[1;32m    682\u001b[0m \u001b[38;5;28;01melse\u001b[39;00m:\n\u001b[0;32m--> 683\u001b[0m     \u001b[38;5;28;01mraise\u001b[39;00m e\n",
      "File \u001b[0;32m~/miniconda3/lib/python3.12/site-packages/astropy/units/quantity.py:628\u001b[0m, in \u001b[0;36mQuantity.__array_ufunc__\u001b[0;34m(self, function, method, *inputs, **kwargs)\u001b[0m\n\u001b[1;32m    623\u001b[0m \u001b[38;5;66;03m# Determine required conversion functions -- to bring the unit of the\u001b[39;00m\n\u001b[1;32m    624\u001b[0m \u001b[38;5;66;03m# input to that expected (e.g., radian for np.sin), or to get\u001b[39;00m\n\u001b[1;32m    625\u001b[0m \u001b[38;5;66;03m# consistent units between two inputs (e.g., in np.add) --\u001b[39;00m\n\u001b[1;32m    626\u001b[0m \u001b[38;5;66;03m# and the unit of the result (or tuple of units for nout > 1).\u001b[39;00m\n\u001b[1;32m    627\u001b[0m \u001b[38;5;28;01mtry\u001b[39;00m:\n\u001b[0;32m--> 628\u001b[0m     converters, unit \u001b[38;5;241m=\u001b[39m converters_and_unit(function, method, \u001b[38;5;241m*\u001b[39minputs)\n\u001b[1;32m    630\u001b[0m     out \u001b[38;5;241m=\u001b[39m kwargs\u001b[38;5;241m.\u001b[39mget(\u001b[38;5;124m\"\u001b[39m\u001b[38;5;124mout\u001b[39m\u001b[38;5;124m\"\u001b[39m)\n\u001b[1;32m    631\u001b[0m     \u001b[38;5;66;03m# Avoid loop back by turning any Quantity output into array views.\u001b[39;00m\n",
      "File \u001b[0;32m~/miniconda3/lib/python3.12/site-packages/astropy/units/quantity_helper/converters.py:195\u001b[0m, in \u001b[0;36mconverters_and_unit\u001b[0;34m(function, method, *args)\u001b[0m\n\u001b[1;32m    193\u001b[0m             converters[i] \u001b[38;5;241m=\u001b[39m \u001b[38;5;28;01mNone\u001b[39;00m\n\u001b[1;32m    194\u001b[0m         \u001b[38;5;28;01melse\u001b[39;00m:\n\u001b[0;32m--> 195\u001b[0m             \u001b[38;5;28;01mraise\u001b[39;00m UnitConversionError(\n\u001b[1;32m    196\u001b[0m                 \u001b[38;5;124mf\u001b[39m\u001b[38;5;124m\"\u001b[39m\u001b[38;5;124mCan only apply \u001b[39m\u001b[38;5;124m'\u001b[39m\u001b[38;5;132;01m{\u001b[39;00mfunction\u001b[38;5;241m.\u001b[39m\u001b[38;5;18m__name__\u001b[39m\u001b[38;5;132;01m}\u001b[39;00m\u001b[38;5;124m'\u001b[39m\u001b[38;5;124m function to \u001b[39m\u001b[38;5;124m\"\u001b[39m\n\u001b[1;32m    197\u001b[0m                 \u001b[38;5;124m\"\u001b[39m\u001b[38;5;124mdimensionless quantities when other argument is not \u001b[39m\u001b[38;5;124m\"\u001b[39m\n\u001b[1;32m    198\u001b[0m                 \u001b[38;5;124m\"\u001b[39m\u001b[38;5;124ma quantity (unless the latter is all zero/infinity/nan).\u001b[39m\u001b[38;5;124m\"\u001b[39m\n\u001b[1;32m    199\u001b[0m             )\n\u001b[1;32m    200\u001b[0m \u001b[38;5;28;01mexcept\u001b[39;00m \u001b[38;5;167;01mTypeError\u001b[39;00m:\n\u001b[1;32m    201\u001b[0m     \u001b[38;5;66;03m# _can_have_arbitrary_unit failed: arg could not be compared\u001b[39;00m\n\u001b[1;32m    202\u001b[0m     \u001b[38;5;66;03m# with zero or checked to be finite. Then, ufunc will fail too.\u001b[39;00m\n\u001b[1;32m    203\u001b[0m     \u001b[38;5;28;01mraise\u001b[39;00m \u001b[38;5;167;01mTypeError\u001b[39;00m(\n\u001b[1;32m    204\u001b[0m         \u001b[38;5;124m\"\u001b[39m\u001b[38;5;124mUnsupported operand type(s) for ufunc \u001b[39m\u001b[38;5;132;01m{}\u001b[39;00m\u001b[38;5;124m: \u001b[39m\u001b[38;5;124m'\u001b[39m\u001b[38;5;132;01m{}\u001b[39;00m\u001b[38;5;124m'\u001b[39m\u001b[38;5;124m\"\u001b[39m\u001b[38;5;241m.\u001b[39mformat(\n\u001b[1;32m    205\u001b[0m             function\u001b[38;5;241m.\u001b[39m\u001b[38;5;18m__name__\u001b[39m,\n\u001b[1;32m    206\u001b[0m             \u001b[38;5;124m\"\u001b[39m\u001b[38;5;124m,\u001b[39m\u001b[38;5;124m\"\u001b[39m\u001b[38;5;241m.\u001b[39mjoin([arg\u001b[38;5;241m.\u001b[39m\u001b[38;5;18m__class__\u001b[39m\u001b[38;5;241m.\u001b[39m\u001b[38;5;18m__name__\u001b[39m \u001b[38;5;28;01mfor\u001b[39;00m arg \u001b[38;5;129;01min\u001b[39;00m args]),\n\u001b[1;32m    207\u001b[0m         )\n\u001b[1;32m    208\u001b[0m     )\n",
      "\u001b[0;31mUnitConversionError\u001b[0m: Can only apply 'subtract' function to dimensionless quantities when other argument is not a quantity (unless the latter is all zero/infinity/nan)."
     ]
    }
   ],
   "source": [
    "frequency_grid = np.arange(delta_f, f_max, delta_f) \n",
    "\n",
    "pg_test = lc.to_periodogram(\n",
    "    method='lombscargle',\n",
    "    normalization='psd',\n",
    "    frequency=frequency_grid\n",
    ")\n",
    "\n",
    "freq_values = np.array(pg_test.frequency.to(1/u.day).value)  \n",
    "freq_values_microhertz = np.array(pg_test.frequency.value)  \n",
    "power_values = np.array(pg_test.power.value)  \n",
    "\n",
    "plt.close('all')\n",
    "\n",
    "plt.figure(figsize=(8, 4))\n",
    "plt.plot(freq_values, power_values, 'k-', lw=0.8) \n",
    "plt.xlabel(\"Frequency (1/d)\")\n",
    "plt.ylabel(\"Power\")\n",
    "plt.title(\"Lomb-Scargle Periodogram\")\n",
    "plt.show()\n"
   ]
  },
  {
   "cell_type": "code",
   "execution_count": 8,
   "id": "13935e6c-631c-4aa1-815d-8c705a6bf050",
   "metadata": {},
   "outputs": [
    {
     "ename": "NameError",
     "evalue": "name 'freq_values' is not defined",
     "output_type": "error",
     "traceback": [
      "\u001b[0;31m---------------------------------------------------------------------------\u001b[0m",
      "\u001b[0;31mNameError\u001b[0m                                 Traceback (most recent call last)",
      "Cell \u001b[0;32mIn[8], line 1\u001b[0m\n\u001b[0;32m----> 1\u001b[0m indices \u001b[38;5;241m=\u001b[39m nana\u001b[38;5;241m.\u001b[39mget_started(\u001b[38;5;241m100\u001b[39m, freq_values, power_values)\n\u001b[1;32m      2\u001b[0m \u001b[38;5;28mprint\u001b[39m(indices)\n\u001b[1;32m      3\u001b[0m \u001b[38;5;28mprint\u001b[39m(\u001b[38;5;28mlen\u001b[39m(indices))\n",
      "\u001b[0;31mNameError\u001b[0m: name 'freq_values' is not defined"
     ]
    }
   ],
   "source": [
    "indices = nana.get_started(100, freq_values, power_values)\n",
    "print(indices)\n",
    "print(len(indices))"
   ]
  },
  {
   "cell_type": "code",
   "execution_count": 9,
   "id": "7736ea1f-015d-47fc-ab6f-fe576b9a12e2",
   "metadata": {},
   "outputs": [],
   "source": [
    "def threshold20(indices, xs, ys): #looking at plus, minus 20 around peak\n",
    "    good_peaks = []\n",
    "    peak_multiples = 0\n",
    "    med_med = []\n",
    "    for i in indices:\n",
    "        leftside = ys[i-20:i]  \n",
    "        rightside = ys[i+1:i+21]\n",
    "        median = np.nanmedian(np.concatenate((leftside,rightside)))\n",
    "        print(\"index:\", i, \"median:\", median,\"multiple:\", ys[i]/median)\n",
    "        peak_multiples += ys[i]/median\n",
    "        med_med.append(ys[i]/median)\n",
    "        if ys[i] > 5*median:\n",
    "            good_peaks.append(i)\n",
    "            print(\"good peak identified\")\n",
    "    print(\"average multiple = \",peak_multiples/len(indices))\n",
    "    median_median = np.nanmedian(med_med)\n",
    "    print(\"median multiple:\", median_median)\n",
    "    return np.array(good_peaks)"
   ]
  },
  {
   "cell_type": "code",
   "execution_count": 10,
   "id": "595023de-4293-434f-af73-7f3c54637b4a",
   "metadata": {},
   "outputs": [
    {
     "ename": "NameError",
     "evalue": "name 'indices' is not defined",
     "output_type": "error",
     "traceback": [
      "\u001b[0;31m---------------------------------------------------------------------------\u001b[0m",
      "\u001b[0;31mNameError\u001b[0m                                 Traceback (most recent call last)",
      "Cell \u001b[0;32mIn[10], line 1\u001b[0m\n\u001b[0;32m----> 1\u001b[0m good_peaks \u001b[38;5;241m=\u001b[39m threshold20(indices, freq_values, power_values)\n",
      "\u001b[0;31mNameError\u001b[0m: name 'indices' is not defined"
     ]
    }
   ],
   "source": [
    "good_peaks = threshold20(indices, freq_values, power_values)"
   ]
  },
  {
   "cell_type": "code",
   "execution_count": 11,
   "id": "a31076d1-3b8a-4f7b-93de-7ca24edf236f",
   "metadata": {},
   "outputs": [],
   "source": [
    "def threshold10(indices, xs, ys): #looking at plus minus 10 around peak\n",
    "    good_peaks = []\n",
    "    peak_multiples = 0\n",
    "    med_med = []\n",
    "    for i in indices:\n",
    "        leftside = ys[i-10:i]  \n",
    "        rightside = ys[i+1:i+11]\n",
    "        median = np.nanmedian(np.concatenate((leftside,rightside)))\n",
    "        print(\"index:\", i, \"median:\", median,\"multiple:\", ys[i]/median)\n",
    "        peak_multiples += ys[i]/median\n",
    "        med_med.append(ys[i]/median)\n",
    "        if ys[i] > 5*median:\n",
    "            good_peaks.append(i)\n",
    "            print(\"good peak identified\")\n",
    "    print(\"average multiple = \",peak_multiples/len(indices))\n",
    "    median_median = np.nanmedian(med_med)\n",
    "    print(\"median multiple:\", median_median)\n",
    "    return np.array(good_peaks)"
   ]
  },
  {
   "cell_type": "code",
   "execution_count": 12,
   "id": "725b6906-4687-4eff-8f8a-eda0e16ae09c",
   "metadata": {},
   "outputs": [
    {
     "ename": "NameError",
     "evalue": "name 'indices' is not defined",
     "output_type": "error",
     "traceback": [
      "\u001b[0;31m---------------------------------------------------------------------------\u001b[0m",
      "\u001b[0;31mNameError\u001b[0m                                 Traceback (most recent call last)",
      "Cell \u001b[0;32mIn[12], line 1\u001b[0m\n\u001b[0;32m----> 1\u001b[0m good_peaks10\u001b[38;5;241m=\u001b[39m threshold10(indices, freq_values, power_values)\n",
      "\u001b[0;31mNameError\u001b[0m: name 'indices' is not defined"
     ]
    }
   ],
   "source": [
    "good_peaks10= threshold10(indices, freq_values, power_values)"
   ]
  },
  {
   "cell_type": "code",
   "execution_count": 13,
   "id": "36848fd3-a8ec-485a-ae30-95eac3c0edc9",
   "metadata": {},
   "outputs": [
    {
     "ename": "NameError",
     "evalue": "name 'freq_values' is not defined",
     "output_type": "error",
     "traceback": [
      "\u001b[0;31m---------------------------------------------------------------------------\u001b[0m",
      "\u001b[0;31mNameError\u001b[0m                                 Traceback (most recent call last)",
      "Cell \u001b[0;32mIn[13], line 2\u001b[0m\n\u001b[1;32m      1\u001b[0m \u001b[38;5;66;03m#top 10 peak indices\u001b[39;00m\n\u001b[0;32m----> 2\u001b[0m topten \u001b[38;5;241m=\u001b[39m  nana\u001b[38;5;241m.\u001b[39mget_started(\u001b[38;5;241m10\u001b[39m, freq_values, power_values)\n\u001b[1;32m      3\u001b[0m \u001b[38;5;28mprint\u001b[39m(topten)\n",
      "\u001b[0;31mNameError\u001b[0m: name 'freq_values' is not defined"
     ]
    }
   ],
   "source": [
    "#top 10 peak indices\n",
    "topten =  nana.get_started(10, freq_values, power_values)\n",
    "print(topten)"
   ]
  },
  {
   "cell_type": "code",
   "execution_count": 14,
   "id": "f1419c5f-de63-49c0-885b-a501e176f3cd",
   "metadata": {},
   "outputs": [
    {
     "ename": "NameError",
     "evalue": "name 'freq_values' is not defined",
     "output_type": "error",
     "traceback": [
      "\u001b[0;31m---------------------------------------------------------------------------\u001b[0m",
      "\u001b[0;31mNameError\u001b[0m                                 Traceback (most recent call last)",
      "Cell \u001b[0;32mIn[14], line 1\u001b[0m\n\u001b[0;32m----> 1\u001b[0m \u001b[38;5;28mprint\u001b[39m(freq_values[topten])\n",
      "\u001b[0;31mNameError\u001b[0m: name 'freq_values' is not defined"
     ]
    }
   ],
   "source": [
    "print(freq_values[topten])"
   ]
  },
  {
   "cell_type": "code",
   "execution_count": 15,
   "id": "2ee5945b-d133-4e31-8515-c17ec33688c2",
   "metadata": {},
   "outputs": [
    {
     "ename": "NameError",
     "evalue": "name 'freq_values' is not defined",
     "output_type": "error",
     "traceback": [
      "\u001b[0;31m---------------------------------------------------------------------------\u001b[0m",
      "\u001b[0;31mNameError\u001b[0m                                 Traceback (most recent call last)",
      "Cell \u001b[0;32mIn[15], line 4\u001b[0m\n\u001b[1;32m      1\u001b[0m \u001b[38;5;66;03m#ratio of  d2y/dx2 at peak) / (y_peak)\u001b[39;00m\n\u001b[1;32m      2\u001b[0m \u001b[38;5;66;03m#I'm expecting ratios 10^6, but now its 10^7\u001b[39;00m\n\u001b[0;32m----> 4\u001b[0m xs_refined, ys_refined, second_derivative \u001b[38;5;241m=\u001b[39m nana\u001b[38;5;241m.\u001b[39mrefine_peaks(freq_values, power_values, topten)\n\u001b[1;32m      5\u001b[0m ratio \u001b[38;5;241m=\u001b[39m (second_derivative\u001b[38;5;241m/\u001b[39mys_refined)\n\u001b[1;32m      6\u001b[0m \u001b[38;5;28mprint\u001b[39m(\u001b[38;5;124m\"\u001b[39m\u001b[38;5;124mthis is ratio of (d2y/dx2 at peak) / (y_peak):\u001b[39m\u001b[38;5;124m\"\u001b[39m, ratio)\n",
      "\u001b[0;31mNameError\u001b[0m: name 'freq_values' is not defined"
     ]
    }
   ],
   "source": [
    "#ratio of  d2y/dx2 at peak) / (y_peak)\n",
    "#I'm expecting ratios 10^6, but now its 10^7\n",
    "\n",
    "xs_refined, ys_refined, second_derivative = nana.refine_peaks(freq_values, power_values, topten)\n",
    "ratio = (second_derivative/ys_refined)\n",
    "print(\"this is ratio of (d2y/dx2 at peak) / (y_peak):\", ratio)"
   ]
  },
  {
   "cell_type": "code",
   "execution_count": 16,
   "id": "cb0b8dbc-278b-4610-ab1c-3d08574a5e74",
   "metadata": {},
   "outputs": [
    {
     "data": {
      "image/png": "[encoded data removed]",
      "text/plain": [
       "<Figure size 640x480 with 1 Axes>"
      ]
     },
     "metadata": {},
     "output_type": "display_data"
    }
   ],
   "source": [
    "##Fake data Generation\n",
    "\n",
    "##using LightKurve Periodogram function, WITH DAYS!\n",
    "time = np.arange(0, T_obs, sampling_rate_days.value)\n",
    "flux =  1+ 0.01 * np.cos(2 * np.pi * time) + 0.01* np.cos(4 * np.pi * time) + 0.001 * np.random.normal(size=time.shape)\n",
    "\n",
    "lc_fake = lk.LightCurve(time=time, flux=flux) #light curve will automatically assume \n",
    "\n",
    "\n",
    "delta_f_new = delta_f/u.day\n",
    "f_max_new = (f_max.value)/u.day\n",
    "frequency_grid_fake = np.arange(delta_f, f_max.value, delta_f) \n",
    "\n",
    "pg_fake2 = lc_fake.to_periodogram(\n",
    "    #method='lombscargle',\n",
    "    normalization='psd',\n",
    "    frequency=frequency_grid_fake\n",
    ")\n",
    "\n",
    "\n",
    "fakefreq2 = np.array(pg_fake2.frequency.to(1/u.day).value) \n",
    "#fakefreq2 = np.array(pg_fake2.frequency.value) \n",
    "fakepow2 = np.array(pg_fake2.power.value)  \n",
    "\n",
    "plt.close('all')\n",
    "plt.plot(fakefreq2, fakepow2)\n",
    "plt.xlabel(\"Frequency (1/day)\")\n",
    "plt.ylabel(\"Power\")\n",
    "plt.title(\"Lomb-Scargle Periodogram with Fake Data\")\n",
    "plt.show()"
   ]
  },
  {
   "cell_type": "code",
   "execution_count": 17,
   "id": "7d7b7e9d-ae73-4484-99e5-00578c489b2f",
   "metadata": {},
   "outputs": [
    {
     "name": "stdout",
     "output_type": "stream",
     "text": [
      "[0.00000000e+00 2.04336009e-02 4.08672017e-02 ... 1.47040192e+03\n",
      " 1.47042235e+03 1.47044279e+03] [1.01951992 1.02009301 1.01995094 ... 0.99445709 0.99702122 0.99907855]\n"
     ]
    }
   ],
   "source": [
    "print(lc_fake.time, lc_fake.flux)"
   ]
  },
  {
   "cell_type": "code",
   "execution_count": null,
   "id": "1d11cd60-c401-42f0-8299-d86a8d03435b",
   "metadata": {},
   "outputs": [],
   "source": []
  },
  {
   "cell_type": "code",
   "execution_count": null,
   "id": "9fa92da1-56a7-44c2-8a6a-e5b8ae424401",
   "metadata": {},
   "outputs": [],
   "source": []
  },
  {
   "cell_type": "code",
   "execution_count": null,
   "id": "0d433598-bcfb-4aac-92bb-f6da19b55b59",
   "metadata": {},
   "outputs": [],
   "source": []
  },
  {
   "cell_type": "code",
   "execution_count": null,
   "id": "4916893f-8b89-4e90-9488-84e9f0d840bb",
   "metadata": {},
   "outputs": [],
   "source": []
  },
  {
   "cell_type": "code",
   "execution_count": null,
   "id": "f57c000b-6517-42d6-9ba8-8d5a3d7316a1",
   "metadata": {},
   "outputs": [],
   "source": []
  }
 ],
 "metadata": {
  "kernelspec": {
   "display_name": "Python 3 (ipykernel)",
   "language": "python",
   "name": "python3"
  },
  "language_info": {
   "codemirror_mode": {
    "name": "ipython",
    "version": 3
   },
   "file_extension": ".py",
   "mimetype": "text/x-python",
   "name": "python",
   "nbconvert_exporter": "python",
   "pygments_lexer": "ipython3",
   "version": "3.12.9"
  }
 },
 "nbformat": 4,
 "nbformat_minor": 5
}
