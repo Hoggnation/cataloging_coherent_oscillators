{
 "cells": [
  {
   "cell_type": "code",
   "execution_count": null,
   "id": "c7f3233a-573e-447b-9708-35c4d342e109",
   "metadata": {},
   "outputs": [],
   "source": [
    "import pandas as pd\n",
    "import matplotlib.pyplot as plt\n",
    "import nana\n",
    "from astropy.table import Table\n",
    "from astropy.io import ascii"
   ]
  },
  {
   "cell_type": "code",
   "execution_count": null,
   "id": "14316094-cd9e-455f-b0dd-707d897d2469",
   "metadata": {},
   "outputs": [],
   "source": [
    "data = pd.read_csv('kplr011360704.dat')\n",
    "data = pd.read_csv('kplr011360704.dat', sep=r'\\s+', header=None, names=['time', 'flux'])"
   ]
  },
  {
   "cell_type": "code",
   "execution_count": null,
   "id": "00a4eb36-b91e-42b0-a5f0-2def7342b7f8",
   "metadata": {},
   "outputs": [],
   "source": [
    "plt.plot(data['time'], data['flux'], 'k-', linewidth = 0.4)\n",
    "plt.xlabel(\"Time\")\n",
    "plt.ylabel(\"Flux\")"
   ]
  },
  {
   "cell_type": "code",
   "execution_count": null,
   "id": "8e662726-36cc-4051-b0f0-0bc07adfab98",
   "metadata": {},
   "outputs": [],
   "source": [
    "lc, delta_f, sampling_time = nana.star('KIC 011360704')"
   ]
  },
  {
   "cell_type": "code",
   "execution_count": null,
   "id": "e1de6648-d7a9-47df-a5c9-30ba5fd7fb0c",
   "metadata": {},
   "outputs": [],
   "source": [
    "f_max = (3 / (2*sampling_time))\n",
    "f_min = delta_f/3"
   ]
  },
  {
   "cell_type": "code",
   "execution_count": null,
   "id": "8ca8e82f-c59e-4627-aee9-b582d73499d4",
   "metadata": {},
   "outputs": [],
   "source": [
    "t_fit, flux_fit, weight_fit = nana.mask_vals(lc)"
   ]
  },
  {
   "cell_type": "code",
   "execution_count": null,
   "id": "47b4e617-eb5c-4a83-95b2-4b7d4c987a7a",
   "metadata": {},
   "outputs": [],
   "source": [
    "freq_full, power_full = nana.pg_full(f_min, f_max, lc)"
   ]
  },
  {
   "cell_type": "code",
   "execution_count": null,
   "id": "1a65c2c2-2fcf-40a4-b035-f62dfa7ddd4e",
   "metadata": {},
   "outputs": [],
   "source": [
    "plt.plot(freq_full, power_full, 'k.')\n",
    "plt.axvline(1/(2*sampling_time))\n",
    "plt.axvline(fc)"
   ]
  },
  {
   "cell_type": "code",
   "execution_count": null,
   "id": "24491ec9-deb1-4fd7-8dc5-482aab8cd570",
   "metadata": {},
   "outputs": [],
   "source": [
    "freq_mini, power_mini = nana.pg_mini(f_min, f_max, lc )"
   ]
  },
  {
   "cell_type": "code",
   "execution_count": null,
   "id": "2b653941-b18e-451d-9541-d97b50a46803",
   "metadata": {},
   "outputs": [],
   "source": [
    "indices = nana.get_filtered_peaks(12, freq_mini, power_mini)"
   ]
  },
  {
   "cell_type": "code",
   "execution_count": null,
   "id": "4ce2e713-f088-4a4f-9175-cf02b179b2c2",
   "metadata": {},
   "outputs": [],
   "source": [
    "refined_freq, refined_power, second_derivatives = nana.refine_peaks(freq_mini, power_mini, indices)"
   ]
  },
  {
   "cell_type": "code",
   "execution_count": null,
   "id": "fc6348d3-4e4a-43d9-8475-7db53308e191",
   "metadata": {},
   "outputs": [],
   "source": [
    "plt.scatter(freq_mini[indices], refined_power, color = 'r', marker = 'o')\n",
    "#plt.axvline(freq_mini[indices[0]])\n",
    "plt.plot(freq_mini, power_mini, 'k.')"
   ]
  },
  {
   "cell_type": "code",
   "execution_count": null,
   "id": "6610cae7-49e3-4fa9-bd46-c9637bbf706d",
   "metadata": {},
   "outputs": [],
   "source": [
    "fc = nana.folding_freq(delta_f, freq_full, power_full, sampling_time, False)"
   ]
  },
  {
   "cell_type": "code",
   "execution_count": null,
   "id": "c1693c1a-30ee-4143-b189-fe9030fa3229",
   "metadata": {},
   "outputs": [],
   "source": [
    "regions, final_freqs, chi2s = nana.region_and_freq(indices, fc, f_min, freq_mini, power_mini, t_fit, flux_fit, weight_fit)"
   ]
  },
  {
   "cell_type": "code",
   "execution_count": null,
   "id": "89c028c4-53af-46e8-a1b0-25948b37275d",
   "metadata": {},
   "outputs": [],
   "source": [
    "a_early, a_late, b_early, b_late = nana.check_coherence(t_fit, flux_fit, weight_fit, final_freqs)"
   ]
  },
  {
   "cell_type": "code",
   "execution_count": null,
   "id": "e1977747-8ae9-4c8b-9ba6-4b2d4efd77bd",
   "metadata": {},
   "outputs": [],
   "source": [
    "rate_of_phase, rate_of_amp = nana.change_in_phase_and_amp(a_early, a_late, b_early, b_late, t_fit)"
   ]
  },
  {
   "cell_type": "code",
   "execution_count": null,
   "id": "59a6f5a7-9962-4740-808b-15c0753d9cac",
   "metadata": {},
   "outputs": [],
   "source": [
    "delta_chi2s = nana.null_chi_squared(t_fit, flux_fit, weight_fit) - chi2s"
   ]
  },
  {
   "cell_type": "code",
   "execution_count": null,
   "id": "84184bd4-7865-4725-aaf2-6d65a5c3e6d5",
   "metadata": {},
   "outputs": [],
   "source": [
    "sharpnesses = nana.sharpness(second_derivatives, refined_power)"
   ]
  },
  {
   "cell_type": "code",
   "execution_count": null,
   "id": "e602b957-c7e1-4699-8d83-3e472d27f0fe",
   "metadata": {},
   "outputs": [],
   "source": [
    "data = Table()\n",
    "\n",
    "\n",
    "data['modes'] = final_freqs\n",
    "data['regions'] = regions\n",
    "data['corresponding_freq_in_region_A'] = refined_freq\n",
    "data['sharpness'] = sharpnesses\n",
    "data['delta_chi_squares'] = delta_chi2s\n",
    "data['rate_of_change_of_phase'] = rate_of_phase\n",
    "data['rate_of_change_of_amplitude'] = rate_of_amp\n",
    "\n",
    "ascii.write(\n",
    "    data,\n",
    "    'aerts_star1.csv',\n",
    "    overwrite=True,\n",
    "    format=\"csv\",\n",
    "    formats={\n",
    "        \"modes\": \"{:.10f}\",\n",
    "        \"corresponding_freq_in_region_A\": \"{:.5f}\",\n",
    "        \"sharpness\": \"{:.7e}\",\n",
    "        \"delta_chi_squares\": \"{:.7e}\",\n",
    "        \"rate_of_change_of_phase\": \"{:.7e}\",\n",
    "        \"rate_of_change_of_amplitude\": \"{:.7e}\"\n",
    "    }\n",
    ")\n"
   ]
  },
  {
   "cell_type": "code",
   "execution_count": null,
   "id": "b89fdced-b0f9-4a6f-9fd8-27b5974f369c",
   "metadata": {},
   "outputs": [],
   "source": [
    "t_fit[1] - t_fit[0]"
   ]
  },
  {
   "cell_type": "code",
   "execution_count": null,
   "id": "115919e4-d63b-4d74-b4df-a709be158509",
   "metadata": {},
   "outputs": [],
   "source": [
    "lc, delta_f, sampling_time = nana.star('kplr011360704')"
   ]
  },
  {
   "cell_type": "code",
   "execution_count": null,
   "id": "c1d25074-b549-4a10-b987-e1fe92c05845",
   "metadata": {},
   "outputs": [],
   "source": [
    "print(lc)"
   ]
  },
  {
   "cell_type": "code",
   "execution_count": null,
   "id": "d2967c5e-7591-4777-9496-9678d351b084",
   "metadata": {},
   "outputs": [],
   "source": [
    "le, delta_f, sampling_time = nana.star('kplr004939281')"
   ]
  },
  {
   "cell_type": "code",
   "execution_count": null,
   "id": "768d3149-e955-45f9-81f0-51153c59706f",
   "metadata": {},
   "outputs": [],
   "source": [
    "print(le)"
   ]
  },
  {
   "cell_type": "code",
   "execution_count": null,
   "id": "1ad2c6df-46f2-464a-ac43-27570d8a2f4c",
   "metadata": {},
   "outputs": [],
   "source": []
  }
 ],
 "metadata": {
  "kernelspec": {
   "display_name": "Python 3 (ipykernel)",
   "language": "python",
   "name": "python3"
  },
  "language_info": {
   "codemirror_mode": {
    "name": "ipython",
    "version": 3
   },
   "file_extension": ".py",
   "mimetype": "text/x-python",
   "name": "python",
   "nbconvert_exporter": "python",
   "pygments_lexer": "ipython3",
   "version": "3.12.9"
  }
 },
 "nbformat": 4,
 "nbformat_minor": 5
}
