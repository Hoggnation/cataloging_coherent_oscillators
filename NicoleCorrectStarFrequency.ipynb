{
 "cells": [
  {
   "cell_type": "code",
   "execution_count": 1,
   "id": "d7535a47-84e9-4585-936e-c2c4c86507b8",
   "metadata": {},
   "outputs": [],
   "source": [
    "from scipy.signal import find_peaks\n",
    "import lightkurve as lk\n",
    "import matplotlib.pyplot as plt\n",
    "import numpy as np\n",
    "from scipy.signal import find_peaks\n",
    "import scipy.signal\n",
    "from astropy import units as u"
   ]
  },
  {
   "cell_type": "code",
   "execution_count": 2,
   "id": "d7ad0122-f592-44c6-9a0c-0a338de152cf",
   "metadata": {},
   "outputs": [],
   "source": [
    "#All Relevant nanapeaks functions\n",
    "\n",
    "def get_started(num_of_peaks, xs, ys): \n",
    "    \"\"\"\n",
    "    \n",
    "    Identifies and returns the indices of the highest peaks in a given dataset.\n",
    "    \n",
    "    Args:\n",
    "        num_of_peaks (int): The number of highest peaks to return.\n",
    "        xs (numpy.ndarray): The x-axis values \n",
    "        ys (numpy.ndarray): The y-axis values\n",
    "\n",
    "    Returns:\n",
    "        numpy array: An array of indices corresponding to the highest peaks in `ys`.\n",
    "\n",
    "    Bugs:\n",
    "        `num_of_peaks` cannot be greater than the number of detected peaks\n",
    "        `xs` or `ys` must be NumPy array\n",
    "\n",
    "    \n",
    "    \"\"\"\n",
    "    indxs, properties = find_peaks(ys)\n",
    "    return indxs[np.argsort(-ys[indxs])[:num_of_peaks]]\n",
    "\n",
    "def check_inputs(xs):\n",
    "    \"\"\"\n",
    "    \n",
    "    Checks whether the input array `xs` is sorted in ascending order.\n",
    "\n",
    "    Args:\n",
    "        xs (numpy.ndarray or list): The input array to check.\n",
    "\n",
    "    Returns:\n",
    "        bool: `True` if `xs` is sorted in ascending order, otherwise `False`.\n",
    "    \n",
    "    \"\"\"\n",
    "    for i in range(len(xs)-1):\n",
    "        if xs[i] > xs[i+1]:\n",
    "            print(\"check_inputs(): input xs is badly ordered. Use reorder_inputs to reorder\")\n",
    "            return False\n",
    "    return True\n",
    "\n",
    "def reorder_inputs(xs,ys):\n",
    "    \"\"\"\n",
    "    \n",
    "    Reorders the input arrays `xs` and `ys` in ascending order of `xs`.\n",
    "\n",
    "    Args:\n",
    "        xs (numpy.ndarray): The x-axis values \n",
    "        ys (numpy.ndarray): The y-axis values\n",
    "        \n",
    "    Returns:\n",
    "        tuple of numpy arrays (sorted xs, sorted ys)\n",
    "\n",
    "    Bugs:\n",
    "        `xs` or `ys` must be NumPy array\n",
    "        `xs` and `ys`must be same length\n",
    "        \n",
    "    \"\"\"\n",
    "    i = np.argsort(xs)\n",
    "    return xs[i], ys[i]\n",
    "\n",
    "#xlist is the teh index left to highest peak, highest peak, and the index right to teh highest peak\n",
    "def design_matrix(xlist): \n",
    "    \"\"\"\n",
    "    \n",
    "    Constructs a design matrix for quadratic curve fitting.\n",
    "\n",
    "    Args:\n",
    "        xs (numpy.ndarray): The x-axis values \n",
    "\n",
    "    Returns:\n",
    "        3 x 3 design matrix of numpy arrays\n",
    "\n",
    "    Bugs:\n",
    "        xlist must be an numpy array\n",
    "\n",
    "    Note:\n",
    "        Note the factor of 0.5 that Hogg likes and no one else\n",
    "        Also assumes xlist is ordered\n",
    "    \n",
    "    \"\"\"\n",
    "    return (np.vstack((xlist**0,xlist**1,0.5*xlist**2))).T\n",
    "\n",
    "def fit_parabola(xs, ys, index):\n",
    "    \"\"\"\n",
    "\n",
    "    Fits a quadratic function to three consecutive data points. Solves for coefficients (b,m,q) in the quadratic\n",
    "    f(x) = b + m*x + (1/2) * q * x^2\n",
    "\n",
    "    Args:\n",
    "        xs (numpy.ndarray): The x-axis values \n",
    "        ys (numpy.ndarray): The y-axis values\n",
    "        index (int): The index of peak\n",
    "        \n",
    "\n",
    "    Returns:\n",
    "        tuple: (b, m, q)\n",
    "\n",
    "    Bugs: \n",
    "        index-1` or `index+2` can't be out of bounds\n",
    "        ``xs` or `ys` must be NumPy array\n",
    "        \n",
    "    \n",
    "    \"\"\"\n",
    "    return np.linalg.solve(design_matrix(xs[index-1:index+2]), ys[index-1:index+2])\n",
    "\n",
    "def refine_peak(xs, ys, index):\n",
    "    \"\"\"\n",
    "\n",
    "    Refines the peak position using quadratic fit\n",
    "\n",
    "    Args:\n",
    "        xs (numpy.ndarray): The x-axis values \n",
    "        ys (numpy.ndarray): The y-axis values\n",
    "        index (int): The index of peak\n",
    "    \n",
    "    Returns:\n",
    "        3-tuple: (x position of refined peak, y position of refined peak, and second derivative (q))\n",
    "\n",
    "    Bugs:\n",
    "        Must be synchronized with the design matrix\n",
    "        \n",
    "        \n",
    "    \"\"\"\n",
    "    b,m,q = fit_parabola(xs, ys, index)\n",
    "    x_peak = -m / q\n",
    "    return x_peak, 0.5 * q * (x_peak) ** 2 + m * (x_peak) + b, q\n",
    "    \n",
    "def refine_peaks(xs, ys, indices):\n",
    "    \"\"\"\n",
    "\n",
    "    Refines the peak position for a set of indices using quadratic fit\n",
    "\n",
    "    Args:\n",
    "        xs (numpy.ndarray): The x-axis values \n",
    "        ys (numpy.ndarray): The y-axis values\n",
    "        indices (numpy array): indices of the peaks (this should be the output of get_started()\n",
    "\n",
    "    Returns:\n",
    "        three  numpy arrays (array of refined x positions, array of refined y positions, and the second derivatives)\n",
    "    \n",
    "\n",
    "    \"\"\"\n",
    "    foo = lambda i: refine_peak(xs,ys,i)\n",
    "    xs_refined, ys_refined, second_derivatives = zip(*list(map(foo,indices)))\n",
    "    return np.array(xs_refined), np.array(ys_refined), np.array(second_derivatives)"
   ]
  },
  {
   "cell_type": "code",
   "execution_count": 20,
   "id": "930a0fc7-5981-4fee-9bb2-ba62b10c8b49",
   "metadata": {},
   "outputs": [],
   "source": [
    "#Erin's code\n",
    "# Design matrix\n",
    "lc_exptime = (6.52 * 270) / (60 * 60 * 24) #days, see Kepler Data Processing Handbook, Section 3.1\n",
    "\n",
    "omega = 2 * np.pi * nu\n",
    "\n",
    "def easy_design_matrix(ts, om):\n",
    "    return np.vstack([\n",
    "        np.ones_like(ts),\n",
    "        np.cos(om * ts),\n",
    "        np.sin(om * ts)\n",
    "    ]).T\n",
    "\n",
    "def integral_design_matrix(ts, om, T):\n",
    "    \"\"\"\n",
    "    ##bugs:\n",
    "    - assumes all data points have the same exposure time, `T`\n",
    "    - not numerically stable when `om * T` is small\n",
    "    \"\"\"\n",
    "    return np.vstack([\n",
    "        np.ones_like(ts),\n",
    "        (+ np.sin(om * (ts + T/2)) - np.sin(om * (ts - T/2))) / (om * T),\n",
    "        (- np.cos(om * (ts + T/2)) + np.cos(om * (ts - T/2))) / (om * T)\n",
    "    ]).T\n",
    "\n",
    "A_easy = easy_design_matrix(t_fit, omega)\n",
    "\n",
    "A_integral = integral_design_matrix(t_fit, omega, lc_exptime)\n",
    "\n",
    "weight_fit = 1 / sigma_fit**2\n",
    "\n",
    "def weighted_least_squares(A, b, weights):\n",
    "    ATA = A.T @ (A * weights[:, np.newaxis])\n",
    "    ATb = A.T @ (b * weights)\n",
    "    return A @ np.linalg.solve(ATA, ATb)\n",
    "\n",
    "y_hat = weighted_least_squares(A_integral, flux_fit, weight_fit)\n",
    "     \n",
    "\n"
   ]
  },
  {
   "cell_type": "code",
   "execution_count": 21,
   "id": "fc833a0b-84f9-4308-bf9a-8a2369435cb0",
   "metadata": {},
   "outputs": [],
   "source": [
    "search_result = lk.search_lightcurve('KIC 7917485', mission='Kepler')\n",
    "lc_collection = search_result.download_all()"
   ]
  },
  {
   "cell_type": "code",
   "execution_count": 22,
   "id": "ff2c197f-af54-481a-a1dc-6c23908bcdb5",
   "metadata": {},
   "outputs": [
    {
     "name": "stdout",
     "output_type": "stream",
     "text": [
      "1470.4623264496477 0.02043365134159103\n"
     ]
    }
   ],
   "source": [
    "lc = lc_collection.stitch()\n",
    "total_observation_time = (lc.time[-1] - lc.time[0]).value\n",
    "delta_f = (1/total_observation_time) ###frequency resolution in data\n",
    "sampling_rate= np.median(np.diff(lc.time.value))\n",
    "print(total_observation_time,sampling_rate)"
   ]
  },
  {
   "cell_type": "code",
   "execution_count": 23,
   "id": "be7bb9d8-eaa4-449c-8973-3cfff131c067",
   "metadata": {},
   "outputs": [],
   "source": [
    "\n",
    "f_max = (0.5 / (sampling_rate))\n",
    "\n",
    "f_min = delta_f/3\n",
    "\n",
    "frequency_grid = np.arange(f_min, f_max, f_min)/(u.day)"
   ]
  },
  {
   "cell_type": "code",
   "execution_count": 24,
   "id": "0115dc06-3d5b-4427-9351-5c8eb0edbb9a",
   "metadata": {},
   "outputs": [
    {
     "data": {
      "image/png": "[encoded data removed]",
      "text/plain": [
       "<Figure size 640x480 with 1 Axes>"
      ]
     },
     "metadata": {},
     "output_type": "display_data"
    }
   ],
   "source": [
    "pg = lc.to_periodogram(\n",
    "    #method='lombscargle',\n",
    "    normalization='psd',\n",
    "    frequency=frequency_grid\n",
    ")\n",
    "\n",
    "power = pg.power.value\n",
    "freq = pg.frequency.to(1/u.day).value \n",
    "\n",
    "plt.plot(freq, power,'k.')\n",
    "plt.xlabel(\"Frequency (1/day)\")\n",
    "plt.ylabel(\"Power\")\n",
    "plt.title(\"Lomb-Scargle Periodogram of KIC 7917485\")\n",
    "plt.show() "
   ]
  },
  {
   "cell_type": "code",
   "execution_count": null,
   "id": "e837bf61-b180-40d1-8009-1660588fb0e6",
   "metadata": {},
   "outputs": [],
   "source": []
  },
  {
   "cell_type": "code",
   "execution_count": 25,
   "id": "b2454380-a795-464f-93ba-e580d8465c41",
   "metadata": {},
   "outputs": [
    {
     "name": "stdout",
     "output_type": "stream",
     "text": [
      "15.382996803459365\n"
     ]
    }
   ],
   "source": [
    "\n",
    "num_of_mins = 20\n",
    "indices = get_started(num_of_mins,freq,power)\n",
    "refined_freq, refined_power, second_derivative = refine_peaks(freq,power, indices)\n",
    "nu = refined_freq[0] #looking at highest power\n",
    "print(nu)"
   ]
  },
  {
   "cell_type": "code",
   "execution_count": 26,
   "id": "080e5261-d1b6-4a30-89a2-a94afaec7d00",
   "metadata": {},
   "outputs": [],
   "source": [
    "#Erin's code/chi-squared stuff\n",
    "t = lc.time.value\n",
    "flux = lc.flux.value\n",
    "sigma = lc.flux_err.value\n",
    "\n",
    "\n",
    "t_clean = np.ma.filled(t, np.nan)\n",
    "flux_clean = np.ma.filled(flux, np.nan)\n",
    "sigma_clean = np.ma.filled(sigma, np.nan)\n",
    "\n",
    "mask = np.isfinite(t_clean) & np.isfinite(flux_clean) & np.isfinite(sigma_clean) #good\n",
    "\n",
    "lc = lc[mask]\n",
    "t_fit = t_clean[mask]\n",
    "flux_fit = flux_clean[mask]\n",
    "sigma_fit = sigma_clean[mask]"
   ]
  },
  {
   "cell_type": "code",
   "execution_count": 27,
   "id": "af13ad5e-fbc4-4c07-84b8-41c62828d041",
   "metadata": {},
   "outputs": [],
   "source": [
    "#rando functions i use\n",
    "def sharpness(second_derivative, y_new, index):\n",
    "    sharpness = (-second_derivative[index]/y_new[index])**(1/2)\n",
    "    return sharpness\n",
    "\n",
    "def median(indices, xs, ys):\n",
    "    good_medians = []\n",
    "    for i in indices:\n",
    "        leftside = ys[i-10:i]  \n",
    "        rightside = ys[i+1:i+11]\n",
    "        median = np.nanmedian(np.concatenate((leftside,rightside)))\n",
    "        good_medians.append(median)\n",
    "    return np.array(good_medians)\n",
    "\n",
    "def find_min_and_refine(xs,ys):\n",
    "    indxs, properties = find_peaks(-ys)\n",
    "    min_index =  indxs[np.argsort(-ys[indxs])[:1]]\n",
    "    refined_x, refined_y, second_derivative = refine_peaks(xs, ys, min_index)\n",
    "    return refined_x, refined_y\n",
    "\n",
    "def integral_chi_squared(om, ts, ys, ws, T):\n",
    "    A = integral_design_matrix(ts, om, T)\n",
    "    return np.sum(ws * (ys - weighted_least_squares(A, ys, ws))**2)\n",
    "\n",
    "fine_freqs = np.arange(nu - 5 * f_min, nu + 5 * f_min, 0.2 * f_min)  # Adjusted range around nu\n",
    "chi2_fine = np.array([integral_chi_squared(2. * np.pi * f, t_fit, flux_fit, weight_fit, lc_exptime) for f in fine_freqs])"
   ]
  },
  {
   "cell_type": "code",
   "execution_count": 29,
   "id": "b37661fd-e0ff-42ff-8519-b56c3f913a56",
   "metadata": {},
   "outputs": [],
   "source": [
    "#min finding?\n",
    "\n",
    "\n",
    "nu_vals = []\n",
    "best_freqs = []\n",
    "best_chi2s = []\n",
    "\n",
    "for peak in refined_freq:\n",
    "    nu = peak\n",
    "    fine_freqs = np.arange(nu - 5 * f_min, nu + 5 * f_min, 0.2 * f_min)  \n",
    "    chi2_fine = np.array([integral_chi_squared(2. * np.pi * f, t_fit, flux_fit, weight_fit, lc_exptime) for f in fine_freqs])\n",
    "    best_freq, best_chi2 = find_min_and_refine(fine_freqs,chi2_fine)\n",
    "    nu_vals.append(nu)\n",
    "    best_freqs.append(best_freq.item())\n",
    "    best_chi2s.append(best_chi2.item())\n",
    "\n",
    "nu_vals = np.array(nu_vals)\n",
    "best_freqs = np.array(best_freqs)\n",
    "best_chi2s = np.array(best_chi2s)"
   ]
  },
  {
   "cell_type": "code",
   "execution_count": 30,
   "id": "9fb60fdd-f690-4aab-a87b-7feb531f2d8a",
   "metadata": {},
   "outputs": [
    {
     "name": "stdout",
     "output_type": "stream",
     "text": [
      "15.382996803459365 15.382021424062845 50287256.0 0.0\n",
      "20.26289502133935 20.261915884105097 51628221.0 1340965.0\n",
      "15.382006204921979 15.381322160947944 51628505.5 1341249.5\n",
      "15.38401359329484 15.384687477298977 51651212.0 1363956.0\n",
      "15.384707329530379 15.385390474974065 51757177.75 1469921.75\n",
      "15.381321489566963 15.38061727917392 51759938.25 1472682.25\n",
      "15.380643884976127 15.379982274614889 51863249.0 1575993.0\n",
      "15.38538210145983 15.386022580577203 51873791.75 1586535.75\n",
      "20.26189255460858 20.26121767370688 51997630.25 1710374.25\n",
      "20.263903493172187 20.264579827123654 52006731.25 1719475.25\n",
      "20.261208484085024 20.260502480605755 52026116.375 1738860.375\n",
      "0.019412063791482005 0.019407141359175595 52029159.06791267 1741903.067912668\n",
      "20.264590761088048 20.265290797466285 52032254.125 1744998.125\n",
      "15.386058191166992 15.386748124015284 52043935.0 1756679.0\n",
      "15.379965024487873 15.379256258501501 52045303.125 1758047.125\n",
      "15.387422938432739 15.388066202140806 52106910.84375 1819654.84375\n",
      "15.377257660066675 15.377941324944846 52107697.0625 1820441.0625\n",
      "15.378601283018762 15.377941414816132 52107717.125 1820461.125\n",
      "14.856608900230388 14.855653852302067 52135088.45703125 1847832.45703125\n",
      "4.151936945071479 4.152926669425627 52136228.72998047 1848972.7299804688\n"
     ]
    }
   ],
   "source": [
    "I = np.argsort(best_chi2s)\n",
    "for f1, f2, chi2 in zip(nu_vals[I], best_freqs[I], best_chi2s[I]):\n",
    "    print(f1, f2, chi2, chi2-np.min(best_chi2s))"
   ]
  },
  {
   "cell_type": "code",
   "execution_count": 31,
   "id": "0e2e84c4-a0e2-4439-872c-1032fb96f1aa",
   "metadata": {},
   "outputs": [],
   "source": [
    "def fit_and_subtract(om, ts, fs, ws, T):\n",
    "    X = integral_design_matrix(ts, om, T)\n",
    "    return fs - X @ np.linalg.solve(X.T @ (ws[:, None] * X), X.T @ (ws * fs))\n",
    "    "
   ]
  },
  {
   "cell_type": "code",
   "execution_count": 32,
   "id": "7c7070c8-955e-40e2-a85c-5c1e40735c9d",
   "metadata": {},
   "outputs": [],
   "source": [
    "flux_foo = fit_and_subtract(2. * np.pi * nu_vals[I][0], t_fit, flux_fit, weight_fit, lc_exptime)"
   ]
  },
  {
   "cell_type": "code",
   "execution_count": 33,
   "id": "6f431ccf-e25a-441c-9cc5-9b266027e6eb",
   "metadata": {},
   "outputs": [
    {
     "data": {
      "image/png": "[encoded data removed]",
      "text/plain": [
       "<Figure size 640x480 with 1 Axes>"
      ]
     },
     "metadata": {},
     "output_type": "display_data"
    }
   ],
   "source": [
    "lc_foo = lc.copy()\n",
    "lc_foo.flux = flux_foo\n",
    "\n",
    "pg2 = lc_foo.to_periodogram(\n",
    "    #method='lombscargle',\n",
    "    normalization='psd',\n",
    "    frequency=frequency_grid\n",
    ")\n",
    "\n",
    "power2 = pg2.power.value\n",
    "freq2 = pg2.frequency.to(1/u.day).value \n",
    "\n",
    "plt.plot(freq2, power2,'k.')\n",
    "plt.xlabel(\"Frequency (1/day)\")\n",
    "plt.ylabel(\"Power\")\n",
    "plt.title(\"Lomb-Scargle Periodogram of KIC 5202905\")\n",
    "plt.axvline(nu_vals[I][0])\n",
    "plt.show() "
   ]
  },
  {
   "cell_type": "code",
   "execution_count": 34,
   "id": "9768fb8b-a16d-4534-8823-945598d023b2",
   "metadata": {},
   "outputs": [
    {
     "name": "stdout",
     "output_type": "stream",
     "text": [
      "15.382996803459365\n"
     ]
    }
   ],
   "source": [
    "print(nu_vals[I][0])"
   ]
  },
  {
   "cell_type": "code",
   "execution_count": null,
   "id": "e123ab43-f378-4e64-9c12-9fe10c01e3d4",
   "metadata": {},
   "outputs": [],
   "source": []
  }
 ],
 "metadata": {
  "kernelspec": {
   "display_name": "Python 3 (ipykernel)",
   "language": "python",
   "name": "python3"
  },
  "language_info": {
   "codemirror_mode": {
    "name": "ipython",
    "version": 3
   },
   "file_extension": ".py",
   "mimetype": "text/x-python",
   "name": "python",
   "nbconvert_exporter": "python",
   "pygments_lexer": "ipython3",
   "version": "3.12.9"
  }
 },
 "nbformat": 4,
 "nbformat_minor": 5
}
