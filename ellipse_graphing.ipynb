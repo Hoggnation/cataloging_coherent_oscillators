{
 "cells": [
  {
   "cell_type": "code",
   "execution_count": 1,
   "id": "5206cbf0-ca48-4af0-a055-e9698df4baf4",
   "metadata": {},
   "outputs": [],
   "source": [
    "from scipy.signal import find_peaks\n",
    "import lightkurve as lk\n",
    "import matplotlib.pyplot as plt\n",
    "import numpy as np\n",
    "from scipy.signal import find_peaks\n",
    "import scipy.signal\n",
    "from astropy import units as u\n",
    "import nana\n",
    "from scipy.interpolate import CubicSpline\n",
    "import matplotlib.ticker as ticker\n",
    "from matplotlib.patches import Ellipse\n",
    "from math import cos, sin, radians\n",
    "from matplotlib.collections import EllipseCollection"
   ]
  },
  {
   "cell_type": "code",
   "execution_count": 2,
   "id": "4da19e10-5199-49bf-9068-4b88cf733430",
   "metadata": {},
   "outputs": [],
   "source": [
    "def get_started(num_of_peaks, xs, ys): \n",
    "    \"\"\"\n",
    "    \n",
    "    Identifies and returns the indices of the highest peaks in a given dataset.\n",
    "    \n",
    "    Args:\n",
    "        num_of_peaks (int): The number of highest peaks to return.\n",
    "        xs (numpy.ndarray): The x-axis values \n",
    "        ys (numpy.ndarray): The y-axis values\n",
    "\n",
    "    Returns:\n",
    "        numpy array: An array of indices corresponding to the highest peaks in `ys`.\n",
    "\n",
    "    Bugs:\n",
    "        `num_of_peaks` cannot be greater than the number of detected peaks\n",
    "        `xs` or `ys` must be NumPy array\n",
    "\n",
    "    \n",
    "    \"\"\"\n",
    "    indxs, properties = find_peaks(ys)\n",
    "    return indxs[np.argsort(-ys[indxs])[:num_of_peaks]]\n",
    "\n",
    "def check_inputs(xs):\n",
    "    \"\"\"\n",
    "    \n",
    "    Checks whether the input array `xs` is sorted in ascending order.\n",
    "\n",
    "    Args:\n",
    "        xs (numpy.ndarray or list): The input array to check.\n",
    "\n",
    "    Returns:\n",
    "        bool: `True` if `xs` is sorted in ascending order, otherwise `False`.\n",
    "    \n",
    "    \"\"\"\n",
    "    for i in range(len(xs)-1):\n",
    "        if xs[i] > xs[i+1]:\n",
    "            print(\"check_inputs(): input xs is badly ordered. Use reorder_inputs to reorder\")\n",
    "            return False\n",
    "    return True\n",
    "\n",
    "def reorder_inputs(xs,ys):\n",
    "    \"\"\"\n",
    "    \n",
    "    Reorders the input arrays `xs` and `ys` in ascending order of `xs`.\n",
    "\n",
    "    Args:\n",
    "        xs (numpy.ndarray): The x-axis values \n",
    "        ys (numpy.ndarray): The y-axis values\n",
    "        \n",
    "    Returns:\n",
    "        tuple of numpy arrays (sorted xs, sorted ys)\n",
    "\n",
    "    Bugs:\n",
    "        `xs` or `ys` must be NumPy array\n",
    "        `xs` and `ys`must be same length\n",
    "        \n",
    "    \"\"\"\n",
    "    i = np.argsort(xs)\n",
    "    return xs[i], ys[i]\n",
    "\n",
    "#xlist is the teh index left to highest peak, highest peak, and the index right to teh highest peak\n",
    "def design_matrix(xlist): \n",
    "    \"\"\"\n",
    "    \n",
    "    Constructs a design matrix for quadratic curve fitting.\n",
    "\n",
    "    Args:\n",
    "        xs (numpy.ndarray): The x-axis values \n",
    "\n",
    "    Returns:\n",
    "        3 x 3 design matrix of numpy arrays\n",
    "\n",
    "    Bugs:\n",
    "        xlist must be an numpy array\n",
    "\n",
    "    Note:\n",
    "        Note the factor of 0.5 that Hogg likes and no one else\n",
    "        Also assumes xlist is ordered\n",
    "    \n",
    "    \"\"\"\n",
    "    return (np.vstack((xlist**0,xlist**1,0.5*xlist**2))).T\n",
    "\n",
    "def fit_parabola(xs, ys, index):\n",
    "    \"\"\"\n",
    "\n",
    "    Fits a quadratic function to three consecutive data points. Solves for coefficients (b,m,q) in the quadratic\n",
    "    f(x) = b + m*x + (1/2) * q * x^2\n",
    "\n",
    "    Args:\n",
    "        xs (numpy.ndarray): The x-axis values \n",
    "        ys (numpy.ndarray): The y-axis values\n",
    "        index (int): The index of peak\n",
    "        \n",
    "\n",
    "    Returns:\n",
    "        tuple: (b, m, q)\n",
    "\n",
    "    Bugs: \n",
    "        index-1` or `index+2` can't be out of bounds\n",
    "        ``xs` or `ys` must be NumPy array\n",
    "        \n",
    "    \n",
    "    \"\"\"\n",
    "    return np.linalg.solve(design_matrix(xs[index-1:index+2]), ys[index-1:index+2])\n",
    "\n",
    "def refine_peak(xs, ys, index):\n",
    "    \"\"\"\n",
    "\n",
    "    Refines the peak position using quadratic fit\n",
    "\n",
    "    Args:\n",
    "        xs (numpy.ndarray): The x-axis values \n",
    "        ys (numpy.ndarray): The y-axis values\n",
    "        index (int): The index of peak\n",
    "    \n",
    "    Returns:\n",
    "        3-tuple: (x position of refined peak, y position of refined peak, and second derivative (q))\n",
    "\n",
    "    Bugs:\n",
    "        Must be synchronized with the design matrix\n",
    "        \n",
    "        \n",
    "    \"\"\"\n",
    "    b,m,q = fit_parabola(xs, ys, index)\n",
    "    x_peak = -m / q\n",
    "    return x_peak, 0.5 * q * (x_peak) ** 2 + m * (x_peak) + b, q\n",
    "    \n",
    "def refine_peaks(xs, ys, indices):\n",
    "    \"\"\"\n",
    "\n",
    "    Refines the peak position for a set of indices using quadratic fit\n",
    "\n",
    "    Args:\n",
    "        xs (numpy.ndarray): The x-axis values \n",
    "        ys (numpy.ndarray): The y-axis values\n",
    "        indices (numpy array): indices of the peaks (this should be the output of get_started()\n",
    "\n",
    "    Returns:\n",
    "        three  numpy arrays (array of refined x positions, array of refined y positions, and the second derivatives)\n",
    "    \n",
    "\n",
    "    \"\"\"\n",
    "    foo = lambda i: refine_peak(xs,ys,i)\n",
    "    xs_refined, ys_refined, second_derivatives = zip(*list(map(foo,indices)))\n",
    "    return np.array(xs_refined), np.array(ys_refined), np.array(second_derivatives)\n",
    "\n",
    "\n",
    "def folding_freq(fs, ps, sampling_time, makeplots=False):\n",
    "    \"\"\"\n",
    "    ##bugs:\n",
    "    - assumes fs are ordered\n",
    "    - global delta_f\n",
    "    \"\"\"\n",
    "    fc_guess = 1. / sampling_time\n",
    "    \n",
    "    IA = fs < 0.5 * fc_guess\n",
    "    fsA, psA = fs[IA], ps[IA]\n",
    "    fsA,psA  = fsA[2:-2],  psA[2:-2]\n",
    "    cs = CubicSpline(fs, ps, extrapolate=False)\n",
    "    \n",
    "    small, tiny = 20 * delta_f, 0.25 * delta_f\n",
    "    fc_candidates = np.arange(fc_guess - small, fc_guess + small, tiny)\n",
    "    foos_c = np.array([np.nansum(psA * cs(fc - fsA)) for fc in fc_candidates])\n",
    "    fc_index = get_started(1,fc_candidates, foos_c)\n",
    "    fc, _, _ = refine_peaks(fc_candidates, foos_c, fc_index)\n",
    "    fc = fc[0]\n",
    "    \n",
    "    if makeplots:\n",
    "        plt.plot(fc_candidates, foos_c)\n",
    "        plt.axvline(fc_guess)\n",
    "        plt.axvline(fc, color = 'red', alpha = 0.5)\n",
    "        plt.title(fc)\n",
    "        plt.show()\n",
    "\n",
    "    \n",
    "    return fc\n"
   ]
  },
  {
   "cell_type": "code",
   "execution_count": 3,
   "id": "a866e55a-6777-4403-873b-f8b0683bc588",
   "metadata": {},
   "outputs": [],
   "source": [
    "search_result = lk.search_lightcurve('KIC 5202905', mission='Kepler')\n",
    "lc_collection = search_result.download_all()"
   ]
  },
  {
   "cell_type": "code",
   "execution_count": 4,
   "id": "66c4f5a1-abb2-481b-94e9-996b24ef27cf",
   "metadata": {},
   "outputs": [],
   "source": [
    "lc = lc_collection.stitch()\n",
    "total_observation_time = (lc.time[-1] - lc.time[0]).value\n",
    "delta_f = (1/total_observation_time) \n",
    "sampling_time= np.median(np.diff(lc.time.value))"
   ]
  },
  {
   "cell_type": "code",
   "execution_count": 5,
   "id": "aac0163a-4168-4ed9-8761-07237ba6581e",
   "metadata": {},
   "outputs": [],
   "source": [
    "f_max = (2 / (sampling_time))\n",
    "f_min = delta_f/3\n",
    "frequency_grid = np.arange(f_min, f_max, f_min)/(u.day)"
   ]
  },
  {
   "cell_type": "code",
   "execution_count": 6,
   "id": "37e22f85-e4aa-4121-93cd-f5ec17a6c3fe",
   "metadata": {},
   "outputs": [],
   "source": [
    "pg = lc.to_periodogram(\n",
    "    method='lombscargle',\n",
    "    normalization='psd',\n",
    "    frequency=frequency_grid\n",
    ")\n",
    "\n",
    "power = pg.power.value\n",
    "freq = pg.frequency.to(1/u.day).value "
   ]
  },
  {
   "cell_type": "code",
   "execution_count": 7,
   "id": "d5546f5e-d9a5-425d-9d5a-ab50130ba8de",
   "metadata": {},
   "outputs": [],
   "source": [
    "indices = get_started(10, freq, power)\n",
    "refined_freq, _ , _ = refine_peaks(freq, power, indices)\n",
    "nu = refined_freq[0]"
   ]
  },
  {
   "cell_type": "code",
   "execution_count": 8,
   "id": "5f2f6a49-dc08-4860-a09b-2edb3817f24b",
   "metadata": {},
   "outputs": [],
   "source": [
    "t = lc.time.value\n",
    "flux = lc.flux.value\n",
    "sigma = lc.flux_err.value"
   ]
  },
  {
   "cell_type": "code",
   "execution_count": 9,
   "id": "089e8adc-8eea-48cc-8ace-ff880e77e578",
   "metadata": {},
   "outputs": [],
   "source": [
    "t_clean = np.ma.filled(t, np.nan)\n",
    "flux_clean = np.ma.filled(flux, np.nan)\n",
    "sigma_clean = np.ma.filled(sigma, np.nan)\n",
    "\n",
    "mask = np.isfinite(t_clean) & np.isfinite(flux_clean) & np.isfinite(sigma_clean)\n",
    "\n",
    "lc = lc[mask]\n",
    "t_fit = t_clean[mask]\n",
    "flux_fit = flux_clean[mask]\n",
    "sigma_fit = sigma_clean[mask]"
   ]
  },
  {
   "cell_type": "code",
   "execution_count": 27,
   "id": "bd341ad6-c2ea-4585-b820-db8203062d65",
   "metadata": {},
   "outputs": [],
   "source": [
    "lc_exptime = (6.52 * 270) / (60 * 60 * 24) #days, see Kepler Data Processing Handbook, Section 3.1\n",
    "weight_fit = 1 / sigma_fit**2\n",
    "\n",
    "def integral_design_matrix(ts, om, T):\n",
    "    \"\"\"\n",
    "    ##bugs:\n",
    "    - assumes all data points have the same exposure time, `T`\n",
    "    - not numerically stable when `om * T` is small\n",
    "    \"\"\"\n",
    "    return np.vstack([\n",
    "        np.ones_like(ts),\n",
    "        (+ np.sin(om * (ts + T/2)) - np.sin(om * (ts - T/2))) / (om * T),\n",
    "        (- np.cos(om * (ts + T/2)) + np.cos(om * (ts - T/2))) / (om * T)\n",
    "    ]).T\n",
    "\n",
    "def weighted_least_squares(A, b, weights):\n",
    "    ATA = A.T @ (A * weights[:, np.newaxis])\n",
    "    ATb = A.T @ (b * weights)\n",
    "    trace = np.trace(ATA)\n",
    "    det = np.linalg.det(ATA)\n",
    "    return np.linalg.solve(ATA, ATb), ATA, trace, det\n",
    "\n",
    "def integral_chi_squared(om, ts, ys, ws, T):\n",
    "    A = integral_design_matrix(ts, om, T)\n",
    "    return np.sum(ws * (ys - weighted_least_squares(A, ys, ws))**2)"
   ]
  },
  {
   "cell_type": "code",
   "execution_count": 11,
   "id": "b566369f-b3d5-45e6-9acd-d69da215d462",
   "metadata": {},
   "outputs": [],
   "source": [
    "def check_coherence(ts, ys, weights, om):\n",
    "    \"\"\"\n",
    "    assumes a lot of things about the data\n",
    "    \"\"\"\n",
    "    cases = [(np.ones_like(ts).astype(bool), \"all\"),\n",
    "             (ts < np.median(ts), \"early\"),\n",
    "             (ts > np.median(ts), \"late\")]\n",
    "    for I, name in cases:\n",
    "        A = integral_design_matrix(ts[I], om, lc_exptime)\n",
    "        pars, invar = weighted_least_squares(A, ys[I], weights[I])\n",
    "        print(name, pars, invar)"
   ]
  },
  {
   "cell_type": "code",
   "execution_count": 37,
   "id": "852f5475-bd2e-4b04-ab87-b8d54626b135",
   "metadata": {},
   "outputs": [],
   "source": [
    "def check_coherence(ts, ys, weights, om):\n",
    "    \"\"\"\n",
    "    assumes a lot of things about the data\n",
    "    \"\"\"\n",
    "    axes, As,Bs, traces, dets = [],[], [], [], []\n",
    "    cases = [(np.ones_like(ts).astype(bool), \"all\"),\n",
    "             (ts < np.median(ts), \"early\"),\n",
    "             (ts > np.median(ts), \"late\")]\n",
    "    for I, name in cases:\n",
    "        A = integral_design_matrix(ts[I], om, lc_exptime)\n",
    "        pars, invar, trace, det = weighted_least_squares(A, ys[I], weights[I])\n",
    "        a,b = pars[1], pars[2]\n",
    "        As.append(a)\n",
    "        Bs.append(b)\n",
    "        traces.append(trace)\n",
    "        dets.append(det)\n",
    "        covariance = np.linalg.inv(invar)\n",
    "        covariance2 = covariance[1:, 1:]\n",
    "        eigvals, eigvecs = np.linalg.eigh(covariance2)\n",
    "        axis1 = np.sqrt(eigvals)*eigvecs[:, 0] \n",
    "        axis2 = np.sqrt(eigvals)*eigvecs[:, 1] \n",
    "        axes.append((axis1, axis2))\n",
    "    return axes[0], axes[1], axes[2], As, Bs, traces, dets"
   ]
  },
  {
   "cell_type": "code",
   "execution_count": 38,
   "id": "e9d5c334-3960-4bbc-9a27-834c94946e95",
   "metadata": {},
   "outputs": [
    {
     "ename": "ValueError",
     "evalue": "too many values to unpack (expected 5)",
     "output_type": "error",
     "traceback": [
      "\u001b[0;31m---------------------------------------------------------------------------\u001b[0m",
      "\u001b[0;31mValueError\u001b[0m                                Traceback (most recent call last)",
      "Cell \u001b[0;32mIn[38], line 1\u001b[0m\n\u001b[0;32m----> 1\u001b[0m \u001b[38;5;28mall\u001b[39m, early, late, As, Bs \u001b[38;5;241m=\u001b[39m check_coherence(t_fit, flux_fit, weight_fit, \u001b[38;5;241m2.\u001b[39m \u001b[38;5;241m*\u001b[39m np\u001b[38;5;241m.\u001b[39mpi \u001b[38;5;241m*\u001b[39m nu)\n",
      "\u001b[0;31mValueError\u001b[0m: too many values to unpack (expected 5)"
     ]
    }
   ],
   "source": [
    "all, early, late, As, Bs = check_coherence(t_fit, flux_fit, weight_fit, 2. * np.pi * nu)"
   ]
  },
  {
   "cell_type": "code",
   "execution_count": 39,
   "id": "e4780d53-7aa3-4b6e-9a13-1a721eca6de1",
   "metadata": {},
   "outputs": [
    {
     "name": "stdout",
     "output_type": "stream",
     "text": [
      "trace all: 10329789485175.254 trace early: 5156113177982.544 trace late: 5173476097512.128\n",
      "det all: 10329789485175.254 det early: 5156113177982.544 det late: 5173476097512.128\n"
     ]
    }
   ],
   "source": [
    "_, _, _, _, _, traces, dets = check_coherence(t_fit, flux_fit, weight_fit, 2. * np.pi * nu)\n",
    "print(\"trace all:\", traces[0], \"trace early:\", traces[1], \"trace late:\", traces[2])\n",
    "print(\"det all:\", traces[0], \"det early:\", traces[1], \"det late:\", traces[2])"
   ]
  },
  {
   "cell_type": "code",
   "execution_count": 14,
   "id": "22a30636-8c42-4db1-a3d2-703a1536cd52",
   "metadata": {},
   "outputs": [
    {
     "data": {
      "image/png": "[encoded data removed]",
      "text/plain": [
       "<Figure size 640x480 with 1 Axes>"
      ]
     },
     "metadata": {},
     "output_type": "display_data"
    }
   ],
   "source": [
    "#ELLIPSE-MAKING!!!!\n",
    "es = []\n",
    "\n",
    "#all\n",
    "width_all, height_all = 2*np.linalg.norm(all[0]), 2*np.linalg.norm(all[1])\n",
    "vec1 = all[0]\n",
    "angle_all = np.degrees(np.arctan2(vec1[0], vec1[1]))\n",
    "center = (As[0],Bs[0])\n",
    "r = np.radians(angle_all)\n",
    "ellipse_all = Ellipse(center, width_all, height_all, angle = angle_all, facecolor = 'none', edgecolor = 'black', label = \"all\")\n",
    "es.append(ellipse_all)\n",
    "\n",
    "#early\n",
    "width_early, height_early = 2*np.linalg.norm(early[0]), 2*np.linalg.norm(early[1])\n",
    "vec2 = early[0]\n",
    "angle_early = np.degrees(np.arctan2(vec2[0], vec2[1]))\n",
    "center = (As[1], Bs[1])\n",
    "r = np.radians(angle_early)\n",
    "ellipse_early = Ellipse(center, width_early, height_early, angle = angle_early, facecolor = 'none', edgecolor = 'blue', label = \"early\")\n",
    "es.append(ellipse_early)\n",
    "\n",
    "#late\n",
    "width_late, height_late = 2*np.linalg.norm(late[0]), 2*np.linalg.norm(late[1])\n",
    "vec3 = late[0]\n",
    "angle_late = np.degrees(np.arctan2(vec3[0], vec3[1]))\n",
    "center = (As[2], Bs[2])\n",
    "r = np.radians(angle_late)\n",
    "ellipse_late = Ellipse(center, width_late, height_late, angle = angle_late, facecolor = 'none', edgecolor = 'green', label = \"late\")\n",
    "es.append(ellipse_late)\n",
    "\n",
    "fig, ax = plt.subplots()\n",
    "x_coords = []\n",
    "y_coords = []\n",
    "\n",
    "for e in es:\n",
    "    cx, cy = e.center\n",
    "    w, h = e.width / 2, e.height / 2\n",
    "    x_coords.extend([cx - w, cx + w])\n",
    "    y_coords.extend([cy - h, cy + h])\n",
    "    \n",
    "    # Compute limits with padding\n",
    "x_pad = (max(x_coords) - min(x_coords)) * 0.05\n",
    "y_pad = (max(y_coords) - min(y_coords)) * 0.05\n",
    "    \n",
    "xlim = (min(x_coords) - x_pad, max(x_coords) + x_pad)\n",
    "ylim = (min(y_coords) - y_pad, max(y_coords) + y_pad)\n",
    "\n",
    "\n",
    "for e in es:\n",
    "    ax.add_artist(e)\n",
    "    \n",
    "ax.set_aspect('equal')\n",
    "ax.grid(True)\n",
    "ax.set_xlim(xlim)\n",
    "ax.set_ylim(ylim)\n",
    "ax.legend(loc='best')\n",
    "    \n",
    "plt.show()"
   ]
  },
  {
   "cell_type": "code",
   "execution_count": 15,
   "id": "d424ed61-54fd-4edc-8162-a478c0a8329c",
   "metadata": {},
   "outputs": [
    {
     "name": "stdout",
     "output_type": "stream",
     "text": [
      "-0.000775248051844097 -0.0007681758907240003\n",
      "-0.0018030431994022647 -0.001795973897660998\n"
     ]
    }
   ],
   "source": [
    "print(center[0] - width_all, center[0] + width_all)\n",
    "print(center[1] - height_all, center[1] + height_all)"
   ]
  },
  {
   "cell_type": "code",
   "execution_count": 16,
   "id": "bf01f862-b53c-413b-907d-dae9d1c3bfe9",
   "metadata": {},
   "outputs": [
    {
     "data": {
      "image/png": "[encoded data removed]",
      "text/plain": [
       "<Figure size 640x480 with 1 Axes>"
      ]
     },
     "metadata": {},
     "output_type": "display_data"
    }
   ],
   "source": [
    "#more simplified way\n",
    "\n",
    "es = []\n",
    "cases = [(\"all\", all, As[0], Bs[0]),\n",
    "         (\"early\", early, As[1], Bs[1]),\n",
    "         (\"late\", late, As[2], Bs[2])]\n",
    "\n",
    "for label, (axis1, axis2), a, b in cases:\n",
    "    width = 2 * np.linalg.norm(axis2)\n",
    "    height = 2 * np.linalg.norm(axis1)\n",
    "    angle = np.degrees(np.arctan2(axis2[1], axis2[0]))  \n",
    "    center = (a, b)\n",
    "    \n",
    "    e = Ellipse(center, width, height, angle=angle,facecolor='none', edgecolor='green')\n",
    "    es.append(e)\n",
    "\n",
    "fig, ax = plt.subplots()\n",
    "x_coords = []\n",
    "y_coords = []\n",
    "\n",
    "for e in es:\n",
    "    cx, cy = e.center\n",
    "    w, h = e.width / 2, e.height / 2\n",
    "    x_coords.extend([cx - w, cx + w])\n",
    "    y_coords.extend([cy - h, cy + h])\n",
    "    \n",
    "    # Compute limits with padding\n",
    "x_pad = (max(x_coords) - min(x_coords)) * 0.05\n",
    "y_pad = (max(y_coords) - min(y_coords)) * 0.05\n",
    "    \n",
    "xlim = (min(x_coords) - x_pad, max(x_coords) + x_pad)\n",
    "ylim = (min(y_coords) - y_pad, max(y_coords) + y_pad)\n",
    "\n",
    "\n",
    "for e in es:\n",
    "    ax.add_artist(e)\n",
    "    \n",
    "ax.set_aspect('equal')\n",
    "ax.grid(True)\n",
    "ax.set_xlim(xlim)\n",
    "ax.set_ylim(ylim)\n",
    "\n",
    "    \n",
    "plt.show()"
   ]
  },
  {
   "cell_type": "code",
   "execution_count": 24,
   "id": "5d0b663a-8846-4fb6-9d3d-498c27c7818f",
   "metadata": {},
   "outputs": [
    {
     "data": {
      "image/png": "[encoded data removed]",
      "text/plain": [
       "<Figure size 640x480 with 1 Axes>"
      ]
     },
     "metadata": {},
     "output_type": "display_data"
    }
   ],
   "source": [
    "#Adding vectors to the ellipses \"all\" case\n",
    "# all, early, late, As, Bs = check_coherence(t_fit, flux_fit, weight_fit, 2. * np.pi * nu), this code was run in a cell before\n",
    "#all, early, late are 2x2 matrices with the vector components of the axes\n",
    "#As, Bs are arrays of the a and b values for all three cases\n",
    "\n",
    "fig, ax = plt.subplots()\n",
    "\n",
    "width_all, height_all = 2*np.linalg.norm(all[0]), 2*np.linalg.norm(all[1])\n",
    "angle_all = np.degrees(np.arctan2(all[0][0], all[1][0]))\n",
    "center = (As[0],Bs[0])\n",
    "r = np.radians(angle_all)\n",
    "\n",
    "ellipse_case1 = Ellipse(center, width_all, height_all, angle = angle_all, facecolor = 'none', edgecolor = 'green')\n",
    "\n",
    "ax.add_patch(ellipse_case1)\n",
    "\n",
    "ax1_points = [\n",
    "    (center[0] + width_all/2 * cos(r), center[1] + width_all/2 * sin(r)),\n",
    "    (center[0] - width_all/2 * cos(r), center[1] - width_all/2 * sin(r))\n",
    "]\n",
    "\n",
    "ax2_points = [\n",
    "    (center[0] + height_all/2 * cos(r + radians(90)), center[1] + height_all/2 * sin(r + radians(90))),\n",
    "    (center[0] + height_all/2 * cos(r + radians(270)), center[1] + height_all/2 * sin(r + radians(270)))\n",
    "]\n",
    "\n",
    "\n",
    "arrowprops = dict(arrowstyle=\"<->\", color=\"blue\", linewidth=1.5)\n",
    "ax.annotate(\"\", xy=ax1_points[0], xytext=ax1_points[1], arrowprops=arrowprops)\n",
    "ax.annotate(\"\", xy=ax2_points[0], xytext=ax2_points[1], arrowprops=arrowprops)\n",
    "ax.set_xlim(center[0] - width_all, center[0] + width_all)\n",
    "ax.set_ylim(center[1] - height_all, center[1] + height_all)\n",
    "ax.set_aspect('equal')\n",
    "ax.grid(True)\n",
    "ax.set_title('\"All\" case ellipse')\n",
    "plt.show() "
   ]
  },
  {
   "cell_type": "code",
   "execution_count": 18,
   "id": "ebf4b31b-1070-4a32-ae9d-96c3082cf1b8",
   "metadata": {},
   "outputs": [
    {
     "name": "stdout",
     "output_type": "stream",
     "text": [
      "(array([-4.76745078e-07, -1.70255119e-06]), array([-1.70174560e-06,  4.76970765e-07]))\n"
     ]
    }
   ],
   "source": [
    "print(all)"
   ]
  },
  {
   "cell_type": "code",
   "execution_count": 23,
   "id": "fa2f0305-a513-4586-89fe-d120e88ab0d3",
   "metadata": {},
   "outputs": [
    {
     "name": "stdout",
     "output_type": "stream",
     "text": [
      "all case a,b: -0.0006782858164832616 -0.0015783203736371375\n",
      "early case a,b: -0.0005848077712010271 -0.0013564599773215524\n",
      "late case a,b: -0.0007717119712840486 -0.0017995085485316314\n"
     ]
    }
   ],
   "source": [
    "print(\"all case a,b:\", As[0], Bs[0])\n",
    "print(\"early case a,b:\", As[1], Bs[1])\n",
    "print(\"late case a,b:\", As[2], Bs[2])"
   ]
  },
  {
   "cell_type": "code",
   "execution_count": null,
   "id": "40022420-2f9a-4dd8-87cc-82c52c63323a",
   "metadata": {},
   "outputs": [],
   "source": []
  }
 ],
 "metadata": {
  "kernelspec": {
   "display_name": "Python 3 (ipykernel)",
   "language": "python",
   "name": "python3"
  },
  "language_info": {
   "codemirror_mode": {
    "name": "ipython",
    "version": 3
   },
   "file_extension": ".py",
   "mimetype": "text/x-python",
   "name": "python",
   "nbconvert_exporter": "python",
   "pygments_lexer": "ipython3",
   "version": "3.12.9"
  }
 },
 "nbformat": 4,
 "nbformat_minor": 5
}
