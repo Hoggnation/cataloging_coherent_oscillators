{
 "cells": [
  {
   "cell_type": "code",
   "execution_count": 1,
   "id": "d9380b63-ebdc-4dc3-afd9-3fe0a8114d46",
   "metadata": {},
   "outputs": [],
   "source": [
    "import glob\n",
    "import matplotlib.pyplot as plt\n",
    "import nana\n",
    "from astropy.table import Table\n",
    "from astropy.io import ascii\n",
    "import pandas as pd\n",
    "%load_ext autoreload\n",
    "%autoreload 2"
   ]
  },
  {
   "cell_type": "code",
   "execution_count": 2,
   "id": "158e5dee-1e15-4cdc-8c33-3c30a1c7fe65",
   "metadata": {},
   "outputs": [],
   "source": [
    "star_files = glob.glob(\"*.dat\")\n",
    "#star_files.remove('kplr010536147.dat')\n",
    "#print(len(star_files))"
   ]
  },
  {
   "cell_type": "code",
   "execution_count": 3,
   "id": "69851b26-4510-4dac-927e-f50e9fdbfc73",
   "metadata": {},
   "outputs": [
    {
     "name": "stdout",
     "output_type": "stream",
     "text": [
      "['kplr003865742.dat', 'kplr004930889.dat', 'kplr010526294.dat', 'kplr009715425.dat', 'kplr009020774.dat', 'kplr006462033.dat', 'kplr006352430.dat', 'kplr010536147.dat', 'kplr008459899.dat', 'kplr003459297.dat', 'kplr008255796.dat', 'kplr008714886.dat', 'kplr003240411.dat', 'kplr006780397.dat', 'kplr008057661.dat', 'kplr012258330.dat', 'kplr011360704.dat', 'kplr011971405.dat', 'kplr004936089.dat', 'kplr008766405.dat', 'kplr005941844.dat', 'kplr007630417.dat', 'kplr007760680.dat', 'kplr004939281.dat', 'kplr005309849.dat', 'kplr008381949.dat']\n"
     ]
    }
   ],
   "source": [
    "print(star_files)"
   ]
  },
  {
   "cell_type": "code",
   "execution_count": 6,
   "id": "a35b7372-b224-430e-adac-f89745eeb20c",
   "metadata": {},
   "outputs": [
    {
     "name": "stdout",
     "output_type": "stream",
     "text": [
      "working on  kplr003865742\n",
      "1\n",
      "working on  kplr004930889\n",
      "2\n",
      "working on  kplr010526294\n",
      "times not in order\n"
     ]
    },
    {
     "ename": "AssertionError",
     "evalue": "",
     "output_type": "error",
     "traceback": [
      "\u001b[0;31m---------------------------------------------------------------------------\u001b[0m",
      "\u001b[0;31mAssertionError\u001b[0m                            Traceback (most recent call last)",
      "Cell \u001b[0;32mIn[6], line 11\u001b[0m\n\u001b[1;32m      8\u001b[0m \u001b[38;5;28mprint\u001b[39m(\u001b[38;5;124m\"\u001b[39m\u001b[38;5;124mworking on \u001b[39m\u001b[38;5;124m\"\u001b[39m, star)\n\u001b[1;32m     10\u001b[0m \u001b[38;5;66;03m#pipeline \u001b[39;00m\n\u001b[0;32m---> 11\u001b[0m lc, delta_f, sampling_time \u001b[38;5;241m=\u001b[39m nana\u001b[38;5;241m.\u001b[39mstar(star)\n\u001b[1;32m     14\u001b[0m f_max \u001b[38;5;241m=\u001b[39m (\u001b[38;5;241m3\u001b[39m \u001b[38;5;241m/\u001b[39m (\u001b[38;5;241m2\u001b[39m\u001b[38;5;241m*\u001b[39msampling_time))\n\u001b[1;32m     15\u001b[0m f_min \u001b[38;5;241m=\u001b[39m delta_f\u001b[38;5;241m/\u001b[39m\u001b[38;5;241m3\u001b[39m\n",
      "File \u001b[0;32m~/cataloging_coherent_oscillators_kepler/nana.py:21\u001b[0m, in \u001b[0;36mstar\u001b[0;34m(kic_id)\u001b[0m\n\u001b[1;32m     19\u001b[0m \u001b[38;5;28;01mif\u001b[39;00m \u001b[38;5;129;01mnot\u001b[39;00m  np\u001b[38;5;241m.\u001b[39mall(np\u001b[38;5;241m.\u001b[39mdiff(lc\u001b[38;5;241m.\u001b[39mtime\u001b[38;5;241m.\u001b[39mvalue) \u001b[38;5;241m>\u001b[39m \u001b[38;5;241m0\u001b[39m):\n\u001b[1;32m     20\u001b[0m     \u001b[38;5;28mprint\u001b[39m(\u001b[38;5;124m\"\u001b[39m\u001b[38;5;124mtimes not in order\u001b[39m\u001b[38;5;124m\"\u001b[39m)\n\u001b[0;32m---> 21\u001b[0m     \u001b[38;5;28;01massert\u001b[39;00m \u001b[38;5;28;01mFalse\u001b[39;00m\n\u001b[1;32m     23\u001b[0m delta_f \u001b[38;5;241m=\u001b[39m (\u001b[38;5;241m1\u001b[39m\u001b[38;5;241m/\u001b[39m(lc\u001b[38;5;241m.\u001b[39mtime[\u001b[38;5;241m-\u001b[39m\u001b[38;5;241m1\u001b[39m] \u001b[38;5;241m-\u001b[39m lc\u001b[38;5;241m.\u001b[39mtime[\u001b[38;5;241m0\u001b[39m])\u001b[38;5;241m.\u001b[39mvalue) \n\u001b[1;32m     24\u001b[0m sampling_time\u001b[38;5;241m=\u001b[39m np\u001b[38;5;241m.\u001b[39mmedian(np\u001b[38;5;241m.\u001b[39mdiff(lc\u001b[38;5;241m.\u001b[39mtime\u001b[38;5;241m.\u001b[39mvalue))\n",
      "\u001b[0;31mAssertionError\u001b[0m: "
     ]
    }
   ],
   "source": [
    "num = 0\n",
    "\n",
    "for star in star_files:\n",
    "    data = pd.read_csv(star)\n",
    "    data = pd.read_csv(star, sep=r'\\s+', header=None, names=['time', 'flux'])\n",
    "    star = star[:13]\n",
    "\n",
    "    print(\"working on \", star)\n",
    "    \n",
    "    #pipeline \n",
    "    lc, delta_f, sampling_time = nana.star(star)\n",
    "    \n",
    "    \n",
    "    f_max = (3 / (2*sampling_time))\n",
    "    f_min = delta_f/3\n",
    "    t_fit, flux_fit, weight_fit = nana.mask_vals(lc)\n",
    "    freq_full, power_full = nana.pg_full(f_min, f_max, lc)\n",
    "    freq_mini, power_mini = nana.pg_mini(f_min, f_max, lc )\n",
    "    indices = nana.get_filtered_peaks(12, freq_mini, power_mini)\n",
    "    refined_freq, refined_power, second_derivatives = nana.refine_peaks(freq_mini, power_mini, indices)\n",
    "    fc = nana.folding_freq(delta_f, freq_full, power_full, sampling_time, False)\n",
    "    regions, final_freqs, chi2s = nana.region_and_freq(indices, fc, f_min, freq_mini, power_mini, t_fit, flux_fit, weight_fit)\n",
    "    a_early, a_late, b_early, b_late = nana.check_coherence(t_fit, flux_fit, weight_fit, final_freqs)\n",
    "    rate_of_phase, rate_of_amp = nana.change_in_phase_and_amp(a_early, a_late, b_early, b_late, t_fit)\n",
    "    delta_chi2s = nana.null_chi_squared(t_fit, flux_fit, weight_fit) - chi2s\n",
    "    sharpnesses = nana.sharpness(second_derivatives, refined_power)\n",
    "    \n",
    "    \n",
    "    data = Table()\n",
    "\n",
    "\n",
    "    data['modes'] = final_freqs\n",
    "    data['regions'] = regions\n",
    "    data['corresponding_freq_in_region_A'] = refined_freq\n",
    "    data['sharpness'] = sharpnesses\n",
    "    data['delta_chi_squares'] = delta_chi2s\n",
    "    data['rate_of_change_of_phase'] = rate_of_phase\n",
    "    data['rate_of_change_of_amplitude'] = rate_of_amp\n",
    "    \n",
    "    ascii.write(\n",
    "        data,\n",
    "        star + '.csv',\n",
    "        overwrite=True,\n",
    "        format=\"csv\",\n",
    "        formats={\n",
    "            \"modes\": \"{:.10f}\",\n",
    "            \"corresponding_freq_in_region_A\": \"{:.5f}\",\n",
    "            \"sharpness\": \"{:.7e}\",\n",
    "            \"delta_chi_squares\": \"{:.7e}\",\n",
    "            \"rate_of_change_of_phase\": \"{:.7e}\",\n",
    "            \"rate_of_change_of_amplitude\": \"{:.7e}\"\n",
    "        }\n",
    "    )\n",
    "    \n",
    "    num = num + 1\n",
    "    print(num)\n",
    "    \n",
    "    "
   ]
  },
  {
   "cell_type": "code",
   "execution_count": 5,
   "id": "c1261936-b0ac-4c01-9431-7e1b47e6ddb9",
   "metadata": {},
   "outputs": [
    {
     "name": "stdout",
     "output_type": "stream",
     "text": [
      "times not in order\n"
     ]
    },
    {
     "ename": "AssertionError",
     "evalue": "",
     "output_type": "error",
     "traceback": [
      "\u001b[0;31m---------------------------------------------------------------------------\u001b[0m",
      "\u001b[0;31mAssertionError\u001b[0m                            Traceback (most recent call last)",
      "Cell \u001b[0;32mIn[5], line 1\u001b[0m\n\u001b[0;32m----> 1\u001b[0m lc, delta_f, sampling_time \u001b[38;5;241m=\u001b[39m nana\u001b[38;5;241m.\u001b[39mstar(\u001b[38;5;124m'\u001b[39m\u001b[38;5;124mkplr010536147\u001b[39m\u001b[38;5;124m'\u001b[39m)\n",
      "File \u001b[0;32m~/cataloging_coherent_oscillators_kepler/nana.py:21\u001b[0m, in \u001b[0;36mstar\u001b[0;34m(kic_id)\u001b[0m\n\u001b[1;32m     19\u001b[0m \u001b[38;5;28;01mif\u001b[39;00m \u001b[38;5;129;01mnot\u001b[39;00m  np\u001b[38;5;241m.\u001b[39mall(np\u001b[38;5;241m.\u001b[39mdiff(lc\u001b[38;5;241m.\u001b[39mtime\u001b[38;5;241m.\u001b[39mvalue) \u001b[38;5;241m>\u001b[39m \u001b[38;5;241m0\u001b[39m):\n\u001b[1;32m     20\u001b[0m     \u001b[38;5;28mprint\u001b[39m(\u001b[38;5;124m\"\u001b[39m\u001b[38;5;124mtimes not in order\u001b[39m\u001b[38;5;124m\"\u001b[39m)\n\u001b[0;32m---> 21\u001b[0m     \u001b[38;5;28;01massert\u001b[39;00m \u001b[38;5;28;01mFalse\u001b[39;00m\n\u001b[1;32m     23\u001b[0m delta_f \u001b[38;5;241m=\u001b[39m (\u001b[38;5;241m1\u001b[39m\u001b[38;5;241m/\u001b[39m(lc\u001b[38;5;241m.\u001b[39mtime[\u001b[38;5;241m-\u001b[39m\u001b[38;5;241m1\u001b[39m] \u001b[38;5;241m-\u001b[39m lc\u001b[38;5;241m.\u001b[39mtime[\u001b[38;5;241m0\u001b[39m])\u001b[38;5;241m.\u001b[39mvalue) \n\u001b[1;32m     24\u001b[0m sampling_time\u001b[38;5;241m=\u001b[39m np\u001b[38;5;241m.\u001b[39mmedian(np\u001b[38;5;241m.\u001b[39mdiff(lc\u001b[38;5;241m.\u001b[39mtime\u001b[38;5;241m.\u001b[39mvalue))\n",
      "\u001b[0;31mAssertionError\u001b[0m: "
     ]
    }
   ],
   "source": [
    "lc, delta_f, sampling_time = nana.star('kplr010536147')"
   ]
  },
  {
   "cell_type": "code",
   "execution_count": null,
   "id": "de8be584-bd17-4e49-83a0-825188e875a7",
   "metadata": {},
   "outputs": [],
   "source": [
    "f_max = (3 / (2*sampling_time))\n",
    "f_min = delta_f/3\n",
    "t_fit, flux_fit, weight_fit = nana.mask_vals(lc)"
   ]
  },
  {
   "cell_type": "code",
   "execution_count": null,
   "id": "9214bd5e-3513-46d9-b622-924025b87451",
   "metadata": {},
   "outputs": [],
   "source": [
    "print(sampling_time * 86400)\n",
    "print(len(lc))"
   ]
  },
  {
   "cell_type": "code",
   "execution_count": null,
   "id": "1dd43e7a-3809-437f-90fc-3c80e14a05a0",
   "metadata": {},
   "outputs": [],
   "source": [
    "plt.plot(lc.time.value)"
   ]
  },
  {
   "cell_type": "code",
   "execution_count": null,
   "id": "a3f44596-c56f-4026-b477-f91ba55aeb0e",
   "metadata": {},
   "outputs": [],
   "source": [
    "freq_full, power_full = nana.pg_full(f_min, f_max, lc)\n",
    "freq_mini, power_mini = nana.pg_mini(f_min, f_max, lc )\n",
    "indices = nana.get_filtered_peaks(12, freq_mini, power_mini)\n",
    "refined_freq, refined_power, second_derivatives = nana.refine_peaks(freq_mini, power_mini, indices)"
   ]
  },
  {
   "cell_type": "code",
   "execution_count": null,
   "id": "c60118a7-a21e-4bdf-a820-78943f90fde6",
   "metadata": {},
   "outputs": [],
   "source": [
    "plt.scatter(freq_mini[indices], refined_power, color = 'r', marker = 'o')\n",
    "plt.plot(freq_mini, power_mini, 'k-')\n",
    "plt.title(\"star that won't work\")\n",
    "\n",
    "plt.semilogy()"
   ]
  },
  {
   "cell_type": "code",
   "execution_count": null,
   "id": "3dd4c0cd-36eb-4247-8504-d0750d73427d",
   "metadata": {},
   "outputs": [],
   "source": [
    "freq_mini[indices]"
   ]
  },
  {
   "cell_type": "code",
   "execution_count": null,
   "id": "7c674c94-f771-4a54-a921-4b368b169785",
   "metadata": {},
   "outputs": [],
   "source": [
    "plt.plot(freq_full, power_full, 'k.')"
   ]
  },
  {
   "cell_type": "code",
   "execution_count": null,
   "id": "0552fa25-3de6-431a-b579-fb86be49800f",
   "metadata": {},
   "outputs": [],
   "source": [
    "fc = nana.folding_freq(delta_f, freq_full, power_full, sampling_time, False)\n",
    "regions, final_freqs, chi2s = nana.region_and_freq(indices, fc, f_min, freq_mini, power_mini, t_fit, flux_fit, weight_fit)"
   ]
  },
  {
   "cell_type": "code",
   "execution_count": null,
   "id": "d4176c46-6446-411b-8b9a-316f7f5d64e5",
   "metadata": {},
   "outputs": [],
   "source": [
    "a_early, a_late, b_early, b_late = nana.check_coherence(t_fit, flux_fit, weight_fit, final_freqs)"
   ]
  },
  {
   "cell_type": "code",
   "execution_count": null,
   "id": "dc6d9ac7-be35-4cd7-b8d0-a21064829da7",
   "metadata": {},
   "outputs": [],
   "source": [
    "rate_of_phase, rate_of_amp = nana.change_in_phase_and_amp(a_early, a_late, b_early, b_late, t_fit)\n",
    "delta_chi2s = nana.null_chi_squared(t_fit, flux_fit, weight_fit) - chi2s\n",
    "sharpnesses = nana.sharpness(second_derivatives, refined_power)"
   ]
  },
  {
   "cell_type": "code",
   "execution_count": null,
   "id": "c3704a9e-1eea-4523-a16b-71b19e591b3c",
   "metadata": {},
   "outputs": [],
   "source": [
    "def region_and_freq(indices, folding_freq, f_min, unrefined_freq, unrefined_power, t_fit, flux_fit, weight_fit):\n",
    "    regions, best_freqs, best_chi2s = [], [], []\n",
    "\n",
    "    for i in range(len(indices)):\n",
    "        fas, __, __ = refine_peaks(unrefined_freq, unrefined_power, indices)\n",
    "        A, B, C = fas, folding_freq - fas, folding_freq + fas\n",
    "\n",
    "        fine_freqsA = np.arange(A[i] - 5 * f_min, A[i] + 5 * f_min, 0.2 * f_min)\n",
    "        chi2_fineA = np.array([integral_chi_squared(2. * np.pi * f, t_fit, flux_fit, weight_fit, lc_exptime) for f in fine_freqsA])\n",
    "        best_freqA, best_chi2A = find_min_and_refine(fine_freqsA, chi2_fineA)\n",
    "\n",
    "        fine_freqsB = np.arange(B[i] - 5 * f_min, B[i] + 5 * f_min, 0.2 * f_min)\n",
    "        chi2_fineB = np.array([integral_chi_squared(2. * np.pi * f, t_fit, flux_fit, weight_fit, lc_exptime) for f in fine_freqsB])\n",
    "        best_freqB, best_chi2B = find_min_and_refine(fine_freqsB, chi2_fineB)\n",
    "\n",
    "        fine_freqsC = np.arange(C[i] - 5 * f_min, C[i] + 5 * f_min, 0.2 * f_min)\n",
    "        chi2_fineC = np.array([integral_chi_squared(2. * np.pi * f, t_fit, flux_fit, weight_fit, lc_exptime) for f in fine_freqsC])\n",
    "        best_freqC, best_chi2C = find_min_and_refine(fine_freqsC, chi2_fineC)\n",
    "\n",
    "        if best_chi2A <= best_chi2B and best_chi2A <= best_chi2C:\n",
    "            regions.append(\"A\")\n",
    "            best_freqs.append(best_freqA)\n",
    "            best_chi2s.append(best_chi2A)\n",
    "        elif best_chi2B < best_chi2A and best_chi2B < best_chi2C:\n",
    "            regions.append(\"B\")\n",
    "            best_freqs.append(best_freqB)\n",
    "            best_chi2s.append(best_chi2B)\n",
    "        elif best_chi2C < best_chi2A and best_chi2C < best_chi2B:\n",
    "            regions.append(\"C\")\n",
    "            best_freqs.append(best_freqC)\n",
    "            best_chi2s.append(best_chi2C)\n",
    "\n",
    "    return regions, best_freqs, best_chi2s\n"
   ]
  },
  {
   "cell_type": "code",
   "execution_count": null,
   "id": "ca433d61-d836-48a7-a3d1-85768389410a",
   "metadata": {},
   "outputs": [],
   "source": [
    "def find_min_and_refine(xs,ys):\n",
    "\n",
    "    indxs, properties = find_peaks(-ys)\n",
    "    min_index =  indxs[np.argsort(ys[indxs])[:1]]\n",
    "    refined_x, refined_y, second_derivative = refine_peaks(xs, ys, min_index)\n",
    "\n",
    "    return refined_x[0], refined_y[0]\n"
   ]
  },
  {
   "cell_type": "code",
   "execution_count": null,
   "id": "07f86cea-a7b1-451b-8309-dab905db2fa5",
   "metadata": {},
   "outputs": [],
   "source": [
    "def refine_peaks(xs, ys, indices):\n",
    "    \n",
    "    foo = lambda i: refine_peak(xs, ys, i)\n",
    "    xs_refined, ys_refined, second_derivatives = zip(*list(map(foo, indices)))\n",
    "    return np.array(xs_refined), np.array(ys_refined), np.array(second_derivatives)\n"
   ]
  },
  {
   "cell_type": "code",
   "execution_count": null,
   "id": "2b69ec9c-9c2b-4fe2-9220-274a5d324a3a",
   "metadata": {},
   "outputs": [],
   "source": []
  }
 ],
 "metadata": {
  "kernelspec": {
   "display_name": "Python 3 (ipykernel)",
   "language": "python",
   "name": "python3"
  },
  "language_info": {
   "codemirror_mode": {
    "name": "ipython",
    "version": 3
   },
   "file_extension": ".py",
   "mimetype": "text/x-python",
   "name": "python",
   "nbconvert_exporter": "python",
   "pygments_lexer": "ipython3",
   "version": "3.12.9"
  }
 },
 "nbformat": 4,
 "nbformat_minor": 5
}
