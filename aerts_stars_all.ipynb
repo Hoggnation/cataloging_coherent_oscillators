{
 "cells": [
  {
   "cell_type": "code",
   "execution_count": null,
   "id": "d9380b63-ebdc-4dc3-afd9-3fe0a8114d46",
   "metadata": {},
   "outputs": [],
   "source": [
    "import glob\n",
    "import matplotlib.pyplot as plt\n",
    "import nana\n",
    "from astropy.table import Table\n",
    "from astropy.io import ascii\n",
    "import pandas as pd"
   ]
  },
  {
   "cell_type": "code",
   "execution_count": null,
   "id": "158e5dee-1e15-4cdc-8c33-3c30a1c7fe65",
   "metadata": {},
   "outputs": [],
   "source": [
    "star_files = glob.glob(\"*.dat\")\n",
    "star_files.remove('kplr010536147.dat')\n",
    "print(len(star_files))"
   ]
  },
  {
   "cell_type": "code",
   "execution_count": null,
   "id": "69851b26-4510-4dac-927e-f50e9fdbfc73",
   "metadata": {},
   "outputs": [],
   "source": [
    "print(star_files)"
   ]
  },
  {
   "cell_type": "code",
   "execution_count": null,
   "id": "a35b7372-b224-430e-adac-f89745eeb20c",
   "metadata": {},
   "outputs": [],
   "source": [
    "num = 0\n",
    "\n",
    "for star in star_files:\n",
    "    data = pd.read_csv(star)\n",
    "    data = pd.read_csv(star, sep=r'\\s+', header=None, names=['time', 'flux'])\n",
    "    star = star[:13]\n",
    "\n",
    "    #pipeline\n",
    "    lc, delta_f, sampling_time = nana.star(star)\n",
    "    f_max = (3 / (2*sampling_time))\n",
    "    f_min = delta_f/3\n",
    "    t_fit, flux_fit, weight_fit = nana.mask_vals(lc)\n",
    "    freq_full, power_full = nana.pg_full(f_min, f_max, lc)\n",
    "    freq_mini, power_mini = nana.pg_mini(f_min, f_max, lc )\n",
    "    indices = nana.get_filtered_peaks(12, freq_mini, power_mini)\n",
    "    refined_freq, refined_power, second_derivatives = nana.refine_peaks(freq_mini, power_mini, indices)\n",
    "    fc = nana.folding_freq(delta_f, freq_full, power_full, sampling_time, False)\n",
    "    regions, final_freqs, chi2s = nana.region_and_freq(indices, fc, f_min, freq_mini, power_mini, t_fit, flux_fit, weight_fit)\n",
    "    a_early, a_late, b_early, b_late = nana.check_coherence(t_fit, flux_fit, weight_fit, final_freqs)\n",
    "    rate_of_phase, rate_of_amp = nana.change_in_phase_and_amp(a_early, a_late, b_early, b_late, t_fit)\n",
    "    delta_chi2s = nana.null_chi_squared(t_fit, flux_fit, weight_fit) - chi2s\n",
    "    sharpnesses = nana.sharpness(second_derivatives, refined_power)\n",
    "    \n",
    "\n",
    "    data = Table()\n",
    "\n",
    "\n",
    "    data['modes'] = final_freqs\n",
    "    data['regions'] = regions\n",
    "    data['corresponding_freq_in_region_A'] = refined_freq\n",
    "    data['sharpness'] = sharpnesses\n",
    "    data['delta_chi_squares'] = delta_chi2s\n",
    "    data['rate_of_change_of_phase'] = rate_of_phase\n",
    "    data['rate_of_change_of_amplitude'] = rate_of_amp\n",
    "    \n",
    "    ascii.write(\n",
    "        data,\n",
    "        star + '.csv',\n",
    "        overwrite=True,\n",
    "        format=\"csv\",\n",
    "        formats={\n",
    "            \"modes\": \"{:.10f}\",\n",
    "            \"corresponding_freq_in_region_A\": \"{:.5f}\",\n",
    "            \"sharpness\": \"{:.7e}\",\n",
    "            \"delta_chi_squares\": \"{:.7e}\",\n",
    "            \"rate_of_change_of_phase\": \"{:.7e}\",\n",
    "            \"rate_of_change_of_amplitude\": \"{:.7e}\"\n",
    "        }\n",
    "    )\n",
    "\n",
    "    num = num + 1\n",
    "    print(num)\n",
    "    \n",
    "    "
   ]
  },
  {
   "cell_type": "code",
   "execution_count": null,
   "id": "c1261936-b0ac-4c01-9431-7e1b47e6ddb9",
   "metadata": {},
   "outputs": [],
   "source": [
    "lc, delta_f, sampling_time = nana.star('kplr010536147')"
   ]
  },
  {
   "cell_type": "code",
   "execution_count": null,
   "id": "de8be584-bd17-4e49-83a0-825188e875a7",
   "metadata": {},
   "outputs": [],
   "source": [
    "    f_max = (3 / (2*sampling_time))\n",
    "    f_min = delta_f/3\n",
    "    t_fit, flux_fit, weight_fit = nana.mask_vals(lc)\n",
    "    freq_full, power_full = nana.pg_full(f_min, f_max, lc)\n",
    "    freq_mini, power_mini = nana.pg_mini(f_min, f_max, lc )\n",
    "    indices = nana.get_filtered_peaks(12, freq_mini, power_mini)\n",
    "    refined_freq, refined_power, second_derivatives = nana.refine_peaks(freq_mini, power_mini, indices)"
   ]
  },
  {
   "cell_type": "code",
   "execution_count": null,
   "id": "c60118a7-a21e-4bdf-a820-78943f90fde6",
   "metadata": {},
   "outputs": [],
   "source": [
    "plt.scatter(freq_mini[indices], refined_power, color = 'r', marker = 'o')\n",
    "plt.plot(freq_mini, power_mini, 'k.')\n",
    "plt.title(\"star that won't work\")"
   ]
  },
  {
   "cell_type": "code",
   "execution_count": null,
   "id": "d4176c46-6446-411b-8b9a-316f7f5d64e5",
   "metadata": {},
   "outputs": [],
   "source": []
  }
 ],
 "metadata": {
  "kernelspec": {
   "display_name": "Python 3 (ipykernel)",
   "language": "python",
   "name": "python3"
  },
  "language_info": {
   "codemirror_mode": {
    "name": "ipython",
    "version": 3
   },
   "file_extension": ".py",
   "mimetype": "text/x-python",
   "name": "python",
   "nbconvert_exporter": "python",
   "pygments_lexer": "ipython3",
   "version": "3.12.9"
  }
 },
 "nbformat": 4,
 "nbformat_minor": 5
}
