{
 "cells": [
  {
   "cell_type": "code",
   "execution_count": 28,
   "id": "442d82b2-9eb1-4c6e-8ebf-96dc4d49f21a",
   "metadata": {},
   "outputs": [],
   "source": [
    "##for periodogram debugging\n",
    "import lightkurve as lk\n",
    "import matplotlib.pyplot as plt\n",
    "import numpy as np\n",
    "from scipy.signal import find_peaks\n",
    "import scipy.signal\n",
    "import nana\n",
    "import astropy.units as u"
   ]
  },
  {
   "cell_type": "code",
   "execution_count": 55,
   "id": "fd67ad91-86f1-442b-8fba-6cac591a319c",
   "metadata": {},
   "outputs": [],
   "source": [
    "search_result = lk.search_lightcurve('KIC 5202905', mission='Kepler')\n",
    "lc_collection = search_result.download_all()\n",
    "lc = lc_collection.stitch()\n",
    "total_observation_time_nou = (lc.time[-1] - lc.time[0]) \n",
    "total_observation_time = u.def_unit('wedwd', total_observation_time_nou * u.day)"
   ]
  },
  {
   "cell_type": "code",
   "execution_count": null,
   "id": "acc53831-33bc-4873-b790-206fafa8e5f6",
   "metadata": {},
   "outputs": [],
   "source": [
    "print(total_observation_time)"
   ]
  },
  {
   "cell_type": "code",
   "execution_count": null,
   "id": "9d49f471-fffe-4a51-884e-9be0dc6d0f9c",
   "metadata": {},
   "outputs": [],
   "source": []
  }
 ],
 "metadata": {
  "kernelspec": {
   "display_name": "Python 3 (ipykernel)",
   "language": "python",
   "name": "python3"
  },
  "language_info": {
   "codemirror_mode": {
    "name": "ipython",
    "version": 3
   },
   "file_extension": ".py",
   "mimetype": "text/x-python",
   "name": "python",
   "nbconvert_exporter": "python",
   "pygments_lexer": "ipython3",
   "version": "3.12.9"
  }
 },
 "nbformat": 4,
 "nbformat_minor": 5
}
