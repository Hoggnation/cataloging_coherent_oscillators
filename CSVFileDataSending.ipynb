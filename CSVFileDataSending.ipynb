{
 "cells": [
  {
   "cell_type": "code",
   "execution_count": null,
   "id": "59251506-47c8-4231-b3af-c0d198c49a9a",
   "metadata": {},
   "outputs": [],
   "source": [
    "from scipy.signal import find_peaks\n",
    "import lightkurve as lk\n",
    "import numpy as np\n",
    "from scipy.signal import find_peaks\n",
    "import scipy.signal\n",
    "from astropy import units as u\n",
    "from astropy.io import ascii\n",
    "from astropy.table import Table"
   ]
  },
  {
   "cell_type": "code",
   "execution_count": null,
   "id": "11c00473-a407-4c02-8800-63b9bca3f2fb",
   "metadata": {},
   "outputs": [],
   "source": [
    "search_result = lk.search_lightcurve('KIC 5202905', mission='Kepler')\n",
    "lc_collection = search_result.download_all()"
   ]
  },
  {
   "cell_type": "code",
   "execution_count": null,
   "id": "2c535a5f-42a3-4e73-b69b-a374ca4f5927",
   "metadata": {},
   "outputs": [],
   "source": [
    "lc = lc_collection.stitch()\n",
    "total_observation_time = (lc.time[-1] - lc.time[0]).value\n",
    "delta_f = (1/total_observation_time) \n",
    "sampling_rate= np.median(np.diff(lc.time.value))"
   ]
  },
  {
   "cell_type": "code",
   "execution_count": null,
   "id": "1326e141-8fd1-4444-bc3d-c07af48cb67f",
   "metadata": {},
   "outputs": [],
   "source": [
    "f_max = (4 / (sampling_rate))\n",
    "f_min = delta_f/3\n",
    "frequency_grid = np.arange(f_min, f_max, f_min)/(u.day)"
   ]
  },
  {
   "cell_type": "code",
   "execution_count": null,
   "id": "423a6be4-73b4-4cad-a901-e1efb026e32e",
   "metadata": {},
   "outputs": [],
   "source": [
    "pg = lc.to_periodogram(\n",
    "    #method='lombscargle',\n",
    "    normalization='psd',\n",
    "    frequency=frequency_grid\n",
    ")\n",
    "\n",
    "power = pg.power.value\n",
    "freq = pg.frequency.to(1/u.day).value "
   ]
  },
  {
   "cell_type": "code",
   "execution_count": null,
   "id": "718a23e2-47ef-4b31-b082-cd47d4938075",
   "metadata": {},
   "outputs": [],
   "source": [
    "data = Table()\n",
    "data['time'] = lc.time.value\n",
    "data['flux'] = lc.flux.value\n",
    "data['uncertainty'] = lc.flux_err.value\n",
    "ascii.write(data, 'KIC_5202905.data', overwrite=True, format=\"csv\",\n",
    "            formats={\"time\": \"{:.10f}\", \"flux\": \"{:.10f}\", \"uncertainty\": \"{:10f}\"})"
   ]
  },
  {
   "cell_type": "code",
   "execution_count": null,
   "id": "5b1f7ab2-f13f-4300-9ca6-9a51b0fa611f",
   "metadata": {},
   "outputs": [],
   "source": []
  }
 ],
 "metadata": {
  "kernelspec": {
   "display_name": "Python 3 (ipykernel)",
   "language": "python",
   "name": "python3"
  },
  "language_info": {
   "codemirror_mode": {
    "name": "ipython",
    "version": 3
   },
   "file_extension": ".py",
   "mimetype": "text/x-python",
   "name": "python",
   "nbconvert_exporter": "python",
   "pygments_lexer": "ipython3",
   "version": "3.12.9"
  }
 },
 "nbformat": 4,
 "nbformat_minor": 5
}
