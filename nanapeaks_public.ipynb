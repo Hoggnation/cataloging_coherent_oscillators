{
 "cells": [
  {
   "cell_type": "code",
   "execution_count": 2,
   "id": "f664ed0d-003e-48cb-a2a2-e6b3d2203da1",
   "metadata": {},
   "outputs": [],
   "source": [
    "import numpy as np\n",
    "from scipy.signal import find_peaks"
   ]
  },
  {
   "cell_type": "code",
   "execution_count": 8,
   "id": "8a790d34-dcb5-43f4-948a-552e72be2f6b",
   "metadata": {},
   "outputs": [],
   "source": [
    "def get_started(num_of_peaks, xs, ys): \n",
    "    \"\"\"\n",
    "    \n",
    "    returns the indexes of the highest peaks\n",
    "    \n",
    "    \"\"\"\n",
    "    indxs, properties = find_peaks(ys)\n",
    "    return indxs[np.argsort(-ys[indxs])[:num_of_peaks]]\n",
    "    "
   ]
  },
  {
   "cell_type": "code",
   "execution_count": 4,
   "id": "299755d4-0f95-4fcc-9c6a-60e73e28d3ed",
   "metadata": {},
   "outputs": [],
   "source": [
    "def check_inputs(xs):\n",
    "    \"\"\"\n",
    "    checks if xs are ordered (ascending)\n",
    "    \n",
    "    \"\"\"\n",
    "    for i in range(len(xs)-1):\n",
    "        if xs[i] > xs[i+1]:\n",
    "            print(\"check_inputs(): input xs is badly ordered. Use reorder_inputs to reorder\")\n",
    "            return False\n",
    "    return True\n",
    "\n"
   ]
  },
  {
   "cell_type": "code",
   "execution_count": 12,
   "id": "67bbaadc-41b4-49c4-87a5-4f8584daf3a5",
   "metadata": {},
   "outputs": [],
   "source": [
    "def reorder_inputs(xs,ys):\n",
    "    \"\"\"\n",
    "    reorders the inputs in ascending order\n",
    "    \n",
    "    \"\"\"\n",
    "    i = np.argsort(xs)\n",
    "    return xs[i], ys[i]\n",
    "    \n",
    "    "
   ]
  },
  {
   "cell_type": "code",
   "execution_count": 14,
   "id": "c1f48deb-c4ff-404f-a4a7-1ee97ec93f5d",
   "metadata": {},
   "outputs": [],
   "source": [
    "def design_matrix(xlist): #assumes that xs are ordered\n",
    "    \"\"\"\n",
    "    \n",
    "    \"\"\"\n",
    "    return (np.vstack((xlist**0,xlist**1,0.5*xlist**2))).T"
   ]
  },
  {
   "cell_type": "code",
   "execution_count": 16,
   "id": "9a658b0f-a68a-40c4-be6b-ef4b0dcb06fa",
   "metadata": {},
   "outputs": [],
   "source": [
    "def fit_parabola(xs, ys, index):\n",
    "    \"\"\"\n",
    "    \"\"\"\n",
    "    return np.linalg.solve(design_matrix(xs[index-1:index+2]), ys[index-1:index+2])"
   ]
  },
  {
   "cell_type": "code",
   "execution_count": 18,
   "id": "876a252a-05cb-4add-9748-7186726afc14",
   "metadata": {},
   "outputs": [],
   "source": [
    "def refine_peak(xs, ys, index):\n",
    "    \"\"\"\n",
    "    \"\"\"\n",
    "    b,m,q = fit_parabola(xs, ys, index)\n",
    "    x_peak = -m / q\n",
    "    return x_peak, 0.5 * q * (x_peak) ** 2 + m * (x_peak) + b"
   ]
  },
  {
   "cell_type": "code",
   "execution_count": null,
   "id": "58c1697c-4a25-4c7f-a8e3-9f12cb82bb0e",
   "metadata": {},
   "outputs": [],
   "source": [
    "def refine_peaks(xs, ys, indicies):\n",
    "    foo = lambda i: refine_peak(xs,ys,i)\n",
    "    return list(map(foo,indices))"
   ]
  },
  {
   "cell_type": "code",
   "execution_count": 15,
   "id": "82fcd6cf-b929-4ac5-bc23-7435b552fdf7",
   "metadata": {},
   "outputs": [
    {
     "name": "stdout",
     "output_type": "stream",
     "text": [
      "this is the peak: (array([3.85]), array([0.98059083]))\n",
      "this is the refined peak: (array([3.57779754]), array([0.99697313]))\n"
     ]
    }
   ],
   "source": [
    "xs = np.arange(0.2, 15.0, 0.73)\n",
    "ys = np.exp(-0.25 * (xs - 3.57) ** 2)\n",
    "print(\"this is the peak:\", find_nanapeaks(5,xs,ys))\n",
    "print(\"this is the refined peak:\", refine_peak(xs,ys,5))"
   ]
  },
  {
   "cell_type": "code",
   "execution_count": null,
   "id": "70fb2aa1-47e8-4196-916a-f832f571f087",
   "metadata": {},
   "outputs": [],
   "source": []
  }
 ],
 "metadata": {
  "kernelspec": {
   "display_name": "Python [conda env:base] *",
   "language": "python",
   "name": "conda-base-py"
  },
  "language_info": {
   "codemirror_mode": {
    "name": "ipython",
    "version": 3
   },
   "file_extension": ".py",
   "mimetype": "text/x-python",
   "name": "python",
   "nbconvert_exporter": "python",
   "pygments_lexer": "ipython3",
   "version": "3.10.16"
  }
 },
 "nbformat": 4,
 "nbformat_minor": 5
}
