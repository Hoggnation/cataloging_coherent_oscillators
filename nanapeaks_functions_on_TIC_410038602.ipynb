{
  "nbformat": 4,
  "nbformat_minor": 0,
  "metadata": {
    "colab": {
      "provenance": [],
      "authorship_tag": "ABX9TyOvE33Ruci6hK7m3j0XOHsP",
      "include_colab_link": true
    },
    "kernelspec": {
      "name": "python3",
      "display_name": "Python 3"
    },
    "language_info": {
      "name": "python"
    }
  },
  "cells": [
    {
      "cell_type": "markdown",
      "metadata": {
        "id": "view-in-github",
        "colab_type": "text"
      },
      "source": [
        "<a href=\"https://colab.research.google.com/github/Hoggnation/cataloging_coherent_oscillators/blob/main/nanapeaks_functions_on_TIC_410038602.ipynb\" target=\"_parent\"><img src=\"https://colab.research.google.com/assets/colab-badge.svg\" alt=\"Open In Colab\"/></a>"
      ]
    },
    {
      "cell_type": "code",
      "execution_count": 1,
      "metadata": {
        "colab": {
          "base_uri": "https://localhost:8080/"
        },
        "id": "uQUFqDukkKCF",
        "outputId": "c3391b4d-18fb-4689-e155-abbe3f8e52f3"
      },
      "outputs": [
        {
          "output_type": "stream",
          "name": "stdout",
          "text": [
            "Collecting lightkurve\n",
            "  Downloading lightkurve-2.5.0-py3-none-any.whl.metadata (6.1 kB)\n",
            "Requirement already satisfied: astropy>=5.0 in /usr/local/lib/python3.11/dist-packages (from lightkurve) (7.0.1)\n",
            "Collecting astroquery>=0.3.10 (from lightkurve)\n",
            "  Downloading astroquery-0.4.10-py3-none-any.whl.metadata (6.3 kB)\n",
            "Requirement already satisfied: beautifulsoup4>=4.6.0 in /usr/local/lib/python3.11/dist-packages (from lightkurve) (4.13.3)\n",
            "Requirement already satisfied: bokeh>=2.3.2 in /usr/local/lib/python3.11/dist-packages (from lightkurve) (3.6.3)\n",
            "Collecting fbpca>=1.0 (from lightkurve)\n",
            "  Downloading fbpca-1.0.tar.gz (11 kB)\n",
            "  Preparing metadata (setup.py) ... \u001b[?25l\u001b[?25hdone\n",
            "Requirement already satisfied: matplotlib>=3.1 in /usr/local/lib/python3.11/dist-packages (from lightkurve) (3.10.0)\n",
            "Collecting memoization>=0.3.1 (from lightkurve)\n",
            "  Downloading memoization-0.4.0.tar.gz (41 kB)\n",
            "\u001b[2K     \u001b[90m━━━━━━━━━━━━━━━━━━━━━━━━━━━━━━━━━━━━━━━━\u001b[0m \u001b[32m41.2/41.2 kB\u001b[0m \u001b[31m1.5 MB/s\u001b[0m eta \u001b[36m0:00:00\u001b[0m\n",
            "\u001b[?25h  Preparing metadata (setup.py) ... \u001b[?25l\u001b[?25hdone\n",
            "Requirement already satisfied: numpy>=1.18 in /usr/local/lib/python3.11/dist-packages (from lightkurve) (2.0.2)\n",
            "Collecting oktopus>=0.1.2 (from lightkurve)\n",
            "  Downloading oktopus-0.1.2.tar.gz (10 kB)\n",
            "  Preparing metadata (setup.py) ... \u001b[?25l\u001b[?25hdone\n",
            "Requirement already satisfied: pandas>=1.1.4 in /usr/local/lib/python3.11/dist-packages (from lightkurve) (2.2.2)\n",
            "Requirement already satisfied: patsy>=0.5.0 in /usr/local/lib/python3.11/dist-packages (from lightkurve) (1.0.1)\n",
            "Requirement already satisfied: requests>=2.22.0 in /usr/local/lib/python3.11/dist-packages (from lightkurve) (2.32.3)\n",
            "Collecting s3fs>=2024.6.1 (from lightkurve)\n",
            "  Downloading s3fs-2025.3.0-py3-none-any.whl.metadata (1.9 kB)\n",
            "Requirement already satisfied: scikit-learn>=0.24.0 in /usr/local/lib/python3.11/dist-packages (from lightkurve) (1.6.1)\n",
            "Requirement already satisfied: tqdm>=4.25.0 in /usr/local/lib/python3.11/dist-packages (from lightkurve) (4.67.1)\n",
            "Collecting uncertainties>=3.1.4 (from lightkurve)\n",
            "  Downloading uncertainties-3.2.2-py3-none-any.whl.metadata (6.9 kB)\n",
            "Requirement already satisfied: urllib3>=1.23 in /usr/local/lib/python3.11/dist-packages (from lightkurve) (2.3.0)\n",
            "Requirement already satisfied: pyerfa>=2.0.1.1 in /usr/local/lib/python3.11/dist-packages (from astropy>=5.0->lightkurve) (2.0.1.5)\n",
            "Requirement already satisfied: astropy-iers-data>=0.2025.1.31.12.41.4 in /usr/local/lib/python3.11/dist-packages (from astropy>=5.0->lightkurve) (0.2025.3.17.0.34.53)\n",
            "Requirement already satisfied: PyYAML>=6.0.0 in /usr/local/lib/python3.11/dist-packages (from astropy>=5.0->lightkurve) (6.0.2)\n",
            "Requirement already satisfied: packaging>=22.0.0 in /usr/local/lib/python3.11/dist-packages (from astropy>=5.0->lightkurve) (24.2)\n",
            "Requirement already satisfied: html5lib>=0.999 in /usr/local/lib/python3.11/dist-packages (from astroquery>=0.3.10->lightkurve) (1.1)\n",
            "Requirement already satisfied: keyring>=15.0 in /usr/lib/python3/dist-packages (from astroquery>=0.3.10->lightkurve) (23.5.0)\n",
            "Collecting pyvo>=1.5 (from astroquery>=0.3.10->lightkurve)\n",
            "  Downloading pyvo-1.6.1-py3-none-any.whl.metadata (4.8 kB)\n",
            "Requirement already satisfied: soupsieve>1.2 in /usr/local/lib/python3.11/dist-packages (from beautifulsoup4>=4.6.0->lightkurve) (2.6)\n",
            "Requirement already satisfied: typing-extensions>=4.0.0 in /usr/local/lib/python3.11/dist-packages (from beautifulsoup4>=4.6.0->lightkurve) (4.12.2)\n",
            "Requirement already satisfied: Jinja2>=2.9 in /usr/local/lib/python3.11/dist-packages (from bokeh>=2.3.2->lightkurve) (3.1.6)\n",
            "Requirement already satisfied: contourpy>=1.2 in /usr/local/lib/python3.11/dist-packages (from bokeh>=2.3.2->lightkurve) (1.3.1)\n",
            "Requirement already satisfied: pillow>=7.1.0 in /usr/local/lib/python3.11/dist-packages (from bokeh>=2.3.2->lightkurve) (11.1.0)\n",
            "Requirement already satisfied: tornado>=6.2 in /usr/local/lib/python3.11/dist-packages (from bokeh>=2.3.2->lightkurve) (6.4.2)\n",
            "Requirement already satisfied: xyzservices>=2021.09.1 in /usr/local/lib/python3.11/dist-packages (from bokeh>=2.3.2->lightkurve) (2025.1.0)\n",
            "Requirement already satisfied: cycler>=0.10 in /usr/local/lib/python3.11/dist-packages (from matplotlib>=3.1->lightkurve) (0.12.1)\n",
            "Requirement already satisfied: fonttools>=4.22.0 in /usr/local/lib/python3.11/dist-packages (from matplotlib>=3.1->lightkurve) (4.56.0)\n",
            "Requirement already satisfied: kiwisolver>=1.3.1 in /usr/local/lib/python3.11/dist-packages (from matplotlib>=3.1->lightkurve) (1.4.8)\n",
            "Requirement already satisfied: pyparsing>=2.3.1 in /usr/local/lib/python3.11/dist-packages (from matplotlib>=3.1->lightkurve) (3.2.1)\n",
            "Requirement already satisfied: python-dateutil>=2.7 in /usr/local/lib/python3.11/dist-packages (from matplotlib>=3.1->lightkurve) (2.8.2)\n",
            "Requirement already satisfied: scipy in /usr/local/lib/python3.11/dist-packages (from oktopus>=0.1.2->lightkurve) (1.14.1)\n",
            "Requirement already satisfied: autograd in /usr/local/lib/python3.11/dist-packages (from oktopus>=0.1.2->lightkurve) (1.7.0)\n",
            "Requirement already satisfied: pytz>=2020.1 in /usr/local/lib/python3.11/dist-packages (from pandas>=1.1.4->lightkurve) (2025.1)\n",
            "Requirement already satisfied: tzdata>=2022.7 in /usr/local/lib/python3.11/dist-packages (from pandas>=1.1.4->lightkurve) (2025.1)\n",
            "Requirement already satisfied: charset-normalizer<4,>=2 in /usr/local/lib/python3.11/dist-packages (from requests>=2.22.0->lightkurve) (3.4.1)\n",
            "Requirement already satisfied: idna<4,>=2.5 in /usr/local/lib/python3.11/dist-packages (from requests>=2.22.0->lightkurve) (3.10)\n",
            "Requirement already satisfied: certifi>=2017.4.17 in /usr/local/lib/python3.11/dist-packages (from requests>=2.22.0->lightkurve) (2025.1.31)\n",
            "Collecting aiobotocore<3.0.0,>=2.5.4 (from s3fs>=2024.6.1->lightkurve)\n",
            "  Downloading aiobotocore-2.21.1-py3-none-any.whl.metadata (24 kB)\n",
            "Requirement already satisfied: fsspec==2025.3.0.* in /usr/local/lib/python3.11/dist-packages (from s3fs>=2024.6.1->lightkurve) (2025.3.0)\n",
            "Requirement already satisfied: aiohttp!=4.0.0a0,!=4.0.0a1 in /usr/local/lib/python3.11/dist-packages (from s3fs>=2024.6.1->lightkurve) (3.11.14)\n",
            "Requirement already satisfied: joblib>=1.2.0 in /usr/local/lib/python3.11/dist-packages (from scikit-learn>=0.24.0->lightkurve) (1.4.2)\n",
            "Requirement already satisfied: threadpoolctl>=3.1.0 in /usr/local/lib/python3.11/dist-packages (from scikit-learn>=0.24.0->lightkurve) (3.6.0)\n",
            "Collecting aioitertools<1.0.0,>=0.5.1 (from aiobotocore<3.0.0,>=2.5.4->s3fs>=2024.6.1->lightkurve)\n",
            "  Downloading aioitertools-0.12.0-py3-none-any.whl.metadata (3.8 kB)\n",
            "Collecting botocore<1.37.2,>=1.37.0 (from aiobotocore<3.0.0,>=2.5.4->s3fs>=2024.6.1->lightkurve)\n",
            "  Downloading botocore-1.37.1-py3-none-any.whl.metadata (5.7 kB)\n",
            "Collecting jmespath<2.0.0,>=0.7.1 (from aiobotocore<3.0.0,>=2.5.4->s3fs>=2024.6.1->lightkurve)\n",
            "  Downloading jmespath-1.0.1-py3-none-any.whl.metadata (7.6 kB)\n",
            "Requirement already satisfied: multidict<7.0.0,>=6.0.0 in /usr/local/lib/python3.11/dist-packages (from aiobotocore<3.0.0,>=2.5.4->s3fs>=2024.6.1->lightkurve) (6.2.0)\n",
            "Requirement already satisfied: wrapt<2.0.0,>=1.10.10 in /usr/local/lib/python3.11/dist-packages (from aiobotocore<3.0.0,>=2.5.4->s3fs>=2024.6.1->lightkurve) (1.17.2)\n",
            "Requirement already satisfied: aiohappyeyeballs>=2.3.0 in /usr/local/lib/python3.11/dist-packages (from aiohttp!=4.0.0a0,!=4.0.0a1->s3fs>=2024.6.1->lightkurve) (2.6.1)\n",
            "Requirement already satisfied: aiosignal>=1.1.2 in /usr/local/lib/python3.11/dist-packages (from aiohttp!=4.0.0a0,!=4.0.0a1->s3fs>=2024.6.1->lightkurve) (1.3.2)\n",
            "Requirement already satisfied: attrs>=17.3.0 in /usr/local/lib/python3.11/dist-packages (from aiohttp!=4.0.0a0,!=4.0.0a1->s3fs>=2024.6.1->lightkurve) (25.3.0)\n",
            "Requirement already satisfied: frozenlist>=1.1.1 in /usr/local/lib/python3.11/dist-packages (from aiohttp!=4.0.0a0,!=4.0.0a1->s3fs>=2024.6.1->lightkurve) (1.5.0)\n",
            "Requirement already satisfied: propcache>=0.2.0 in /usr/local/lib/python3.11/dist-packages (from aiohttp!=4.0.0a0,!=4.0.0a1->s3fs>=2024.6.1->lightkurve) (0.3.0)\n",
            "Requirement already satisfied: yarl<2.0,>=1.17.0 in /usr/local/lib/python3.11/dist-packages (from aiohttp!=4.0.0a0,!=4.0.0a1->s3fs>=2024.6.1->lightkurve) (1.18.3)\n",
            "Requirement already satisfied: six>=1.9 in /usr/local/lib/python3.11/dist-packages (from html5lib>=0.999->astroquery>=0.3.10->lightkurve) (1.17.0)\n",
            "Requirement already satisfied: webencodings in /usr/local/lib/python3.11/dist-packages (from html5lib>=0.999->astroquery>=0.3.10->lightkurve) (0.5.1)\n",
            "Requirement already satisfied: MarkupSafe>=2.0 in /usr/local/lib/python3.11/dist-packages (from Jinja2>=2.9->bokeh>=2.3.2->lightkurve) (3.0.2)\n",
            "Downloading lightkurve-2.5.0-py3-none-any.whl (270 kB)\n",
            "\u001b[2K   \u001b[90m━━━━━━━━━━━━━━━━━━━━━━━━━━━━━━━━━━━━━━━━\u001b[0m \u001b[32m270.4/270.4 kB\u001b[0m \u001b[31m1.9 MB/s\u001b[0m eta \u001b[36m0:00:00\u001b[0m\n",
            "\u001b[?25hDownloading astroquery-0.4.10-py3-none-any.whl (11.1 MB)\n",
            "\u001b[2K   \u001b[90m━━━━━━━━━━━━━━━━━━━━━━━━━━━━━━━━━━━━━━━━\u001b[0m \u001b[32m11.1/11.1 MB\u001b[0m \u001b[31m16.8 MB/s\u001b[0m eta \u001b[36m0:00:00\u001b[0m\n",
            "\u001b[?25hDownloading s3fs-2025.3.0-py3-none-any.whl (30 kB)\n",
            "Downloading uncertainties-3.2.2-py3-none-any.whl (58 kB)\n",
            "\u001b[2K   \u001b[90m━━━━━━━━━━━━━━━━━━━━━━━━━━━━━━━━━━━━━━━━\u001b[0m \u001b[32m58.3/58.3 kB\u001b[0m \u001b[31m3.8 MB/s\u001b[0m eta \u001b[36m0:00:00\u001b[0m\n",
            "\u001b[?25hDownloading aiobotocore-2.21.1-py3-none-any.whl (78 kB)\n",
            "\u001b[2K   \u001b[90m━━━━━━━━━━━━━━━━━━━━━━━━━━━━━━━━━━━━━━━━\u001b[0m \u001b[32m78.3/78.3 kB\u001b[0m \u001b[31m4.1 MB/s\u001b[0m eta \u001b[36m0:00:00\u001b[0m\n",
            "\u001b[?25hDownloading pyvo-1.6.1-py3-none-any.whl (997 kB)\n",
            "\u001b[2K   \u001b[90m━━━━━━━━━━━━━━━━━━━━━━━━━━━━━━━━━━━━━━━━\u001b[0m \u001b[32m997.6/997.6 kB\u001b[0m \u001b[31m11.3 MB/s\u001b[0m eta \u001b[36m0:00:00\u001b[0m\n",
            "\u001b[?25hDownloading aioitertools-0.12.0-py3-none-any.whl (24 kB)\n",
            "Downloading botocore-1.37.1-py3-none-any.whl (13.4 MB)\n",
            "\u001b[2K   \u001b[90m━━━━━━━━━━━━━━━━━━━━━━━━━━━━━━━━━━━━━━━━\u001b[0m \u001b[32m13.4/13.4 MB\u001b[0m \u001b[31m39.6 MB/s\u001b[0m eta \u001b[36m0:00:00\u001b[0m\n",
            "\u001b[?25hDownloading jmespath-1.0.1-py3-none-any.whl (20 kB)\n",
            "Building wheels for collected packages: fbpca, memoization, oktopus\n",
            "  Building wheel for fbpca (setup.py) ... \u001b[?25l\u001b[?25hdone\n",
            "  Created wheel for fbpca: filename=fbpca-1.0-py3-none-any.whl size=11373 sha256=92f531791d3631165c2b3d39090a8ff0fed1ddae45a732ad5b8f4213796b2dc7\n",
            "  Stored in directory: /root/.cache/pip/wheels/71/ae/f7/5b7e1e16a133d094431428169e9a8d9f750afe5459f0333c9b\n",
            "  Building wheel for memoization (setup.py) ... \u001b[?25l\u001b[?25hdone\n",
            "  Created wheel for memoization: filename=memoization-0.4.0-py3-none-any.whl size=50453 sha256=77ef8990a1d91c5e364454d1b38c797efbbd7d29bc614765e75fb860e4fa10ec\n",
            "  Stored in directory: /root/.cache/pip/wheels/72/08/6d/529f7ad70429b918b80178256c3adb167607326260884385f7\n",
            "  Building wheel for oktopus (setup.py) ... \u001b[?25l\u001b[?25hdone\n",
            "  Created wheel for oktopus: filename=oktopus-0.1.2-py3-none-any.whl size=12764 sha256=a9d3f347f9b62625e66deed769456fbbf1b1512bad52b50759333a068c39043c\n",
            "  Stored in directory: /root/.cache/pip/wheels/59/ac/2e/de04329ce2503f6dcc133e2657ccb9f0f0e59a516aefc4714d\n",
            "Successfully built fbpca memoization oktopus\n",
            "Installing collected packages: fbpca, uncertainties, memoization, jmespath, aioitertools, oktopus, botocore, pyvo, aiobotocore, s3fs, astroquery, lightkurve\n",
            "Successfully installed aiobotocore-2.21.1 aioitertools-0.12.0 astroquery-0.4.10 botocore-1.37.1 fbpca-1.0 jmespath-1.0.1 lightkurve-2.5.0 memoization-0.4.0 oktopus-0.1.2 pyvo-1.6.1 s3fs-2025.3.0 uncertainties-3.2.2\n"
          ]
        }
      ],
      "source": [
        "!pip install lightkurve\n",
        "import lightkurve as lk\n",
        "import matplotlib.pyplot as plt\n",
        "import numpy as np\n",
        "from scipy.signal import find_peaks"
      ]
    },
    {
      "cell_type": "code",
      "source": [
        "#this means only look at top ten frequencies/peaks\n",
        "MAX_FREQS_PER_STAR = 10"
      ],
      "metadata": {
        "id": "X-taNr3ekOeb"
      },
      "execution_count": 2,
      "outputs": []
    },
    {
      "cell_type": "code",
      "source": [
        "search_result = lk.search_lightcurve('TIC 410038602', mission='TESS')\n",
        "lc_collection = search_result.download_all()"
      ],
      "metadata": {
        "id": "V6DYotVqkQUW"
      },
      "execution_count": 3,
      "outputs": []
    },
    {
      "cell_type": "code",
      "source": [
        "#array of time differences, find its median, use it to calculate the max frequency\n",
        "lc = lc_collection.stitch()  # Combine all light curves in lc_collection\n",
        "sampling_rate_days= np.median(np.diff(lc.time))\n",
        "sampling_rate_days_no_units = sampling_rate_days.value #get rid of units\n",
        "f_max = 1 / (sampling_rate_days) #in days\n",
        "f_max_no_units = f_max.value #get rid of units (but it's actually in 1/days)\n",
        "\n",
        "print(sampling_rate_days_no_units)\n",
        "print(f_max_no_units)\n",
        "print(sampling_rate_days)"
      ],
      "metadata": {
        "colab": {
          "base_uri": "https://localhost:8080/"
        },
        "id": "cM_vH-ICkUsX",
        "outputId": "58a7b84c-266d-46b9-b863-fb2365d113ad"
      },
      "execution_count": 4,
      "outputs": [
        {
          "output_type": "stream",
          "name": "stderr",
          "text": [
            "/usr/local/lib/python3.11/dist-packages/lightkurve/collections.py:212: LightkurveWarning: The following columns will be excluded from stitching because the column types are incompatible: {'sap_bkg', 'sap_flux', 'sap_bkg_err'}\n",
            "  warnings.warn(\n"
          ]
        },
        {
          "output_type": "stream",
          "name": "stdout",
          "text": [
            "0.0023147686422362312\n",
            "432.0086170831867\n",
            "0.0023147686422362312\n"
          ]
        }
      ]
    },
    {
      "cell_type": "code",
      "source": [
        "#check there is no unit\n",
        "print(type(f_max_no_units), type(sampling_rate_days_no_units))"
      ],
      "metadata": {
        "colab": {
          "base_uri": "https://localhost:8080/"
        },
        "id": "kWU31uvJkY1B",
        "outputId": "7d5b2f9c-f731-4c69-ade7-26d326a77135"
      },
      "execution_count": null,
      "outputs": [
        {
          "output_type": "stream",
          "name": "stdout",
          "text": [
            "<class 'numpy.float64'> <class 'numpy.float64'>\n"
          ]
        }
      ]
    },
    {
      "cell_type": "code",
      "source": [
        "#find total observation time, use it to find minimum frequency\n",
        "total_observation_time = lc.time[-1] - lc.time[0] # in days\n",
        "f_min = f_min = 1/ total_observation_time # in days\n",
        "f_min_no_units = f_min.value #strip units (but are in 1/days)\n",
        "print(f_min_no_units)\n",
        "print(type(f_min_no_units))"
      ],
      "metadata": {
        "colab": {
          "base_uri": "https://localhost:8080/"
        },
        "id": "t3v3X92Ykb9k",
        "outputId": "3717b80b-fdf0-49bd-d0f5-c1bb7d3567a0"
      },
      "execution_count": 5,
      "outputs": [
        {
          "output_type": "stream",
          "name": "stdout",
          "text": [
            "0.040578475585956036\n",
            "<class 'numpy.float64'>\n"
          ]
        }
      ]
    },
    {
      "cell_type": "code",
      "source": [
        "#trying to create periodograms with no units by manually plotting\n",
        "#use lightcurve called lc to make periogram pg\n",
        "pg = lc.to_periodogram(\n",
        "    method='lombscargle',\n",
        "    normalization='psd',\n",
        "    minimum_frequency=f_min_no_units,\n",
        "    maximum_frequency=f_max_no_units\n",
        ")\n",
        "\n",
        "power_no_units = np.array(pg.power.value) # an array of powers of the ligthcurve\n",
        "freq_no_units = np.array(pg.frequency.value) # array of freqs of lightcurve\n",
        "plt.figure(figsize=(8, 4))\n",
        "plt.plot(freq_no_units, power_no_units, 'k-')  # Black line\n",
        "plt.xlabel(\"Frequency (1/day)\")\n",
        "plt.ylabel(\"Power\")\n",
        "plt.title(\"Lomb-Scargle Periodogram\")\n",
        "plt.show()"
      ],
      "metadata": {
        "colab": {
          "base_uri": "https://localhost:8080/",
          "height": 410
        },
        "id": "Le_66ZdZkdpH",
        "outputId": "8f4e8002-4fab-4bdc-ce12-543ea071eda3"
      },
      "execution_count": 6,
      "outputs": [
        {
          "output_type": "display_data",
          "data": {
            "text/plain": [
              "<Figure size 800x400 with 1 Axes>"
            ],
            "image/png": "[encoded data removed]"
          },
          "metadata": {}
        }
      ]
    },
    {
      "cell_type": "code",
      "source": [
        "#trying to create periodograms of spacing f_min\n",
        "frequency_grid = np.arange(f_min_no_units, f_max_no_units, f_min_no_units) #spacing with increments of f_min, starting with f_min_no_units to avoid di\n",
        "\n",
        "#create periodogram only to get values in order to remove units\n",
        "pg_spacing_fmin = lc.to_periodogram(\n",
        "    method='lombscargle',\n",
        "    normalization='psd',\n",
        "    frequency=frequency_grid  # Unitless frequency grid\n",
        ")\n",
        "\n",
        "freq_values = np.array(pg_spacing_fmin.frequency.value)  # Remove units\n",
        "power_values = np.array(pg_spacing_fmin.power.value)  # Remove units\n",
        "\n",
        "plt.close('all')\n",
        "\n",
        "plt.figure(figsize=(8, 4))\n",
        "plt.plot(freq_values, power_values, 'k-', lw=0.8)\n",
        "plt.xlabel(\"Frequency\")\n",
        "plt.ylabel(\"Power\")\n",
        "plt.title(\"Lomb-Scargle Periodogram\")\n",
        "\n",
        "plt.show()"
      ],
      "metadata": {
        "colab": {
          "base_uri": "https://localhost:8080/",
          "height": 410
        },
        "id": "6td9ssd6kfyL",
        "outputId": "05ef3bec-1cd3-4762-af6e-f69223cb2bbc"
      },
      "execution_count": 7,
      "outputs": [
        {
          "output_type": "display_data",
          "data": {
            "text/plain": [
              "<Figure size 800x400 with 1 Axes>"
            ],
            "image/png": "[encoded data removed]"
          },
          "metadata": {}
        }
      ]
    },
    {
      "cell_type": "code",
      "source": [
        "import numpy as np\n",
        "from scipy.signal import find_peaks"
      ],
      "metadata": {
        "id": "gDH2hz-2kh90"
      },
      "execution_count": 8,
      "outputs": []
    },
    {
      "cell_type": "code",
      "source": [
        "def get_started(num_of_peaks, xs, ys):\n",
        "    \"\"\"\n",
        "\n",
        "    Identifies and returns the indices of the highest peaks in a given dataset.\n",
        "\n",
        "    Args:\n",
        "        num_of_peaks (int): The number of highest peaks to return.\n",
        "        xs (numpy.ndarray): The x-axis values\n",
        "        ys (numpy.ndarray): The y-axis values\n",
        "\n",
        "    Returns:\n",
        "        numpy array: An array of indices corresponding to the highest peaks in `ys`.\n",
        "\n",
        "    Bugs:\n",
        "        `num_of_peaks` cannot be greater than the number of detected peaks\n",
        "        `xs` or `ys` must be NumPy array\n",
        "\n",
        "\n",
        "    \"\"\"\n",
        "    indxs, properties = find_peaks(ys)\n",
        "    return indxs[np.argsort(-ys[indxs])[:num_of_peaks]]"
      ],
      "metadata": {
        "id": "jPlyvtXVlgvT"
      },
      "execution_count": 9,
      "outputs": []
    },
    {
      "cell_type": "code",
      "source": [
        "def check_inputs(xs):\n",
        "    \"\"\"\n",
        "\n",
        "    Checks whether the input array `xs` is sorted in ascending order.\n",
        "\n",
        "    Args:\n",
        "        xs (numpy.ndarray or list): The input array to check.\n",
        "\n",
        "    Returns:\n",
        "        bool: `True` if `xs` is sorted in ascending order, otherwise `False`.\n",
        "\n",
        "    \"\"\"\n",
        "    for i in range(len(xs)-1):\n",
        "        if xs[i] > xs[i+1]:\n",
        "            print(\"check_inputs(): input xs is badly ordered. Use reorder_inputs to reorder\")\n",
        "            return False\n",
        "    return True"
      ],
      "metadata": {
        "id": "c8yPzYzalikD"
      },
      "execution_count": 10,
      "outputs": []
    },
    {
      "cell_type": "code",
      "source": [
        "def reorder_inputs(xs,ys):\n",
        "    \"\"\"\n",
        "\n",
        "    Reorders the input arrays `xs` and `ys` in ascending order of `xs`.\n",
        "\n",
        "    Args:\n",
        "        xs (numpy.ndarray): The x-axis values\n",
        "        ys (numpy.ndarray): The y-axis values\n",
        "\n",
        "    Returns:\n",
        "        tuple of numpy arrays (sorted xs, sorted ys)\n",
        "\n",
        "    Bugs:\n",
        "        `xs` or `ys` must be NumPy array\n",
        "        `xs` and `ys`must be same length\n",
        "\n",
        "    \"\"\"\n",
        "    i = np.argsort(xs)\n",
        "    return xs[i], ys[i]\n"
      ],
      "metadata": {
        "id": "fUZzXZEclke3"
      },
      "execution_count": 11,
      "outputs": []
    },
    {
      "cell_type": "code",
      "source": [
        "#xlist is the teh index left to highest peak, highest peak, and the index right to teh highest peak\n",
        "def design_matrix(xlist):\n",
        "    \"\"\"\n",
        "\n",
        "    Constructs a design matrix for quadratic curve fitting.\n",
        "\n",
        "    Args:\n",
        "        xs (numpy.ndarray): The x-axis values\n",
        "\n",
        "    Returns:\n",
        "        3 x 3 design matrix of numpy arrays\n",
        "\n",
        "    Bugs:\n",
        "        xlist must be an numpy array\n",
        "\n",
        "    Note:\n",
        "        Note the factor of 0.5 that Hogg likes and no one else\n",
        "        Also assumes xlist is ordered\n",
        "\n",
        "    \"\"\"\n",
        "    return (np.vstack((xlist**0,xlist**1,0.5*xlist**2))).T"
      ],
      "metadata": {
        "id": "m5xAvxzKlnei"
      },
      "execution_count": 12,
      "outputs": []
    },
    {
      "cell_type": "code",
      "source": [
        "def fit_parabola(xs, ys, index):\n",
        "    \"\"\"\n",
        "\n",
        "    Fits a quadratic function to three consecutive data points. Solves for coefficients (b,m,q) in the quadratic\n",
        "    f(x) = b + m*x + (1/2) * q * x^2\n",
        "\n",
        "    Args:\n",
        "        xs (numpy.ndarray): The x-axis values\n",
        "        ys (numpy.ndarray): The y-axis values\n",
        "        index (int): The index of peak\n",
        "\n",
        "\n",
        "    Returns:\n",
        "        tuple: (b, m, q)\n",
        "\n",
        "    Bugs:\n",
        "        index-1` or `index+2` can't be out of bounds\n",
        "        ``xs` or `ys` must be NumPy array\n",
        "\n",
        "\n",
        "    \"\"\"\n",
        "    return np.linalg.solve(design_matrix(xs[index-1:index+2]), ys[index-1:index+2])"
      ],
      "metadata": {
        "id": "lEPOyDT5lpiT"
      },
      "execution_count": 13,
      "outputs": []
    },
    {
      "cell_type": "code",
      "source": [
        "def refine_peak(xs, ys, index):\n",
        "    \"\"\"\n",
        "\n",
        "    Refines the peak position using quadratic fit\n",
        "\n",
        "    Args:\n",
        "        xs (numpy.ndarray): The x-axis values\n",
        "        ys (numpy.ndarray): The y-axis values\n",
        "        index (int): The index of peak\n",
        "\n",
        "    Returns:\n",
        "        tuple: (x position of refined peak, y position of refined peak)\n",
        "\n",
        "    Bugs:\n",
        "        Must be synchronized with the design matrix\n",
        "\n",
        "\n",
        "    \"\"\"\n",
        "    b,m,q = fit_parabola(xs, ys, index)\n",
        "    x_peak = -m / q\n",
        "    return x_peak, 0.5 * q * (x_peak) ** 2 + m * (x_peak) + b"
      ],
      "metadata": {
        "id": "VXvUNkIwlrqr"
      },
      "execution_count": 14,
      "outputs": []
    },
    {
      "cell_type": "code",
      "source": [
        "def refine_peaks(xs, ys, indices):\n",
        "    \"\"\"\n",
        "\n",
        "    Refines the peak position for a set of indices using quadratic fit\n",
        "\n",
        "    Args:\n",
        "        xs (numpy.ndarray): The x-axis values\n",
        "        ys (numpy.ndarray): The y-axis values\n",
        "        indices (numpy array): indices of the peaks (this should be the output of get_started()\n",
        "\n",
        "    Returns:\n",
        "        tuple of numpy arrays (array of refined x positions, array of refined y positions\n",
        "\n",
        "\n",
        "    \"\"\"\n",
        "    foo = lambda i: refine_peak(xs,ys,i)\n",
        "    xs_refined, ys_refined = zip(*list(map(foo,indices)))\n",
        "    return np.array(xs_refined), np.array(ys_refined)"
      ],
      "metadata": {
        "id": "WcHLKd1Tlty8"
      },
      "execution_count": 15,
      "outputs": []
    }
  ]
}