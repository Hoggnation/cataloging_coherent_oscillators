{
 "cells": [
  {
   "cell_type": "code",
   "execution_count": 1,
   "id": "b2f63ebb-804e-44f1-95f2-26360977a1d6",
   "metadata": {},
   "outputs": [],
   "source": [
    "from scipy.signal import find_peaks\n",
    "import lightkurve as lk\n",
    "import matplotlib.pyplot as plt\n",
    "import numpy as np\n",
    "from scipy.signal import find_peaks\n",
    "import scipy.signal\n",
    "from astropy import units as u\n",
    "import nana\n",
    "from scipy.interpolate import CubicSpline\n",
    "import matplotlib.ticker as ticker\n",
    "from matplotlib.patches import Ellipse\n",
    "from math import cos, sin, radians"
   ]
  },
  {
   "cell_type": "code",
   "execution_count": 2,
   "id": "a4506ed2-5f1f-479f-8715-fd558a1c2641",
   "metadata": {},
   "outputs": [],
   "source": [
    "def get_started(num_of_peaks, xs, ys): \n",
    "    \"\"\"\n",
    "    \n",
    "    Identifies and returns the indices of the highest peaks in a given dataset.\n",
    "    \n",
    "    Args:\n",
    "        num_of_peaks (int): The number of highest peaks to return.\n",
    "        xs (numpy.ndarray): The x-axis values \n",
    "        ys (numpy.ndarray): The y-axis values\n",
    "\n",
    "    Returns:\n",
    "        numpy array: An array of indices corresponding to the highest peaks in `ys`.\n",
    "\n",
    "    Bugs:\n",
    "        `num_of_peaks` cannot be greater than the number of detected peaks\n",
    "        `xs` or `ys` must be NumPy array\n",
    "\n",
    "    \n",
    "    \"\"\"\n",
    "    indxs, properties = find_peaks(ys)\n",
    "    return indxs[np.argsort(-ys[indxs])[:num_of_peaks]]\n",
    "\n",
    "def check_inputs(xs):\n",
    "    \"\"\"\n",
    "    \n",
    "    Checks whether the input array `xs` is sorted in ascending order.\n",
    "\n",
    "    Args:\n",
    "        xs (numpy.ndarray or list): The input array to check.\n",
    "\n",
    "    Returns:\n",
    "        bool: `True` if `xs` is sorted in ascending order, otherwise `False`.\n",
    "    \n",
    "    \"\"\"\n",
    "    for i in range(len(xs)-1):\n",
    "        if xs[i] > xs[i+1]:\n",
    "            print(\"check_inputs(): input xs is badly ordered. Use reorder_inputs to reorder\")\n",
    "            return False\n",
    "    return True\n",
    "\n",
    "def reorder_inputs(xs,ys):\n",
    "    \"\"\"\n",
    "    \n",
    "    Reorders the input arrays `xs` and `ys` in ascending order of `xs`.\n",
    "\n",
    "    Args:\n",
    "        xs (numpy.ndarray): The x-axis values \n",
    "        ys (numpy.ndarray): The y-axis values\n",
    "        \n",
    "    Returns:\n",
    "        tuple of numpy arrays (sorted xs, sorted ys)\n",
    "\n",
    "    Bugs:\n",
    "        `xs` or `ys` must be NumPy array\n",
    "        `xs` and `ys`must be same length\n",
    "        \n",
    "    \"\"\"\n",
    "    i = np.argsort(xs)\n",
    "    return xs[i], ys[i]\n",
    "\n",
    "#xlist is the teh index left to highest peak, highest peak, and the index right to teh highest peak\n",
    "def design_matrix(xlist): \n",
    "    \"\"\"\n",
    "    \n",
    "    Constructs a design matrix for quadratic curve fitting.\n",
    "\n",
    "    Args:\n",
    "        xs (numpy.ndarray): The x-axis values \n",
    "\n",
    "    Returns:\n",
    "        3 x 3 design matrix of numpy arrays\n",
    "\n",
    "    Bugs:\n",
    "        xlist must be an numpy array\n",
    "\n",
    "    Note:\n",
    "        Note the factor of 0.5 that Hogg likes and no one else\n",
    "        Also assumes xlist is ordered\n",
    "    \n",
    "    \"\"\"\n",
    "    return (np.vstack((xlist**0,xlist**1,0.5*xlist**2))).T\n",
    "\n",
    "def fit_parabola(xs, ys, index):\n",
    "    \"\"\"\n",
    "\n",
    "    Fits a quadratic function to three consecutive data points. Solves for coefficients (b,m,q) in the quadratic\n",
    "    f(x) = b + m*x + (1/2) * q * x^2\n",
    "\n",
    "    Args:\n",
    "        xs (numpy.ndarray): The x-axis values \n",
    "        ys (numpy.ndarray): The y-axis values\n",
    "        index (int): The index of peak\n",
    "        \n",
    "\n",
    "    Returns:\n",
    "        tuple: (b, m, q)\n",
    "\n",
    "    Bugs: \n",
    "        index-1` or `index+2` can't be out of bounds\n",
    "        ``xs` or `ys` must be NumPy array\n",
    "        \n",
    "    \n",
    "    \"\"\"\n",
    "    return np.linalg.solve(design_matrix(xs[index-1:index+2]), ys[index-1:index+2])\n",
    "\n",
    "def refine_peak(xs, ys, index):\n",
    "    \"\"\"\n",
    "\n",
    "    Refines the peak position using quadratic fit\n",
    "\n",
    "    Args:\n",
    "        xs (numpy.ndarray): The x-axis values \n",
    "        ys (numpy.ndarray): The y-axis values\n",
    "        index (int): The index of peak\n",
    "    \n",
    "    Returns:\n",
    "        3-tuple: (x position of refined peak, y position of refined peak, and second derivative (q))\n",
    "\n",
    "    Bugs:\n",
    "        Must be synchronized with the design matrix\n",
    "        \n",
    "        \n",
    "    \"\"\"\n",
    "    b,m,q = fit_parabola(xs, ys, index)\n",
    "    x_peak = -m / q\n",
    "    return x_peak, 0.5 * q * (x_peak) ** 2 + m * (x_peak) + b, q\n",
    "    \n",
    "def refine_peaks(xs, ys, indices):\n",
    "    \"\"\"\n",
    "\n",
    "    Refines the peak position for a set of indices using quadratic fit\n",
    "\n",
    "    Args:\n",
    "        xs (numpy.ndarray): The x-axis values \n",
    "        ys (numpy.ndarray): The y-axis values\n",
    "        indices (numpy array): indices of the peaks (this should be the output of get_started()\n",
    "\n",
    "    Returns:\n",
    "        three  numpy arrays (array of refined x positions, array of refined y positions, and the second derivatives)\n",
    "    \n",
    "\n",
    "    \"\"\"\n",
    "    foo = lambda i: refine_peak(xs,ys,i)\n",
    "    xs_refined, ys_refined, second_derivatives = zip(*list(map(foo,indices)))\n",
    "    return np.array(xs_refined), np.array(ys_refined), np.array(second_derivatives)\n",
    "\n",
    "\n",
    "def folding_freq(fs, ps, sampling_time, makeplots=False):\n",
    "    \"\"\"\n",
    "    ##bugs:\n",
    "    - assumes fs are ordered\n",
    "    - global delta_f\n",
    "    \"\"\"\n",
    "    fc_guess = 1. / sampling_time\n",
    "    \n",
    "    IA = fs < 0.5 * fc_guess\n",
    "    fsA, psA = fs[IA], ps[IA]\n",
    "    fsA,psA  = fsA[2:-2],  psA[2:-2]\n",
    "    cs = CubicSpline(fs, ps, extrapolate=False)\n",
    "    \n",
    "    small, tiny = 20 * delta_f, 0.25 * delta_f\n",
    "    fc_candidates = np.arange(fc_guess - small, fc_guess + small, tiny)\n",
    "    foos_c = np.array([np.nansum(psA * cs(fc - fsA)) for fc in fc_candidates])\n",
    "    fc_index = get_started(1,fc_candidates, foos_c)\n",
    "    fc, _, _ = refine_peaks(fc_candidates, foos_c, fc_index)\n",
    "    fc = fc[0]\n",
    "    \n",
    "    if makeplots:\n",
    "        plt.plot(fc_candidates, foos_c)\n",
    "        plt.axvline(fc_guess)\n",
    "        plt.axvline(fc, color = 'red', alpha = 0.5)\n",
    "        plt.title(fc)\n",
    "        plt.show()\n",
    "\n",
    "    \n",
    "    return fc\n"
   ]
  },
  {
   "cell_type": "code",
   "execution_count": 3,
   "id": "1228498c-e558-4f52-bcda-32e8bba33cfb",
   "metadata": {},
   "outputs": [],
   "source": [
    "search_result = lk.search_lightcurve('KIC 5202905', mission='Kepler')\n",
    "lc_collection = search_result.download_all()"
   ]
  },
  {
   "cell_type": "code",
   "execution_count": 4,
   "id": "a87ec367-ca67-4694-8d6d-8d622ca8ac5a",
   "metadata": {},
   "outputs": [],
   "source": [
    "lc = lc_collection.stitch()\n",
    "total_observation_time = (lc.time[-1] - lc.time[0]).value\n",
    "delta_f = (1/total_observation_time) \n",
    "sampling_time= np.median(np.diff(lc.time.value))"
   ]
  },
  {
   "cell_type": "code",
   "execution_count": 5,
   "id": "8ffceb03-6204-4185-91a0-ee71989f5922",
   "metadata": {},
   "outputs": [],
   "source": [
    "f_max = (2 / (sampling_time))\n",
    "f_min = delta_f/3\n",
    "frequency_grid = np.arange(f_min, f_max, f_min)/(u.day)"
   ]
  },
  {
   "cell_type": "code",
   "execution_count": 6,
   "id": "4afb21ef-d515-43b2-9e56-751fc629e9ae",
   "metadata": {},
   "outputs": [
    {
     "data": {
      "image/png": "[encoded data removed]",
      "text/plain": [
       "<Figure size 640x480 with 1 Axes>"
      ]
     },
     "metadata": {},
     "output_type": "display_data"
    }
   ],
   "source": [
    "pg = lc.to_periodogram(\n",
    "    method='lombscargle',\n",
    "    normalization='psd',\n",
    "    frequency=frequency_grid\n",
    ")\n",
    "\n",
    "power = pg.power.value\n",
    "freq = pg.frequency.to(1/u.day).value \n",
    "\n",
    "plt.plot(freq, power,'k.')\n",
    "plt.plot(freq, power,'k-', lw = 0.5, alpha = 0.5)\n",
    "plt.xlabel(\"Frequency (1/day)\")\n",
    "plt.ylabel(\"Power\")\n",
    "plt.title(\"Lomb-Scargle Periodogram of KIC 5202905\")\n",
    "plt.axvline(1/sampling_time)\n",
    "plt.axvline(1/(2*sampling_time))\n",
    "plt.axvline(3/(2*sampling_time))\n",
    "plt.show() "
   ]
  },
  {
   "cell_type": "code",
   "execution_count": 7,
   "id": "b1c34686-88ff-4394-8947-feb19b11d678",
   "metadata": {},
   "outputs": [],
   "source": [
    "indices = get_started(10, freq, power)\n",
    "refined_freq, _ , _ = refine_peaks(freq, power, indices)\n",
    "nu = refined_freq[0]"
   ]
  },
  {
   "cell_type": "code",
   "execution_count": 8,
   "id": "bada6a67-ed33-4248-afe6-02beb76b8b2f",
   "metadata": {},
   "outputs": [],
   "source": [
    "t = lc.time.value\n",
    "flux = lc.flux.value\n",
    "sigma = lc.flux_err.value"
   ]
  },
  {
   "cell_type": "code",
   "execution_count": 9,
   "id": "9ab1afbd-e053-47fc-93b0-7a13751a96b0",
   "metadata": {},
   "outputs": [],
   "source": [
    "t_clean = np.ma.filled(t, np.nan)\n",
    "flux_clean = np.ma.filled(flux, np.nan)\n",
    "sigma_clean = np.ma.filled(sigma, np.nan)\n",
    "\n",
    "mask = np.isfinite(t_clean) & np.isfinite(flux_clean) & np.isfinite(sigma_clean)\n",
    "\n",
    "lc = lc[mask]\n",
    "t_fit = t_clean[mask]\n",
    "flux_fit = flux_clean[mask]\n",
    "sigma_fit = sigma_clean[mask]"
   ]
  },
  {
   "cell_type": "code",
   "execution_count": 10,
   "id": "3308f3a7-4d99-4d33-b645-7f5abbaf7c85",
   "metadata": {},
   "outputs": [],
   "source": [
    "lc_exptime = (6.52 * 270) / (60 * 60 * 24) #days, see Kepler Data Processing Handbook, Section 3.1\n",
    "weight_fit = 1 / sigma_fit**2\n",
    "\n",
    "def integral_design_matrix(ts, om, T):\n",
    "    \"\"\"\n",
    "    ##bugs:\n",
    "    - assumes all data points have the same exposure time, `T`\n",
    "    - not numerically stable when `om * T` is small\n",
    "    \"\"\"\n",
    "    return np.vstack([\n",
    "        np.ones_like(ts),\n",
    "        (+ np.sin(om * (ts + T/2)) - np.sin(om * (ts - T/2))) / (om * T),\n",
    "        (- np.cos(om * (ts + T/2)) + np.cos(om * (ts - T/2))) / (om * T)\n",
    "    ]).T\n",
    "\n",
    "def weighted_least_squares(A, b, weights):\n",
    "    ATA = A.T @ (A * weights[:, np.newaxis])\n",
    "    ATb = A.T @ (b * weights)\n",
    "    return np.linalg.solve(ATA, ATb), ATA\n",
    "\n",
    "def integral_chi_squared(om, ts, ys, ws, T):\n",
    "    A = integral_design_matrix(ts, om, T)\n",
    "    return np.sum(ws * (ys - weighted_least_squares(A, ys, ws))**2)"
   ]
  },
  {
   "cell_type": "code",
   "execution_count": 11,
   "id": "f3ae2c4f-d824-45f3-9a07-776d8092710b",
   "metadata": {},
   "outputs": [],
   "source": [
    "def check_coherence(ts, ys, weights, om):\n",
    "    \"\"\"\n",
    "    assumes a lot of things about the data\n",
    "    \"\"\"\n",
    "    cases = [(np.ones_like(ts).astype(bool), \"all\"),\n",
    "             (ts < np.median(ts), \"early\"),\n",
    "             (ts > np.median(ts), \"late\")]\n",
    "    for I, name in cases:\n",
    "        A = integral_design_matrix(ts[I], om, lc_exptime)\n",
    "        pars, invar = weighted_least_squares(A, ys[I], weights[I])\n",
    "        print(name, pars, invar)"
   ]
  },
  {
   "cell_type": "code",
   "execution_count": 12,
   "id": "30af8433-1d36-4300-ad95-e7f6ccbe89ed",
   "metadata": {},
   "outputs": [
    {
     "name": "stdout",
     "output_type": "stream",
     "text": [
      "all [ 9.99998638e-01 -6.78285816e-04 -1.57832037e-03] [[ 9.68972845e+12  7.24363153e+07 -4.91672081e+08]\n",
      " [ 7.24363153e+07  3.19901088e+11  7.86859697e+07]\n",
      " [-4.91672081e+08  7.86859697e+07  3.20159951e+11]]\n",
      "early [ 9.99997834e-01 -5.84807771e-04 -1.35645998e-03] [[4.83662679e+12 6.17480784e+06 5.14053501e+07]\n",
      " [6.17480784e+06 1.59684706e+11 1.22300327e+08]\n",
      " [5.14053501e+07 1.22300327e+08 1.59801684e+11]]\n",
      "late [ 9.99999410e-01 -7.71711971e-04 -1.79950855e-03] [[ 4.85291385e+12  1.84629204e+07 -5.49793341e+08]\n",
      " [ 1.84629204e+07  1.60204217e+11 -4.53236434e+07]\n",
      " [-5.49793341e+08 -4.53236434e+07  1.60358026e+11]]\n"
     ]
    }
   ],
   "source": [
    "check_coherence(t_fit, flux_fit, weight_fit, 2. * np.pi * nu)"
   ]
  },
  {
   "cell_type": "code",
   "execution_count": 13,
   "id": "14253e6f-f304-4464-aeda-ad653577e211",
   "metadata": {
    "jupyter": {
     "source_hidden": true
    }
   },
   "outputs": [],
   "source": [
    "def check_coherence(ts, ys, weights, om):\n",
    "    \"\"\"\n",
    "    assumes a lot of things about the data\n",
    "    \"\"\"\n",
    "    axes = []\n",
    "    cases = [(np.ones_like(ts).astype(bool), \"all\"),\n",
    "             (ts < np.median(ts), \"early\"),\n",
    "             (ts > np.median(ts), \"late\")]\n",
    "    for I, name in cases:\n",
    "        A = integral_design_matrix(ts[I], om, lc_exptime)\n",
    "        pars, invar = weighted_least_squares(A, ys[I], weights[I])\n",
    "        a,b = pars[1], pars[2]\n",
    "        covariance = np.linalg.inv(invar)\n",
    "        covariance2 = covariance[1:, 1:]\n",
    "        eigvals, eigvecs = np.linalg.eigh(covariance2)\n",
    "        axis1 = np.sqrt(eigvals)*eigvecs[:, 0] #minor? \n",
    "        axis2 = np.sqrt(eigvals)*eigvecs[:, 1] #major?\n",
    "        axes.append((axis1, axis2))\n",
    "    return axes[0], axes[1], axes[2]\n",
    "        \n",
    "        \n",
    "        "
   ]
  },
  {
   "cell_type": "code",
   "execution_count": 14,
   "id": "d0522487-c8af-492a-95bd-d63e91914422",
   "metadata": {},
   "outputs": [],
   "source": [
    "all, early, late = check_coherence(t_fit, flux_fit, weight_fit, 2. * np.pi * nu)\n"
   ]
  },
  {
   "cell_type": "code",
   "execution_count": 15,
   "id": "f8d79eee-6809-4864-b722-49e87516fd67",
   "metadata": {},
   "outputs": [
    {
     "name": "stdout",
     "output_type": "stream",
     "text": [
      "Vector components of semi-minor: -4.7674507791447097e-07 -1.7025511923205935e-06\n",
      "Vector components of semi-major: -1.7017455988643929e-06 4.769707654175267e-07\n"
     ]
    },
    {
     "data": {
      "image/png": "[encoded data removed]",
      "text/plain": [
       "<Figure size 640x480 with 1 Axes>"
      ]
     },
     "metadata": {},
     "output_type": "display_data"
    }
   ],
   "source": [
    "#ellipse for all data points\n",
    "fig, ax = plt.subplots()\n",
    "\n",
    "width_all, height_all = 2*np.linalg.norm(all[0]), 2*np.linalg.norm(all[1])\n",
    "vec = all[0]\n",
    "angle_all = np.degrees(np.arctan2(vec[0], vec[1]))\n",
    "center = (0,0)\n",
    "r = np.radians(angle_all)\n",
    "\n",
    "ellipse_all = Ellipse(center, width_all, height_all, angle = angle_all, facecolor = 'none', edgecolor = 'green')\n",
    "ax.add_patch(ellipse_all)\n",
    "\n",
    "ax1_points = [\n",
    "    (center[0] + width_all/2 * cos(r), center[1] + width_all/2 * sin(r)),\n",
    "    (center[0] - width_all/2 * cos(r), center[1] - width_all/2 * sin(r))\n",
    "]\n",
    "\n",
    "ax2_points = [\n",
    "    (center[0] + height_all/2 * cos(r + radians(90)), center[1] + height_all/2 * sin(r + radians(90))),\n",
    "    (center[0] + height_all/2 * cos(r + radians(270)), center[1] + height_all/2 * sin(r + radians(270)))\n",
    "]\n",
    "\n",
    "arrowprops = dict(arrowstyle=\"<->\", color=\"blue\", linewidth=1.5)\n",
    "ax.annotate(\"\", xy=ax1_points[0], xytext=ax1_points[1], arrowprops=arrowprops)\n",
    "ax.annotate(\"\", xy=ax2_points[0], xytext=ax2_points[1], arrowprops=arrowprops)\n",
    "print(\"Vector components of semi-minor:\", all[0][0], all[0][1])\n",
    "print(\"Vector components of semi-major:\", all[1][0], all[1][1])\n",
    "ax.set_xlim(center[0] - width_all, center[0] + width_all)\n",
    "ax.set_ylim(center[1] - height_all, center[1] + height_all)\n",
    "ax.set_aspect('equal')\n",
    "ax.grid(True)\n",
    "\n",
    "ax.set_title('\"All\" case ellipse')\n",
    "\n",
    "plt.show() "
   ]
  },
  {
   "cell_type": "code",
   "execution_count": 16,
   "id": "7e6b947b-7652-4435-93c4-c01f819b3780",
   "metadata": {},
   "outputs": [
    {
     "name": "stdout",
     "output_type": "stream",
     "text": [
      "Vector components of semi-minor: -1.3334525701073868e-06 -2.1176044025018026e-06\n",
      "Vector components of semi-major: -2.115808052014563e-06 1.334584689900457e-06\n"
     ]
    },
    {
     "data": {
      "image/png": "[encoded data removed]",
      "text/plain": [
       "<Figure size 640x480 with 1 Axes>"
      ]
     },
     "metadata": {},
     "output_type": "display_data"
    }
   ],
   "source": [
    "#ellipse for early data points\n",
    "fig, ax = plt.subplots()\n",
    "\n",
    "width_early, height_early = 2*np.linalg.norm(early[0]), 2*np.linalg.norm(early[1])\n",
    "vec = early[0]\n",
    "angle_early = np.degrees(np.arctan2(vec[0], vec[1]))\n",
    "center = (0,0)\n",
    "r = np.radians(angle_early)\n",
    "\n",
    "ellipse_early = Ellipse(center, width_early, height_early, angle = angle_early, facecolor = 'none', edgecolor = 'green')\n",
    "ax.add_patch(ellipse_early)\n",
    "\n",
    "ax1_points_early = [\n",
    "    (center[0] + width_early/2 * cos(r), center[1] + width_early/2 * sin(r)),\n",
    "    (center[0] - width_early/2 * cos(r), center[1] - width_early/2 * sin(r))\n",
    "]\n",
    "\n",
    "ax2_points_early = [\n",
    "    (center[0] + height_early/2 * cos(r + radians(90)), center[1] + height_early/2 * sin(r + radians(90))),\n",
    "    (center[0] + height_early/2 * cos(r + radians(270)), center[1] + height_early/2 * sin(r + radians(270)))\n",
    "]\n",
    "\n",
    "arrowprops = dict(arrowstyle=\"<->\", color=\"blue\", linewidth=1.5)\n",
    "ax.annotate(\"\", xy=ax1_points_early[0], xytext=ax1_points_early[1], arrowprops=arrowprops)\n",
    "ax.annotate(\"\", xy=ax2_points_early[0], xytext=ax2_points_early[1], arrowprops=arrowprops)\n",
    "\n",
    "ax.set_xlim(center[0] - width_early, center[0] + width_early)\n",
    "ax.set_ylim(center[1] - height_early, center[1] + height_early)\n",
    "ax.set_aspect('equal')\n",
    "ax.set_title('\"early\" case ellipse')\n",
    "ax.grid(True)\n",
    "\n",
    "print(\"Vector components of semi-minor:\", early[0][0], early[0][1])\n",
    "print(\"Vector components of semi-major:\", early[1][0], early[1][1])\n",
    "\n",
    "plt.show() "
   ]
  },
  {
   "cell_type": "code",
   "execution_count": 17,
   "id": "f7ceeecf-f803-4255-b7e7-b5bf3c16b1fb",
   "metadata": {},
   "outputs": [
    {
     "name": "stdout",
     "output_type": "stream",
     "text": [
      "Vector components of semi-minor: 6.572775854283218e-07 -2.4103982321909324e-06\n",
      "Vector components of semi-major: -2.4090565779894207e-06 -6.576436371193059e-07\n"
     ]
    },
    {
     "data": {
      "image/png": "[encoded data removed]",
      "text/plain": [
       "<Figure size 640x480 with 1 Axes>"
      ]
     },
     "metadata": {},
     "output_type": "display_data"
    }
   ],
   "source": [
    "#ellipse for early data points\n",
    "fig, ax = plt.subplots()\n",
    "\n",
    "width_late, height_late = 2*np.linalg.norm(late[0]), 2*np.linalg.norm(late[1])\n",
    "vec = late[0]\n",
    "angle_late = np.degrees(np.arctan2(vec[0], vec[1]))\n",
    "center = (0,0)\n",
    "r = np.radians(angle_late)\n",
    "\n",
    "ellipse_late = Ellipse(center, width_late, height_late, angle = angle_late, facecolor = 'none', edgecolor = 'green')\n",
    "ax.add_patch(ellipse_late)\n",
    "\n",
    "ax1_points_late = [\n",
    "    (center[0] + width_late/2 * cos(r), center[1] + width_late/2 * sin(r)),\n",
    "    (center[0] - width_late/2 * cos(r), center[1] - width_late/2 * sin(r))\n",
    "]\n",
    "\n",
    "ax2_points_late = [\n",
    "    (center[0] + height_late/2 * cos(r + radians(90)), center[1] + height_late/2 * sin(r + radians(90))),\n",
    "    (center[0] + height_late/2 * cos(r + radians(270)), center[1] + height_late/2 * sin(r + radians(270)))\n",
    "]\n",
    "\n",
    "arrowprops = dict(arrowstyle=\"<->\", color=\"blue\", linewidth=1.5)\n",
    "ax.annotate(\"\", xy=ax1_points_late[0], xytext=ax1_points_late[1], arrowprops=arrowprops)\n",
    "ax.annotate(\"\", xy=ax2_points_late[0], xytext=ax2_points_late[1], arrowprops=arrowprops)\n",
    "\n",
    "ax.set_xlim(center[0] - width_late, center[0] + width_late)\n",
    "ax.set_ylim(center[1] - height_late, center[1] + height_late)\n",
    "ax.set_aspect('equal')\n",
    "ax.grid(True)\n",
    "ax.set_title('\"late\" case ellipse')\n",
    "\n",
    "print(\"Vector components of semi-minor:\", late[0][0], late[0][1])\n",
    "print(\"Vector components of semi-major:\", late[1][0], late[1][1])\n",
    "plt.show() "
   ]
  },
  {
   "cell_type": "code",
   "execution_count": 18,
   "id": "9580c1cb-d729-4c81-8406-8a892f74bf97",
   "metadata": {},
   "outputs": [
    {
     "name": "stdout",
     "output_type": "stream",
     "text": [
      "38.397931610416244\n"
     ]
    }
   ],
   "source": [
    "print(nu)"
   ]
  },
  {
   "cell_type": "code",
   "execution_count": null,
   "id": "a2b069ac-767d-49b2-a047-9829a59971da",
   "metadata": {},
   "outputs": [],
   "source": []
  }
 ],
 "metadata": {
  "kernelspec": {
   "display_name": "Python 3 (ipykernel)",
   "language": "python",
   "name": "python3"
  },
  "language_info": {
   "codemirror_mode": {
    "name": "ipython",
    "version": 3
   },
   "file_extension": ".py",
   "mimetype": "text/x-python",
   "name": "python",
   "nbconvert_exporter": "python",
   "pygments_lexer": "ipython3",
   "version": "3.12.9"
  }
 },
 "nbformat": 4,
 "nbformat_minor": 5
}
