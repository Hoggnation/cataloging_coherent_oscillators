{
 "cells": [
  {
   "cell_type": "code",
   "execution_count": 1,
   "id": "ed78912b-48cc-48ae-ae59-2a52aad1973f",
   "metadata": {},
   "outputs": [],
   "source": [
    "from scipy.signal import find_peaks\n",
    "import lightkurve as lk\n",
    "import matplotlib.pyplot as plt\n",
    "import numpy as np\n",
    "from scipy.signal import find_peaks\n",
    "import scipy.signal\n",
    "from astropy import units as u\n"
   ]
  },
  {
   "cell_type": "code",
   "execution_count": 2,
   "id": "747b69fc-3189-41db-8213-e9c091699e78",
   "metadata": {},
   "outputs": [],
   "source": [
    "#All Relevant nanapeaks functions\n",
    "\n",
    "def get_started(num_of_peaks, xs, ys): \n",
    "    \"\"\"\n",
    "    \n",
    "    Identifies and returns the indices of the highest peaks in a given dataset.\n",
    "    \n",
    "    Args:\n",
    "        num_of_peaks (int): The number of highest peaks to return.\n",
    "        xs (numpy.ndarray): The x-axis values \n",
    "        ys (numpy.ndarray): The y-axis values\n",
    "\n",
    "    Returns:\n",
    "        numpy array: An array of indices corresponding to the highest peaks in `ys`.\n",
    "\n",
    "    Bugs:\n",
    "        `num_of_peaks` cannot be greater than the number of detected peaks\n",
    "        `xs` or `ys` must be NumPy array\n",
    "\n",
    "    \n",
    "    \"\"\"\n",
    "    indxs, properties = find_peaks(ys)\n",
    "    return indxs[np.argsort(-ys[indxs])[:num_of_peaks]]\n",
    "\n",
    "def check_inputs(xs):\n",
    "    \"\"\"\n",
    "    \n",
    "    Checks whether the input array `xs` is sorted in ascending order.\n",
    "\n",
    "    Args:\n",
    "        xs (numpy.ndarray or list): The input array to check.\n",
    "\n",
    "    Returns:\n",
    "        bool: `True` if `xs` is sorted in ascending order, otherwise `False`.\n",
    "    \n",
    "    \"\"\"\n",
    "    for i in range(len(xs)-1):\n",
    "        if xs[i] > xs[i+1]:\n",
    "            print(\"check_inputs(): input xs is badly ordered. Use reorder_inputs to reorder\")\n",
    "            return False\n",
    "    return True\n",
    "\n",
    "def reorder_inputs(xs,ys):\n",
    "    \"\"\"\n",
    "    \n",
    "    Reorders the input arrays `xs` and `ys` in ascending order of `xs`.\n",
    "\n",
    "    Args:\n",
    "        xs (numpy.ndarray): The x-axis values \n",
    "        ys (numpy.ndarray): The y-axis values\n",
    "        \n",
    "    Returns:\n",
    "        tuple of numpy arrays (sorted xs, sorted ys)\n",
    "\n",
    "    Bugs:\n",
    "        `xs` or `ys` must be NumPy array\n",
    "        `xs` and `ys`must be same length\n",
    "        \n",
    "    \"\"\"\n",
    "    i = np.argsort(xs)\n",
    "    return xs[i], ys[i]\n",
    "\n",
    "#xlist is the teh index left to highest peak, highest peak, and the index right to teh highest peak\n",
    "def design_matrix(xlist): \n",
    "    \"\"\"\n",
    "    \n",
    "    Constructs a design matrix for quadratic curve fitting.\n",
    "\n",
    "    Args:\n",
    "        xs (numpy.ndarray): The x-axis values \n",
    "\n",
    "    Returns:\n",
    "        3 x 3 design matrix of numpy arrays\n",
    "\n",
    "    Bugs:\n",
    "        xlist must be an numpy array\n",
    "\n",
    "    Note:\n",
    "        Note the factor of 0.5 that Hogg likes and no one else\n",
    "        Also assumes xlist is ordered\n",
    "    \n",
    "    \"\"\"\n",
    "    return (np.vstack((xlist**0,xlist**1,0.5*xlist**2))).T\n",
    "\n",
    "def fit_parabola(xs, ys, index):\n",
    "    \"\"\"\n",
    "\n",
    "    Fits a quadratic function to three consecutive data points. Solves for coefficients (b,m,q) in the quadratic\n",
    "    f(x) = b + m*x + (1/2) * q * x^2\n",
    "\n",
    "    Args:\n",
    "        xs (numpy.ndarray): The x-axis values \n",
    "        ys (numpy.ndarray): The y-axis values\n",
    "        index (int): The index of peak\n",
    "        \n",
    "\n",
    "    Returns:\n",
    "        tuple: (b, m, q)\n",
    "\n",
    "    Bugs: \n",
    "        index-1` or `index+2` can't be out of bounds\n",
    "        ``xs` or `ys` must be NumPy array\n",
    "        \n",
    "    \n",
    "    \"\"\"\n",
    "    return np.linalg.solve(design_matrix(xs[index-1:index+2]), ys[index-1:index+2])\n",
    "\n",
    "def refine_peak(xs, ys, index):\n",
    "    \"\"\"\n",
    "\n",
    "    Refines the peak position using quadratic fit\n",
    "\n",
    "    Args:\n",
    "        xs (numpy.ndarray): The x-axis values \n",
    "        ys (numpy.ndarray): The y-axis values\n",
    "        index (int): The index of peak\n",
    "    \n",
    "    Returns:\n",
    "        3-tuple: (x position of refined peak, y position of refined peak, and second derivative (q))\n",
    "\n",
    "    Bugs:\n",
    "        Must be synchronized with the design matrix\n",
    "        \n",
    "        \n",
    "    \"\"\"\n",
    "    b,m,q = fit_parabola(xs, ys, index)\n",
    "    x_peak = -m / q\n",
    "    return x_peak, 0.5 * q * (x_peak) ** 2 + m * (x_peak) + b, q\n",
    "    \n",
    "def refine_peaks(xs, ys, indices):\n",
    "    \"\"\"\n",
    "\n",
    "    Refines the peak position for a set of indices using quadratic fit\n",
    "\n",
    "    Args:\n",
    "        xs (numpy.ndarray): The x-axis values \n",
    "        ys (numpy.ndarray): The y-axis values\n",
    "        indices (numpy array): indices of the peaks (this should be the output of get_started()\n",
    "\n",
    "    Returns:\n",
    "        three  numpy arrays (array of refined x positions, array of refined y positions, and the second derivatives)\n",
    "    \n",
    "\n",
    "    \"\"\"\n",
    "    foo = lambda i: refine_peak(xs,ys,i)\n",
    "    xs_refined, ys_refined, second_derivatives = zip(*list(map(foo,indices)))\n",
    "    return np.array(xs_refined), np.array(ys_refined), np.array(second_derivatives)"
   ]
  },
  {
   "cell_type": "code",
   "execution_count": 3,
   "id": "ed8e9307-5223-49d3-89db-bdaa1ccea0e1",
   "metadata": {},
   "outputs": [],
   "source": [
    "#Use your KIC or TIC ID here\n",
    "\n",
    "search_result = lk.search_lightcurve('KIC 5202905', mission='Kepler')\n",
    "lc_collection = search_result.download_all()"
   ]
  },
  {
   "cell_type": "code",
   "execution_count": 4,
   "id": "a20348a2-5497-4d96-99d4-571c7748e9b3",
   "metadata": {},
   "outputs": [
    {
     "name": "stdout",
     "output_type": "stream",
     "text": [
      "1470.4622572100852 0.02043360086827306\n"
     ]
    }
   ],
   "source": [
    "#Using the star's time data\n",
    "#delta_f is defined as 1/(Total observation time), Hogg says its chosen by God aka it depends on the star\n",
    "#we will manipulate delta_f when we make our frequency resolution\n",
    "#The sampling rate finds the median time difference in the lightcurve data. For exmpale the data might be sampled\n",
    "#every 25 or 30 minutes and we're finding the median across the star's time data.\n",
    "##IMPORTANT!!! All lightcurve time data is in days!!! We must be careful with units or the units of our frequency will messed up\n",
    "\n",
    "lc = lc_collection.stitch()\n",
    "total_observation_time = (lc.time[-1] - lc.time[0]).value\n",
    "delta_f = (1/total_observation_time) ###frequency resolution in data\n",
    "sampling_rate= np.median(np.diff(lc.time.value))\n",
    "print(total_observation_time,sampling_rate)"
   ]
  },
  {
   "cell_type": "code",
   "execution_count": 5,
   "id": "a655a6f8-6482-41f8-94b2-7510a9ccd83b",
   "metadata": {},
   "outputs": [],
   "source": [
    "#Setting an Maximum Frequency, Minimum Frequency, and Frequency grid\n",
    "#right now we're setting our maximum frequency as 0.5/sampling rate, but we can also change it by a factor of 2,4,etc\n",
    "#Hogg and I are still debating what the frequency domain should be (if it goes past 0.5/sampling this thing called mirroring happens)\n",
    "f_max = (0.5 / (sampling_rate))\n",
    "\n",
    "#for now this is what we want our minimum frequency to be\n",
    "f_min = delta_f/3\n",
    "\n",
    "#Frequency Grid\n",
    "#This sets a specific frequency spacing when we make our periodogram.\n",
    "#So we're saying start at the minimum frequency, go up to the maximum frequency and increment by fmin\n",
    "#Units are so the program doesn't assume that it's in microhertz or that will cause a lot of problems\n",
    "frequency_grid = np.arange(f_min, f_max, f_min)/(u.day)\n"
   ]
  },
  {
   "cell_type": "code",
   "execution_count": 11,
   "id": "52ac04c2-7c02-46c4-af79-8340781443c4",
   "metadata": {},
   "outputs": [
    {
     "data": {
      "image/png": "[encoded data removed]",
      "text/plain": [
       "<Figure size 640x480 with 1 Axes>"
      ]
     },
     "metadata": {},
     "output_type": "display_data"
    }
   ],
   "source": [
    "##Making our periodogram\n",
    "\n",
    "pg = lc.to_periodogram(\n",
    "    #method='lombscargle',\n",
    "    normalization='psd',\n",
    "    frequency=frequency_grid\n",
    ")\n",
    "\n",
    "#Extract the frequency and power values.\n",
    "#the to(1/u.day) is important because \n",
    "#when lightcurve uses to_periodogram(), it automatically converts to microhertz for some reason, so we must convert it back to days\n",
    "\n",
    "power = pg.power.value\n",
    "freq = pg.frequency.to(1/u.day).value \n",
    "\n",
    "plt.plot(freq, power,'k.')\n",
    "plt.xlabel(\"Frequency (1/day)\")\n",
    "plt.ylabel(\"Power\")\n",
    "plt.title(\"Lomb-Scargle Periodogram of KIC 5202905\")\n",
    "plt.show() "
   ]
  },
  {
   "cell_type": "code",
   "execution_count": 7,
   "id": "81c29b9c-b689-42f0-9f46-f8a12e86c371",
   "metadata": {},
   "outputs": [
    {
     "name": "stdout",
     "output_type": "stream",
     "text": [
      "[ 46500  46511  55437  71344  46487  46475  46504  46523  46507  55448\n",
      "  44342  71355  85768  55424  69918  71332  55441  60773  55412 102738\n",
      "  55444  71320  71348  55460  62557  32045  44353  46535 106301  71368\n",
      " 106462  91376  91587  46483  71352  85778  46463  46429  44329  46471\n",
      "  46515  85755  69929  46518  19131  60784  44317   5984  46571  55433\n",
      "  69905  19242   5988 103395  60760  44346 102749  46481  46559  85772\n",
      "  46459 102725  69922  85743  44365  46439  71340  44349  60777  55420\n",
      "  55472  69893  80640  46609  32056  71328  46378  90609 106312  60748\n",
      "  55408  53234  31989  16242  85775  69227  91598  46581  71379  55400\n",
      "  91387  46468  69925 106473  55455  46493  55366  46491  91364  71307]\n"
     ]
    }
   ],
   "source": [
    "### The function that we're using here \"get_started\" is described above\n",
    "#Basically you choose the number of highest peaks you want from the periodogram and it returns the index of those peaks\n",
    "#The peaks are ORDERED from highest to lowest\n",
    "\n",
    "indices = get_started(100,freq,power)\n",
    "print(indices)"
   ]
  },
  {
   "cell_type": "code",
   "execution_count": 10,
   "id": "f2c0a58c-4155-44f1-8283-8b0e2c864c49",
   "metadata": {},
   "outputs": [],
   "source": [
    "#refined_peaks is also described in detail more above\n",
    "#It takes the indices of the highest peaks, frequency, and power and returned the more accurate frequency using a \n",
    "#parabolic fit\n",
    "#It also returns the second derivative which we will use later to determine coherence\n",
    "\n",
    "refined_freqs ,refined_powers, second_derivative = refine_peaks(freq,power,indices)"
   ]
  },
  {
   "cell_type": "code",
   "execution_count": 12,
   "id": "9e23fdd0-e8d8-4ff9-9c19-960ff281adab",
   "metadata": {},
   "outputs": [],
   "source": [
    "###We also need a threshold function, where the peaks must pass certain parameters based on its sharpess\n",
    "#and it's surrounding region\n",
    "#There's an example one below but \n",
    "#there's still problems with mirrored frequencies so we're not going to run through the threshold function yet\n",
    "\n",
    "def threshold(indices, xs, ys):\n",
    "    good_peaks = []\n",
    "    for i in range(len(indices)):\n",
    "        leftside = ys[indices[i]-10:indices[i]]  \n",
    "        rightside = ys[indices[i]+1:indices[i]+11]\n",
    "        median = np.nanmedian(np.concatenate((leftside,rightside)))\n",
    "        if (ys[indices[i]] > 5*median) and (-second_derivative[i]/(y_new[i]))**(1/2) > total_observation_time:\n",
    "            good_peaks.append(indices[i])\n",
    "\n",
    "    return np.array(good_peaks)"
   ]
  },
  {
   "cell_type": "code",
   "execution_count": 36,
   "id": "1964f0f5-5c31-4969-8f88-271084256f20",
   "metadata": {},
   "outputs": [],
   "source": [
    "##Below is also an uncessary function I created to determine the sharpness of the peaks\n",
    "def sharpness(second_derivative, y_new, index):\n",
    "    sharpness = (-second_derivative[index]/y_new[index])**(1/2)\n",
    "    return sharpness\n",
    "\n",
    "#I'm using index 0 because it's the highest peak\n",
    "sharpness_example = sharpness(second_derivative, refined_powers, 0)"
   ]
  },
  {
   "cell_type": "code",
   "execution_count": 37,
   "id": "16728255-5cff-4cbe-98f1-8614442fa9c4",
   "metadata": {},
   "outputs": [
    {
     "name": "stdout",
     "output_type": "stream",
     "text": [
      "3.2283696701396636e-07\n"
     ]
    }
   ],
   "source": [
    "##Below is another function I created to look at the median of the 10delta_f region surrounding (and not including) the peak\n",
    "\n",
    "def median(indices, xs, ys):\n",
    "    good_medians = []\n",
    "    for i in indices:\n",
    "        leftside = ys[i-10:i]  \n",
    "        rightside = ys[i+1:i+11]\n",
    "        median = np.nanmedian(np.concatenate((leftside,rightside)))\n",
    "        good_medians.append(median)\n",
    "    return np.array(good_medians)\n",
    "\n",
    "median_example = median(indices, freq, power)\n",
    "print(median_example[0])"
   ]
  },
  {
   "cell_type": "code",
   "execution_count": 39,
   "id": "43c63edb-38b1-480b-b16f-f0d4612888b9",
   "metadata": {},
   "outputs": [
    {
     "name": "stdout",
     "output_type": "stream",
     "text": [
      "3563.0485693467685\n"
     ]
    },
    {
     "data": {
      "image/png": "[encoded data removed]",
      "text/plain": [
       "<Figure size 640x480 with 1 Axes>"
      ]
     },
     "metadata": {},
     "output_type": "display_data"
    }
   ],
   "source": [
    "#Here is just a zoomed in example peak\n",
    "#lines at 1 delta_f and 10 delta_f and one at the refined peak\n",
    "#Red dash is the median in the 10delta_f region\n",
    "\n",
    "plt.title(\"Zoomed - In Peak Example\")\n",
    "plt.axhline(y = 0., color='k', lw=1)\n",
    "plt.axhline(y = median_example[0], color = 'r', linestyle = '--')\n",
    "plt.axvline(x = refined_freqs[0], color = 'darkorange')\n",
    "plt.axvline(x = refined_freqs[0]-delta_f, color = 'b')\n",
    "plt.axvline(x = refined_freqs[0]+delta_f, color = 'b')\n",
    "plt.axvline(x = refined_freqs[0]-10*delta_f, color = 'g')\n",
    "plt.axvline(x = refined_freqs[0]+10*delta_f, color = 'g')\n",
    "plt.xlabel(\"Frequency (1/day)\")\n",
    "plt.ylabel(\"Power\")\n",
    "plt.plot(freq, power, 'k.')\n",
    "plt.xlim(refined_freqs[0]-30*delta_f, refined_freqs[0]+30*delta_f)\n",
    "print(sharpness_examples)"
   ]
  },
  {
   "cell_type": "code",
   "execution_count": 40,
   "id": "af76e6e8-92ce-4e19-bd18-13bf750be211",
   "metadata": {},
   "outputs": [
    {
     "data": {
      "image/png": "[encoded data removed]",
      "text/plain": [
       "<Figure size 640x480 with 1 Axes>"
      ]
     },
     "metadata": {},
     "output_type": "display_data"
    }
   ],
   "source": [
    "#A problem that we're facing is mirroring\n",
    "#Currently our max frequency is around 24 (which we determined with our sampling rate)\n",
    "#however if we increase that by a factor of 2 or 4, we will start\n",
    "#to see mirroring in the frequency\n",
    "\n",
    "new_f_max = f_max*2\n",
    "\n",
    "new_frequency_grid = frequency_grid = np.arange(f_min, new_f_max, f_min)/(u.day)\n",
    "\n",
    "pg_new = lc.to_periodogram(\n",
    "    #method='lombscargle',\n",
    "    normalization='psd',\n",
    "    frequency=frequency_grid\n",
    ")\n",
    "\n",
    "#Extract the frequency and power values.\n",
    "#the to(1/u.day) is important because \n",
    "#when lightcurve uses to_periodogram(), it automatically converts to microhertz for some reason, so we must convert it back to days\n",
    "\n",
    "power_new = pg_new.power.value\n",
    "freq_new = pg_new.frequency.to(1/u.day).value \n",
    "\n",
    "plt.plot(freq_new, power_new,'k.')\n",
    "plt.xlabel(\"Frequency (1/day)\")\n",
    "plt.ylabel(\"Power\")\n",
    "plt.title(\"Lomb-Scargle Periodogram of KIC 5202905 + Mirroring\")\n",
    "plt.show() "
   ]
  },
  {
   "cell_type": "code",
   "execution_count": 41,
   "id": "19dde9b3-1017-4aa1-9692-2421b8e716e8",
   "metadata": {},
   "outputs": [],
   "source": [
    "##If you look at the periodogram, we can see that it looks kinda symmetric reflected across frequency 24\n",
    "# Which is the original max freq \n",
    "#Hogg says that those reflected frequencies may be the real coherent mode \n",
    "#so we must somehow determine a way to find the true coherent frequency with Erin's characterization process"
   ]
  },
  {
   "cell_type": "code",
   "execution_count": null,
   "id": "1f252243-a29a-4910-a85f-9aa4abc5ea1f",
   "metadata": {},
   "outputs": [],
   "source": []
  }
 ],
 "metadata": {
  "kernelspec": {
   "display_name": "Python 3 (ipykernel)",
   "language": "python",
   "name": "python3"
  },
  "language_info": {
   "codemirror_mode": {
    "name": "ipython",
    "version": 3
   },
   "file_extension": ".py",
   "mimetype": "text/x-python",
   "name": "python",
   "nbconvert_exporter": "python",
   "pygments_lexer": "ipython3",
   "version": "3.12.9"
  }
 },
 "nbformat": 4,
 "nbformat_minor": 5
}
