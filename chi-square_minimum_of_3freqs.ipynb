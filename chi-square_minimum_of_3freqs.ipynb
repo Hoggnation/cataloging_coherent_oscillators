{
 "cells": [
  {
   "cell_type": "code",
   "execution_count": 1,
   "id": "a99eca39-c15b-4f55-be73-2d63d23541c8",
   "metadata": {},
   "outputs": [],
   "source": [
    "from scipy.signal import find_peaks\n",
    "import lightkurve as lk\n",
    "import matplotlib.pyplot as plt\n",
    "import numpy as np\n",
    "from scipy.signal import find_peaks\n",
    "import scipy.signal\n",
    "from astropy import units as u\n",
    "import nana\n",
    "from scipy.interpolate import CubicSpline\n",
    "import matplotlib.ticker as ticker\n",
    "from matplotlib.patches import Ellipse\n",
    "from math import cos, sin, radians\n",
    "from matplotlib.collections import EllipseCollection"
   ]
  },
  {
   "cell_type": "code",
   "execution_count": 2,
   "id": "633af6bc-bda3-4695-8de7-708ea0746ecb",
   "metadata": {},
   "outputs": [],
   "source": [
    "def get_started(num_of_peaks, xs, ys): \n",
    "    \"\"\"\n",
    "    \n",
    "    Identifies and returns the indices of the highest peaks in a given dataset.\n",
    "    \n",
    "    Args:\n",
    "        num_of_peaks (int): The number of highest peaks to return.\n",
    "        xs (numpy.ndarray): The x-axis values \n",
    "        ys (numpy.ndarray): The y-axis values\n",
    "\n",
    "    Returns:\n",
    "        numpy array: An array of indices corresponding to the highest peaks in `ys`.\n",
    "\n",
    "    Bugs:\n",
    "        `num_of_peaks` cannot be greater than the number of detected peaks\n",
    "        `xs` or `ys` must be NumPy array\n",
    "\n",
    "    \n",
    "    \"\"\"\n",
    "    indxs, properties = find_peaks(ys)\n",
    "    return indxs[np.argsort(-ys[indxs])[:num_of_peaks]]\n",
    "\n",
    "def check_inputs(xs):\n",
    "    \"\"\"\n",
    "    \n",
    "    Checks whether the input array `xs` is sorted in ascending order.\n",
    "\n",
    "    Args:\n",
    "        xs (numpy.ndarray or list): The input array to check.\n",
    "\n",
    "    Returns:\n",
    "        bool: `True` if `xs` is sorted in ascending order, otherwise `False`.\n",
    "    \n",
    "    \"\"\"\n",
    "    for i in range(len(xs)-1):\n",
    "        if xs[i] > xs[i+1]:\n",
    "            print(\"check_inputs(): input xs is badly ordered. Use reorder_inputs to reorder\")\n",
    "            return False\n",
    "    return True\n",
    "\n",
    "def reorder_inputs(xs,ys):\n",
    "    \"\"\"\n",
    "    \n",
    "    Reorders the input arrays `xs` and `ys` in ascending order of `xs`.\n",
    "\n",
    "    Args:\n",
    "        xs (numpy.ndarray): The x-axis values \n",
    "        ys (numpy.ndarray): The y-axis values\n",
    "        \n",
    "    Returns:\n",
    "        tuple of numpy arrays (sorted xs, sorted ys)\n",
    "\n",
    "    Bugs:\n",
    "        `xs` or `ys` must be NumPy array\n",
    "        `xs` and `ys`must be same length\n",
    "        \n",
    "    \"\"\"\n",
    "    i = np.argsort(xs)\n",
    "    return xs[i], ys[i]\n",
    "\n",
    "#xlist is the teh index left to highest peak, highest peak, and the index right to teh highest peak\n",
    "def design_matrix(xlist): \n",
    "    \"\"\"\n",
    "    \n",
    "    Constructs a design matrix for quadratic curve fitting.\n",
    "\n",
    "    Args:\n",
    "        xs (numpy.ndarray): The x-axis values \n",
    "\n",
    "    Returns:\n",
    "        3 x 3 design matrix of numpy arrays\n",
    "\n",
    "    Bugs:\n",
    "        xlist must be an numpy array\n",
    "\n",
    "    Note:\n",
    "        Note the factor of 0.5 that Hogg likes and no one else\n",
    "        Also assumes xlist is ordered\n",
    "    \n",
    "    \"\"\"\n",
    "    return (np.vstack((xlist**0,xlist**1,0.5*xlist**2))).T\n",
    "\n",
    "def fit_parabola(xs, ys, index):\n",
    "    \"\"\"\n",
    "\n",
    "    Fits a quadratic function to three consecutive data points. Solves for coefficients (b,m,q) in the quadratic\n",
    "    f(x) = b + m*x + (1/2) * q * x^2\n",
    "\n",
    "    Args:\n",
    "        xs (numpy.ndarray): The x-axis values \n",
    "        ys (numpy.ndarray): The y-axis values\n",
    "        index (int): The index of peak\n",
    "        \n",
    "\n",
    "    Returns:\n",
    "        tuple: (b, m, q)\n",
    "\n",
    "    Bugs: \n",
    "        index-1` or `index+2` can't be out of bounds\n",
    "        ``xs` or `ys` must be NumPy array\n",
    "        \n",
    "    \n",
    "    \"\"\"\n",
    "    return np.linalg.solve(design_matrix(xs[index-1:index+2]), ys[index-1:index+2])\n",
    "\n",
    "def refine_peak(xs, ys, index):\n",
    "    \"\"\"\n",
    "\n",
    "    Refines the peak position using quadratic fit\n",
    "\n",
    "    Args:\n",
    "        xs (numpy.ndarray): The x-axis values \n",
    "        ys (numpy.ndarray): The y-axis values\n",
    "        index (int): The index of peak\n",
    "    \n",
    "    Returns:\n",
    "        3-tuple: (x position of refined peak, y position of refined peak, and second derivative (q))\n",
    "\n",
    "    Bugs:\n",
    "        Must be synchronized with the design matrix\n",
    "        \n",
    "        \n",
    "    \"\"\"\n",
    "    b,m,q = fit_parabola(xs, ys, index)\n",
    "    x_peak = -m / q\n",
    "    return x_peak, 0.5 * q * (x_peak) ** 2 + m * (x_peak) + b, q\n",
    "    \n",
    "def refine_peaks(xs, ys, indices):\n",
    "    \"\"\"\n",
    "\n",
    "    Refines the peak position for a set of indices using quadratic fit\n",
    "\n",
    "    Args:\n",
    "        xs (numpy.ndarray): The x-axis values \n",
    "        ys (numpy.ndarray): The y-axis values\n",
    "        indices (numpy array): indices of the peaks (this should be the output of get_started()\n",
    "\n",
    "    Returns:\n",
    "        three  numpy arrays (array of refined x positions, array of refined y positions, and the second derivatives)\n",
    "    \n",
    "\n",
    "    \"\"\"\n",
    "    foo = lambda i: refine_peak(xs,ys,i)\n",
    "    xs_refined, ys_refined, second_derivatives = zip(*list(map(foo,indices)))\n",
    "    return np.array(xs_refined), np.array(ys_refined), np.array(second_derivatives)\n",
    "\n",
    "\n",
    "def folding_freq(fs, ps, sampling_time, makeplots=False):\n",
    "    \"\"\"\n",
    "    ##bugs:\n",
    "    - assumes fs are ordered\n",
    "    - global delta_f\n",
    "    \"\"\"\n",
    "    fc_guess = 1. / sampling_time\n",
    "    \n",
    "    IA = fs < 0.5 * fc_guess\n",
    "    fsA, psA = fs[IA], ps[IA]\n",
    "    fsA,psA  = fsA[2:-2],  psA[2:-2]\n",
    "    cs = CubicSpline(fs, ps, extrapolate=False)\n",
    "    \n",
    "    small, tiny = 20 * delta_f, 0.25 * delta_f\n",
    "    fc_candidates = np.arange(fc_guess - small, fc_guess + small, tiny)\n",
    "    foos_c = np.array([np.nansum(psA * cs(fc - fsA)) for fc in fc_candidates])\n",
    "    fc_index = get_started(1,fc_candidates, foos_c)\n",
    "    fc, _, _ = refine_peaks(fc_candidates, foos_c, fc_index)\n",
    "    fc = fc[0]\n",
    "    \n",
    "    if makeplots:\n",
    "        plt.plot(fc_candidates, foos_c)\n",
    "        plt.axvline(fc_guess)\n",
    "        plt.axvline(fc, color = 'red', alpha = 0.5)\n",
    "        plt.title(fc)\n",
    "        plt.show()\n",
    "\n",
    "    \n",
    "    return fc\n"
   ]
  },
  {
   "cell_type": "code",
   "execution_count": 3,
   "id": "a0cd0725-f165-4a03-a7a4-4af5b438a9d6",
   "metadata": {},
   "outputs": [],
   "source": [
    "search_result = lk.search_lightcurve('KIC 5202905', mission='Kepler')\n",
    "lc_collection = search_result.download_all()"
   ]
  },
  {
   "cell_type": "code",
   "execution_count": 4,
   "id": "e13f9a97-0898-4ae1-b8ce-026e0ab0b9ef",
   "metadata": {},
   "outputs": [],
   "source": [
    "lc = lc_collection.stitch()\n",
    "total_observation_time = (lc.time[-1] - lc.time[0]).value\n",
    "delta_f = (1/total_observation_time) \n",
    "sampling_time= np.median(np.diff(lc.time.value))"
   ]
  },
  {
   "cell_type": "code",
   "execution_count": 5,
   "id": "7179b4f8-0b9c-4776-b816-a5d9b7cafd9e",
   "metadata": {},
   "outputs": [],
   "source": [
    "f_max = (2 / (sampling_time))\n",
    "f_min = delta_f/3\n",
    "frequency_grid_full = np.arange(f_min, f_max, f_min)/(u.day)"
   ]
  },
  {
   "cell_type": "code",
   "execution_count": 6,
   "id": "ba6a645e-2fe1-4365-91d9-f6195f4a3ef0",
   "metadata": {},
   "outputs": [
    {
     "data": {
      "image/png": "[encoded data removed]",
      "text/plain": [
       "<Figure size 640x480 with 1 Axes>"
      ]
     },
     "metadata": {},
     "output_type": "display_data"
    }
   ],
   "source": [
    "pg_full = lc.to_periodogram(\n",
    "    method='lombscargle',\n",
    "    normalization='psd',\n",
    "    frequency=frequency_grid_full\n",
    ")\n",
    "\n",
    "power_full = pg_full.power.value\n",
    "freq_full = pg_full.frequency.to(1/u.day).value \n",
    "\n",
    "plt.plot(freq_full, power_full,'k.')\n",
    "plt.plot(freq_full, power_full,'k-', lw = 0.5, alpha = 0.5)\n",
    "plt.xlabel(\"Frequency (1/day)\")\n",
    "plt.ylabel(\"Power\")\n",
    "plt.title(\"Lomb-Scargle Periodogram of KIC 5202905\")\n",
    "plt.axvline(1/sampling_time)\n",
    "plt.axvline(1/(2*sampling_time))\n",
    "plt.axvline(3/(2*sampling_time))\n",
    "plt.show() "
   ]
  },
  {
   "cell_type": "code",
   "execution_count": 7,
   "id": "93c4d513-6f8f-4752-a2d1-32eaf0329262",
   "metadata": {},
   "outputs": [],
   "source": [
    "fc = folding_freq(freq_full, power_full, sampling_time, False)"
   ]
  },
  {
   "cell_type": "code",
   "execution_count": 8,
   "id": "eac3aa10-89a1-46ff-9380-6ecddd121b90",
   "metadata": {},
   "outputs": [],
   "source": [
    "#only the first quarter of the periodogram\n",
    "frequency_grid = np.arange(f_min, f_max / 4, f_min) / (u.day)\n",
    "\n",
    "pg = lc.to_periodogram(\n",
    "    method='lombscargle',\n",
    "    normalization='psd',\n",
    "    frequency=frequency_grid\n",
    ")\n",
    "\n",
    "power = pg.power.value\n",
    "freq = pg.frequency.to(1/u.day).value "
   ]
  },
  {
   "cell_type": "code",
   "execution_count": 9,
   "id": "321af23f-b4c5-4e5b-a7f6-a0a2090541ae",
   "metadata": {},
   "outputs": [],
   "source": [
    "t = lc.time.value\n",
    "flux = lc.flux.value\n",
    "sigma = lc.flux_err.value"
   ]
  },
  {
   "cell_type": "code",
   "execution_count": 10,
   "id": "b6bb5bc0-84fc-41fe-8560-1fb58e067b08",
   "metadata": {},
   "outputs": [],
   "source": [
    "t_clean = np.ma.filled(t, np.nan)\n",
    "flux_clean = np.ma.filled(flux, np.nan)\n",
    "sigma_clean = np.ma.filled(sigma, np.nan)\n",
    "\n",
    "mask = np.isfinite(t_clean) & np.isfinite(flux_clean) & np.isfinite(sigma_clean)\n",
    "\n",
    "lc = lc[mask]\n",
    "t_fit = t_clean[mask]\n",
    "flux_fit = flux_clean[mask]\n",
    "sigma_fit = sigma_clean[mask]"
   ]
  },
  {
   "cell_type": "code",
   "execution_count": 16,
   "id": "9776ba6d-ce35-475e-b284-8d91404b8f37",
   "metadata": {},
   "outputs": [],
   "source": [
    "lc_exptime = (6.52 * 270) / (60 * 60 * 24) #days, see Kepler Data Processing Handbook, Section 3.1\n",
    "weight_fit = 1 / sigma_fit**2\n",
    "\n",
    "def integral_design_matrix(ts, om, T):\n",
    "    \"\"\"\n",
    "    ##bugs:\n",
    "    - assumes all data points have the same exposure time, `T`\n",
    "    - not numerically stable when `om * T` is small\n",
    "    \"\"\"\n",
    "    return np.vstack([\n",
    "        np.ones_like(ts),\n",
    "        (+ np.sin(om * (ts + T/2)) - np.sin(om * (ts - T/2))) / (om * T),\n",
    "        (- np.cos(om * (ts + T/2)) + np.cos(om * (ts - T/2))) / (om * T)\n",
    "    ]).T\n",
    "\n",
    "def weighted_least_squares(A, b, weights):\n",
    "    ATA = A.T @ (A * weights[:, np.newaxis])\n",
    "    ATb = A.T @ (b * weights)\n",
    "    return A @ np.linalg.solve(ATA, ATb)\n",
    "\n",
    "def integral_chi_squared(om, ts, ys, ws, T):\n",
    "    A = integral_design_matrix(ts, om, T)\n",
    "    return np.sum(ws * (ys - weighted_least_squares(A, ys, ws))**2)"
   ]
  },
  {
   "cell_type": "code",
   "execution_count": 17,
   "id": "f5460134-990b-41de-8bb7-b5611d9153e2",
   "metadata": {},
   "outputs": [],
   "source": [
    "def integral_chi_squared(om, ts, ys, ws, T):\n",
    "    A = integral_design_matrix(ts, om, T)\n",
    "    return np.sum(ws * (ys - weighted_least_squares(A, ys, ws))**2)"
   ]
  },
  {
   "cell_type": "code",
   "execution_count": 18,
   "id": "e998c851-b13a-4bba-9c0d-60e95855d7f4",
   "metadata": {},
   "outputs": [],
   "source": [
    "def find_min_and_refine(xs,ys):\n",
    "    indxs, properties = find_peaks(-ys)\n",
    "    min_index =  indxs[np.argsort(ys[indxs])[:1]]\n",
    "    refined_x, refined_y, second_derivative = refine_peaks(xs, ys, min_index)\n",
    "    return refined_x, refined_y"
   ]
  },
  {
   "cell_type": "code",
   "execution_count": 19,
   "id": "d7bdcb96-9168-4e8c-a51a-4303e2623535",
   "metadata": {},
   "outputs": [],
   "source": [
    "indices = get_started(1, freq, power)\n",
    "fas, _ , _ = refine_peaks(freq, power, indices)\n",
    "A = fas\n",
    "B = fc - fas\n",
    "C = fc + fas"
   ]
  },
  {
   "cell_type": "code",
   "execution_count": 20,
   "id": "fd71327d-6a7a-4b3d-8310-3b839161f9c2",
   "metadata": {},
   "outputs": [
    {
     "name": "stdout",
     "output_type": "stream",
     "text": [
      "[1306459.375]\n"
     ]
    },
    {
     "data": {
      "image/png": "[encoded data removed]",
      "text/plain": [
       "<Figure size 640x480 with 1 Axes>"
      ]
     },
     "metadata": {},
     "output_type": "display_data"
    }
   ],
   "source": [
    "#chi-squared for A\n",
    "\n",
    "fine_freqsA = np.arange(A[0] - 5 * f_min, A[0] + 5 * f_min, 0.2 * f_min)  \n",
    "chi2_fineA = np.array([integral_chi_squared(2. * np.pi * f, t_fit, flux_fit, weight_fit, lc_exptime) for f in fine_freqsA])\n",
    "best_freqA, best_chi2A = find_min_and_refine(fine_freqsA,chi2_fineA)\n",
    "\n",
    "plt.plot(fine_freqsA, chi2_fineA)\n",
    "plt.title(f\"A Min χ² {best_chi2A}\")\n",
    "plt.axvline(A, color='red', linestyle='--', label = 'A freq')\n",
    "plt.axvline(best_freqA, color='green', alpha = 0.5, label = 'A best (refined)')\n",
    "plt.legend()\n",
    "print(best_chi2A)"
   ]
  },
  {
   "cell_type": "code",
   "execution_count": null,
   "id": "a521365a-9d57-4f3f-a16b-1d09424a3bf4",
   "metadata": {},
   "outputs": [],
   "source": [
    "#chi-squared for B\n",
    "\n",
    "fine_freqsB = np.arange(B[0]- 5 * f_min, B[0] + 5 * f_min, 0.2 * f_min)  \n",
    "chi2_fineB = np.array([integral_chi_squared(2. * np.pi * f, t_fit, flux_fit, weight_fit, lc_exptime) for f in fine_freqsB])\n",
    "best_freqB, best_chi2B = find_min_and_refine(fine_freqsB,chi2_fineB)\n",
    "\n",
    "plt.gca().get_xaxis().get_major_formatter().set_useOffset(False)\n",
    "plt.plot(fine_freqsB, chi2_fineB)\n",
    "plt.title(f\"B Min χ² {best_chi2B}\")\n",
    "plt.axvline(B, color='red', linestyle='--', label = 'B freq')\n",
    "plt.axvline(best_freqB, color='green', alpha = 0.5, label = 'B best (refined)')\n",
    "plt.legend()\n",
    "plt.show()\n"
   ]
  },
  {
   "cell_type": "code",
   "execution_count": null,
   "id": "bb63f829-fac6-43e4-b1ee-f13f322faf22",
   "metadata": {},
   "outputs": [],
   "source": [
    "#chi-squared for C\n",
    "\n",
    "fine_freqsC = np.arange(C[0] - 5 * f_min, C[0] + 5 * f_min, 0.2 * f_min)  \n",
    "chi2_fineC = np.array([integral_chi_squared(2. * np.pi * f, t_fit, flux_fit, weight_fit, lc_exptime) for f in fine_freqsC])\n",
    "best_freqC, best_chi2C = find_min_and_refine(fine_freqsC,chi2_fineC)\n",
    "\n",
    "plt.plot(fine_freqsC, chi2_fineC)\n",
    "plt.title(f\"C Min χ² {best_chi2C}\")\n",
    "plt.axvline(C, color='red', linestyle='--', label = 'C freq')\n",
    "plt.axvline(best_freqC, color='green', alpha = 0.5, label = 'C best (refined)')\n",
    "plt.legend()"
   ]
  },
  {
   "cell_type": "code",
   "execution_count": null,
   "id": "3c172ca8-9ad3-4942-b587-57526fadd6b6",
   "metadata": {},
   "outputs": [],
   "source": [
    "##just define fas to be the refined peaks of the quarter periodogram\n",
    "#then do the operations with fc to find As, Bs, and Cs\n",
    "#then do the chisquared minimum shit for the three corresponding frequencies\n",
    "#out of the three frequencies, lowest chi-squared --> true peak\n",
    "#then take this peak and tets coherence\n"
   ]
  },
  {
   "cell_type": "code",
   "execution_count": null,
   "id": "e5caa9e8-e325-44af-9406-121c11c818c6",
   "metadata": {},
   "outputs": [],
   "source": [
    "nu = best_freqB"
   ]
  },
  {
   "cell_type": "code",
   "execution_count": null,
   "id": "10a348d6-489c-4cc0-b532-7011c739e8ae",
   "metadata": {},
   "outputs": [],
   "source": [
    "def check_coherence(ts, ys, weights, om):\n",
    "    \"\"\"\n",
    "    assumes a lot of things about the data\n",
    "    \"\"\"\n",
    "    axes, As,Bs, traces, dets = [],[], [], [], []\n",
    "    cases = [(np.ones_like(ts).astype(bool), \"all\"),\n",
    "             (ts < np.median(ts), \"early\"),\n",
    "             (ts > np.median(ts), \"late\")]\n",
    "    for I, name in cases:\n",
    "        A = integral_design_matrix(ts[I], om, lc_exptime)\n",
    "        pars, invar, trace, det = weighted_least_squares(A, ys[I], weights[I])\n",
    "        a,b = pars[1], pars[2]\n",
    "        As.append(a)\n",
    "        Bs.append(b)\n",
    "        traces.append(trace)\n",
    "        dets.append(det)\n",
    "        covariance = np.linalg.inv(invar)\n",
    "        covariance2 = covariance[1:, 1:]\n",
    "        eigvals, eigvecs = np.linalg.eigh(covariance2)\n",
    "        axis1 = np.sqrt(eigvals)*eigvecs[:, 0] \n",
    "        axis2 = np.sqrt(eigvals)*eigvecs[:, 1] \n",
    "        axes.append((axis1, axis2))\n",
    "    return axes[0], axes[1], axes[2], As, Bs, traces, dets"
   ]
  },
  {
   "cell_type": "code",
   "execution_count": null,
   "id": "544c90cc-85a2-4a2a-99ea-fe4f63cb7d59",
   "metadata": {},
   "outputs": [],
   "source": [
    "all, early, late, As, Bs, traces, dets = check_coherence(t_fit, flux_fit, weight_fit, 2. * np.pi * nu)"
   ]
  },
  {
   "cell_type": "code",
   "execution_count": null,
   "id": "8f69e49c-7930-4566-b181-50944a34aec2",
   "metadata": {},
   "outputs": [],
   "source": []
  }
 ],
 "metadata": {
  "kernelspec": {
   "display_name": "Python 3 (ipykernel)",
   "language": "python",
   "name": "python3"
  },
  "language_info": {
   "codemirror_mode": {
    "name": "ipython",
    "version": 3
   },
   "file_extension": ".py",
   "mimetype": "text/x-python",
   "name": "python",
   "nbconvert_exporter": "python",
   "pygments_lexer": "ipython3",
   "version": "3.12.9"
  }
 },
 "nbformat": 4,
 "nbformat_minor": 5
}
